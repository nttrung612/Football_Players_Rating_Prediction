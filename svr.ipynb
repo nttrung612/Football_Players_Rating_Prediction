{
 "cells": [
  {
   "cell_type": "code",
   "execution_count": 1,
   "metadata": {},
   "source": [
    "import numpy as np\n",
    "import pandas as pd\n",
    "import matplotlib.pyplot as plt\n",
    "import seaborn as sns\n",
    "\n",
    "from sklearn.preprocessing import StandardScaler\n",
    "from sklearn.tree import DecisionTreeRegressor\n",
    "from sklearn.ensemble import RandomForestRegressor, AdaBoostRegressor, GradientBoostingRegressor\n",
    "from category_encoders import TargetEncoder\n",
    "from sklearn.pipeline import Pipeline\n",
    "from sklearn.svm import SVR\n",
    "from sklearn.model_selection import cross_val_score, KFold, GridSearchCV, RandomizedSearchCV, train_test_split\n",
    "\n",
    "df = pd.read_csv('data.csv')\n",
    "\n",
    "X = df.drop('overall_rating', axis=1)\n",
    "y = df['overall_rating']\n",
    "\n",
    "X_train, X_test, y_train, y_test = train_test_split(X, y, test_size=0.15, random_state=42)"
   ],
   "outputs": []
  },
  {
   "cell_type": "code",
   "execution_count": 2,
   "metadata": {},
   "source": [
    "from sklearn.metrics import mean_squared_error, mean_absolute_error, r2_score\n",
    "\n",
    "def evaluate_model(model, X, y):\n",
    "    y_pred = model.predict(X)\n",
    "    mse = mean_squared_error(y, y_pred)\n",
    "    mae = mean_absolute_error(y, y_pred)\n",
    "    r2 = r2_score(y, y_pred)\n",
    "    return mse, mae, r2\n",
    "\n",
    "def print_metrics(mse, mae, r2):\n",
    "    print(f'MSE: {mse:.3f}')\n",
    "    print(f'MAE: {mae:.3f}')\n",
    "    print(f'R2: {r2:.3f}')"
   ],
   "outputs": []
  },
  {
   "cell_type": "code",
   "execution_count": 3,
   "metadata": {},
   "source": [
    "from sklearn.model_selection import cross_validate\n",
    "from sklearn.metrics import make_scorer\n",
    "from sklearn.metrics import r2_score, mean_absolute_error, mean_squared_error\n",
    "from sklearn.model_selection import KFold\n",
    "\n",
    "def cv_evaluate(model, X, y):\n",
    "    cv = KFold(n_splits=5, shuffle=True, random_state=42)\n",
    "\n",
    "    scoring = {\n",
    "        'r2': make_scorer(r2_score),\n",
    "        'mae': make_scorer(mean_absolute_error),\n",
    "        'mse': make_scorer(mean_squared_error)\n",
    "    }\n",
    "    cv_results = cross_validate(model, X, y, cv=cv, scoring=scoring, return_train_score=False)\n",
    "\n",
    "    for key in cv_results.keys():\n",
    "        if key in ['fit_time', 'score_time']:\n",
    "            continue\n",
    "        print(f\"{key}: {cv_results[key]}\")\n",
    "        print(f\"{key} trung bình: {cv_results[key].mean():.3f} ± {cv_results[key].std():.3f}\")\n",
    "        print()"
   ],
   "outputs": []
  },
  {
   "cell_type": "code",
   "execution_count": 4,
   "metadata": {},
   "source": [
    "pipeline = Pipeline([\n",
    "    ('te', TargetEncoder(cols=['nationality'])),\n",
    "    ('scaler', StandardScaler()),\n",
    "    ('svr', SVR())\n",
    "])\n",
    "pipeline.fit(X_train, y_train)"
   ],
   "outputs": []
  },
  {
   "cell_type": "code",
   "execution_count": 5,
   "metadata": {},
   "source": [
    "print_metrics(*evaluate_model(pipeline, X_train, y_train))"
   ],
   "outputs": []
  },
  {
   "cell_type": "code",
   "execution_count": 6,
   "metadata": {},
   "source": [
    "print_metrics(*evaluate_model(pipeline, X_test, y_test))"
   ],
   "outputs": []
  },
  {
   "cell_type": "code",
   "execution_count": null,
   "metadata": {},
   "source": [
    "cv_evaluate(pipeline, X, y)"
   ],
   "outputs": []
  },
  {
   "cell_type": "markdown",
   "metadata": {},
   "source": [
    "## Use validation set to optimize params"
   ]
  },
  {
   "cell_type": "code",
   "execution_count": 7,
   "metadata": {},
   "source": [
    "X_train, X_test, y_train, y_test = train_test_split(X, y, test_size=0.15, random_state=42)\n",
    "# X_train, X_val, y_train, y_val = train_test_split(X_train, y_train, test_size=0.1, random_state=42)\n",
    "\n",
    "pipeline = Pipeline([\n",
    "    ('te', TargetEncoder(cols=['nationality'])),\n",
    "    ('scaler', StandardScaler()),\n",
    "    ('svr', SVR())\n",
    "])"
   ],
   "outputs": []
  },
  {
   "cell_type": "code",
   "execution_count": 8,
   "metadata": {},
   "source": [
    "param_grid = {\n",
    "    'svr__C': [0.1, 1, 10],\n",
    "    'svr__gamma': ['scale', 'auto'],\n",
    "    'svr__kernel': ['rbf', 'linear', 'poly'],\n",
    "}\n",
    "\n",
    "cv = KFold(n_splits=5, shuffle=True, random_state=42)\n",
    "\n",
    "grid_search = GridSearchCV(pipeline, param_grid, cv=cv, n_jobs=-1, verbose=1, scoring='neg_mean_squared_error')\n",
    "grid_search.fit(X_train, y_train)"
   ],
   "outputs": []
  },
  {
   "cell_type": "code",
   "execution_count": 9,
   "metadata": {},
   "source": [
    "print('Best params:', grid_search.best_params_)\n",
    "print('Best score:', -grid_search.best_score_)"
   ],
   "outputs": []
  },
  {
   "cell_type": "code",
   "execution_count": 10,
   "metadata": {},
   "source": [
    "final_model = grid_search.best_estimator_\n",
    "\n",
    "final_model.fit(X_train, y_train)\n",
    "\n",
    "print(\"=== Đánh Giá Mô Hình SVR Sau Khi GridSearch ===\")\n",
    "print(\"Training Set:\")\n",
    "print_metrics(*evaluate_model(final_model, X_train, y_train))\n",
    "print(\"\\nTest Set:\")\n",
    "print_metrics(*evaluate_model(final_model, X_test, y_test))"
   ],
   "outputs": []
  },
  {
   "cell_type": "code",
   "execution_count": 18,
   "metadata": {},
   "source": [
    "cv_evaluate(final_model, X, y)"
   ],
   "outputs": []
  },
  {
   "cell_type": "code",
   "execution_count": 11,
   "metadata": {},
   "source": [
    "svr = final_model.named_steps['svr']\n",
    "svr"
   ],
   "outputs": []
  },
  {
   "cell_type": "code",
   "execution_count": 12,
   "metadata": {},
   "source": [
    "import joblib\n",
    "\n",
    "joblib.dump(svr, 'svr_model.pkl')\n",
    "print(\"Mô hình SVR đã được lưu thành công dưới tên 'svr_model.pkl'\")"
   ],
   "outputs": []
  },
  {
   "cell_type": "code",
   "execution_count": 13,
   "metadata": {},
   "source": [
    "import joblib\n",
    "\n",
    "svr = joblib.load('svr_model.pkl')\n",
    "\n",
    "print(\"Mô hình SVR đã được tải lại thành công.\")"
   ],
   "outputs": []
  },
  {
   "cell_type": "code",
   "execution_count": 14,
   "metadata": {},
   "source": [
    "pipeline = Pipeline([\n",
    "    ('te', TargetEncoder(cols=['nationality'])),\n",
    "    ('scaler', StandardScaler()),\n",
    "    ('svr', svr)\n",
    "])\n",
    "pipeline.fit(X_train, y_train)"
   ],
   "outputs": []
  },
  {
   "cell_type": "code",
   "execution_count": 15,
   "metadata": {},
   "source": [
    "y_pred = pipeline.predict(X_test)\n",
    "\n",
    "predictions_df = pd.DataFrame({\n",
    "    'Actual': y_test,\n",
    "    'Predicted': y_pred\n",
    "})"
   ],
   "outputs": []
  },
  {
   "cell_type": "code",
   "execution_count": 16,
   "metadata": {},
   "source": [
    "sorted_predictions_df = predictions_df.reset_index(drop=True)\n",
    "print(sorted_predictions_df.head(20))"
   ],
   "outputs": []
  },
  {
   "cell_type": "markdown",
   "metadata": {},
   "source": [
    "# Bayes optimization"
   ]
  },
  {
   "cell_type": "code",
   "execution_count": 6,
   "metadata": {},
   "source": [
    "import optuna\n",
    "\n",
    "def objective(trial):\n",
    "    params = {\n",
    "        'C': trial.suggest_float('C', 0.1, 15),\n",
    "        'gamma': trial.suggest_categorical('gamma', ['scale', 'auto']),\n",
    "        # 'kernel': trial.suggest_categorical('kernel', ['rbf', 'linear', 'poly'])\n",
    "    }\n",
    "\n",
    "    pipeline = Pipeline([\n",
    "        ('te', TargetEncoder(cols=['nationality'])),\n",
    "        ('scaler', StandardScaler()),\n",
    "        ('svr', SVR(**params))\n",
    "    ])\n",
    "\n",
    "    cv = KFold(n_splits=5, shuffle=True, random_state=42)\n",
    "\n",
    "    score = cross_val_score(pipeline, X_train, y_train, cv=cv, scoring='r2').mean()\n",
    "    return score\n",
    "\n",
    "study = optuna.create_study(direction='maximize')\n",
    "study.optimize(objective, n_trials=100)\n",
    "\n",
    "print(f'Best params: {study.best_params}')"
   ],
   "outputs": []
  },
  {
   "cell_type": "code",
   "execution_count": null,
   "metadata": {},
   "source": [
    "numerical_features = X.select_dtypes(include=[np.number]).columns"
   ],
   "outputs": []
  },
  {
   "cell_type": "code",
   "execution_count": 7,
   "metadata": {},
   "source": [
    "best_svr = SVR(**study.best_params)\n",
    "\n",
    "pipeline = Pipeline([\n",
    "    ('te', TargetEncoder(cols=['nationality'])),\n",
    "    ('scaler', StandardScaler()),\n",
    "    ('svr', best_svr)\n",
    "])\n",
    "pipeline.fit(X_train, y_train)"
   ],
   "outputs": []
  },
  {
   "cell_type": "code",
   "execution_count": 4,
   "metadata": {},
   "source": [
    "\n",
    "pipeline = Pipeline([\n",
    "    ('te', TargetEncoder(cols=['nationality'])),\n",
    "    ('scaler', StandardScaler()),\n",
    "    ('svr', SVR(C=12.926006289958659, gamma='scale'))\n",
    "])\n",
    "pipeline.fit(X_train, y_train)"
   ],
   "outputs": []
  },
  {
   "cell_type": "code",
   "execution_count": 5,
   "metadata": {},
   "source": [
    "print('Training Set:')\n",
    "print_metrics(*evaluate_model(pipeline, X_train, y_train))\n",
    "\n",
    "print('\\nTest Set:')\n",
    "print_metrics(*evaluate_model(pipeline, X_test, y_test))"
   ],
   "outputs": []
  },
  {
   "cell_type": "code",
   "execution_count": 11,
   "metadata": {},
   "source": [
    "import pickle\n",
    "\n",
    "# Access each step separately\n",
    "target_encoder = pipeline.named_steps['te']\n",
    "scaler = pipeline.named_steps['scaler']\n",
    "\n",
    "# Combine them into a tuple or list\n",
    "preprocessor = (target_encoder, scaler)\n",
    "\n",
    "with open('preprocessor.pkl', 'wb') as f:\n",
    "    pickle.dump(preprocessor, f)\n",
    "\n",
    "print(\"Preprocessor đã được lưu thành công dưới tên 'preprocessor.pkl'\")"
   ],
   "outputs": []
  },
  {
   "cell_type": "code",
   "execution_count": 9,
   "metadata": {},
   "source": [
    "import pickle\n",
    "with open('pipeline.pkl', 'wb') as f:\n",
    "    pickle.dump(pipeline, f)\n",
    "\n",
    "print(\"Mô hình SVR đã được lưu thành công dưới tên 'pipeline.pkl'\")"
   ],
   "outputs": []
  },
  {
   "cell_type": "code",
   "execution_count": null,
   "metadata": {},
   "source": [],
   "outputs": []
  },
  {
   "cell_type": "code",
   "execution_count": null,
   "metadata": {},
   "source": [],
   "outputs": []
  },
  {
   "cell_type": "code",
   "execution_count": 8,
   "metadata": {},
   "source": [
    "print('Training Set:')\n",
    "print_metrics(*evaluate_model(pipeline, X_train, y_train))\n",
    "\n",
    "print('\\nTest Set:')\n",
    "print_metrics(*evaluate_model(pipeline, X_test, y_test))"
   ],
   "outputs": []
  },
  {
   "cell_type": "code",
   "execution_count": 9,
   "metadata": {},
   "source": [
    "cv_evaluate(pipeline, X, y)"
   ],
   "outputs": []
  }
 ],
 "metadata": {
  "kernelspec": {
   "display_name": "Python 3",
   "language": "python",
   "name": "python3"
  },
  "language_info": {
   "codemirror_mode": {
    "name": "ipython",
    "version": 3
   },
   "file_extension": ".py",
   "mimetype": "text/x-python",
   "name": "python",
   "nbconvert_exporter": "python",
   "pygments_lexer": "ipython3",
   "version": "3.12.6"
  }
 },
 "nbformat": 4,
 "nbformat_minor": 2
}
