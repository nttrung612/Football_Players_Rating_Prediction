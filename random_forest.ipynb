{
 "cells": [
  {
   "cell_type": "code",
   "execution_count": 117,
   "metadata": {},
   "outputs": [],
   "source": [
    "import numpy as np\n",
    "import pandas as pd\n",
    "import matplotlib.pyplot as plt"
   ]
  },
  {
   "cell_type": "code",
   "execution_count": 118,
   "metadata": {},
   "outputs": [],
   "source": [
    "df = pd.read_csv('data.csv')"
   ]
  },
  {
   "cell_type": "code",
   "execution_count": 119,
   "metadata": {},
   "outputs": [],
   "source": [
    "from sklearn.model_selection import train_test_split\n",
    "from sklearn.metrics import mean_squared_error, mean_absolute_error, r2_score\n",
    "\n",
    "X = df.drop('overall_rating', axis=1)\n",
    "y = df['overall_rating']\n",
    "\n",
    "X_train, X_test, y_train, y_test = train_test_split(X, y, test_size=1/3, random_state=42)"
   ]
  },
  {
   "cell_type": "code",
   "execution_count": 120,
   "metadata": {},
   "outputs": [
    {
     "name": "stdout",
     "output_type": "stream",
     "text": [
      "Train Set:\n",
      "MSE: 1.187132047905243\n",
      "MAE: 0.6863472766979463\n",
      "R2: 0.9751626576310508\n",
      "\n",
      "Test Set:\n",
      "MSE: 3.160691268348987\n",
      "MAE: 1.1840973686730287\n",
      "R2: 0.9354730626093268\n",
      "\n",
      "Data Set:\n",
      "MSE: 1.8450308183212984\n",
      "MAE: 0.8522754992172865\n",
      "R2: 0.9617165809426073\n"
     ]
    }
   ],
   "source": [
    "from sklearn.ensemble import RandomForestRegressor\n",
    "\n",
    "rf = RandomForestRegressor(random_state=42, n_jobs=-1 , n_estimators=122 , max_depth=25 , min_samples_split=3,min_samples_leaf = 3, bootstrap=True, max_features = 'sqrt' )\n",
    "rf.fit(X_train, y_train)\n",
    "\n",
    "y_train_pred = rf.predict(X_train)\n",
    "\n",
    "y_pred = rf.predict(X_test)\n",
    "\n",
    "y_data = rf.predict(X)\n",
    "\n",
    "print('Train Set:')\n",
    "print(f'MSE: {mean_squared_error(y_train, y_train_pred)}')\n",
    "print(f'MAE: {mean_absolute_error(y_train, y_train_pred)}')\n",
    "print(f'R2: {r2_score(y_train, y_train_pred)}')\n",
    "\n",
    "print()\n",
    "\n",
    "print('Test Set:')\n",
    "print(f'MSE: {mean_squared_error(y_test, y_pred)}')\n",
    "print(f'MAE: {mean_absolute_error(y_test, y_pred)}')\n",
    "print(f'R2: {r2_score(y_test, y_pred)}')\n",
    "\n",
    "print()\n",
    "\n",
    "print('Data Set:')\n",
    "print(f'MSE: {mean_squared_error(y, y_data)}')\n",
    "print(f'MAE: {mean_absolute_error(y, y_data)}')\n",
    "print(f'R2: {r2_score(y, y_data)}')"
   ]
  }
 ],
 "metadata": {
  "kernelspec": {
   "display_name": "Python 3",
   "language": "python",
   "name": "python3"
  },
  "language_info": {
   "codemirror_mode": {
    "name": "ipython",
    "version": 3
   },
   "file_extension": ".py",
   "mimetype": "text/x-python",
   "name": "python",
   "nbconvert_exporter": "python",
   "pygments_lexer": "ipython3",
   "version": "3.11.9"
  }
 },
 "nbformat": 4,
 "nbformat_minor": 2
}
