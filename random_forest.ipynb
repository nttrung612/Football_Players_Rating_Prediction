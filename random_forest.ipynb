{
 "cells": [
  {
   "cell_type": "code",
   "execution_count": 6,
   "metadata": {},
   "outputs": [],
   "source": [
    "import numpy as np\n",
    "import pandas as pd\n",
    "import matplotlib.pyplot as plt\n",
    "import optuna"
   ]
  },
  {
   "cell_type": "code",
   "execution_count": 7,
   "metadata": {},
   "outputs": [],
   "source": [
    "df = pd.read_csv('data.csv')"
   ]
  },
  {
   "cell_type": "code",
   "execution_count": 8,
   "metadata": {},
   "outputs": [],
   "source": [
    "from sklearn.model_selection import train_test_split, cross_val_score\n",
    "from sklearn.metrics import mean_squared_error, mean_absolute_error, r2_score\n",
    "\n",
    "X = df.drop('overall_rating', axis=1)\n",
    "y = df['overall_rating']\n",
    "X_train, X_test, y_train, y_test = train_test_split(X, y, test_size=1/3, random_state=42)"
   ]
  },
  {
   "cell_type": "code",
   "execution_count": 9,
   "metadata": {},
   "outputs": [
    {
     "data": {
      "text/html": [
       "<style>#sk-container-id-2 {color: black;}#sk-container-id-2 pre{padding: 0;}#sk-container-id-2 div.sk-toggleable {background-color: white;}#sk-container-id-2 label.sk-toggleable__label {cursor: pointer;display: block;width: 100%;margin-bottom: 0;padding: 0.3em;box-sizing: border-box;text-align: center;}#sk-container-id-2 label.sk-toggleable__label-arrow:before {content: \"▸\";float: left;margin-right: 0.25em;color: #696969;}#sk-container-id-2 label.sk-toggleable__label-arrow:hover:before {color: black;}#sk-container-id-2 div.sk-estimator:hover label.sk-toggleable__label-arrow:before {color: black;}#sk-container-id-2 div.sk-toggleable__content {max-height: 0;max-width: 0;overflow: hidden;text-align: left;background-color: #f0f8ff;}#sk-container-id-2 div.sk-toggleable__content pre {margin: 0.2em;color: black;border-radius: 0.25em;background-color: #f0f8ff;}#sk-container-id-2 input.sk-toggleable__control:checked~div.sk-toggleable__content {max-height: 200px;max-width: 100%;overflow: auto;}#sk-container-id-2 input.sk-toggleable__control:checked~label.sk-toggleable__label-arrow:before {content: \"▾\";}#sk-container-id-2 div.sk-estimator input.sk-toggleable__control:checked~label.sk-toggleable__label {background-color: #d4ebff;}#sk-container-id-2 div.sk-label input.sk-toggleable__control:checked~label.sk-toggleable__label {background-color: #d4ebff;}#sk-container-id-2 input.sk-hidden--visually {border: 0;clip: rect(1px 1px 1px 1px);clip: rect(1px, 1px, 1px, 1px);height: 1px;margin: -1px;overflow: hidden;padding: 0;position: absolute;width: 1px;}#sk-container-id-2 div.sk-estimator {font-family: monospace;background-color: #f0f8ff;border: 1px dotted black;border-radius: 0.25em;box-sizing: border-box;margin-bottom: 0.5em;}#sk-container-id-2 div.sk-estimator:hover {background-color: #d4ebff;}#sk-container-id-2 div.sk-parallel-item::after {content: \"\";width: 100%;border-bottom: 1px solid gray;flex-grow: 1;}#sk-container-id-2 div.sk-label:hover label.sk-toggleable__label {background-color: #d4ebff;}#sk-container-id-2 div.sk-serial::before {content: \"\";position: absolute;border-left: 1px solid gray;box-sizing: border-box;top: 0;bottom: 0;left: 50%;z-index: 0;}#sk-container-id-2 div.sk-serial {display: flex;flex-direction: column;align-items: center;background-color: white;padding-right: 0.2em;padding-left: 0.2em;position: relative;}#sk-container-id-2 div.sk-item {position: relative;z-index: 1;}#sk-container-id-2 div.sk-parallel {display: flex;align-items: stretch;justify-content: center;background-color: white;position: relative;}#sk-container-id-2 div.sk-item::before, #sk-container-id-2 div.sk-parallel-item::before {content: \"\";position: absolute;border-left: 1px solid gray;box-sizing: border-box;top: 0;bottom: 0;left: 50%;z-index: -1;}#sk-container-id-2 div.sk-parallel-item {display: flex;flex-direction: column;z-index: 1;position: relative;background-color: white;}#sk-container-id-2 div.sk-parallel-item:first-child::after {align-self: flex-end;width: 50%;}#sk-container-id-2 div.sk-parallel-item:last-child::after {align-self: flex-start;width: 50%;}#sk-container-id-2 div.sk-parallel-item:only-child::after {width: 0;}#sk-container-id-2 div.sk-dashed-wrapped {border: 1px dashed gray;margin: 0 0.4em 0.5em 0.4em;box-sizing: border-box;padding-bottom: 0.4em;background-color: white;}#sk-container-id-2 div.sk-label label {font-family: monospace;font-weight: bold;display: inline-block;line-height: 1.2em;}#sk-container-id-2 div.sk-label-container {text-align: center;}#sk-container-id-2 div.sk-container {/* jupyter's `normalize.less` sets `[hidden] { display: none; }` but bootstrap.min.css set `[hidden] { display: none !important; }` so we also need the `!important` here to be able to override the default hidden behavior on the sphinx rendered scikit-learn.org. See: https://github.com/scikit-learn/scikit-learn/issues/21755 */display: inline-block !important;position: relative;}#sk-container-id-2 div.sk-text-repr-fallback {display: none;}</style><div id=\"sk-container-id-2\" class=\"sk-top-container\"><div class=\"sk-text-repr-fallback\"><pre>Pipeline(steps=[(&#x27;encoder&#x27;, TargetEncoder(cols=[&#x27;nationality&#x27;])),\n",
       "                (&#x27;model&#x27;, RandomForestRegressor(random_state=42))])</pre><b>In a Jupyter environment, please rerun this cell to show the HTML representation or trust the notebook. <br />On GitHub, the HTML representation is unable to render, please try loading this page with nbviewer.org.</b></div><div class=\"sk-container\" hidden><div class=\"sk-item sk-dashed-wrapped\"><div class=\"sk-label-container\"><div class=\"sk-label sk-toggleable\"><input class=\"sk-toggleable__control sk-hidden--visually\" id=\"sk-estimator-id-4\" type=\"checkbox\" ><label for=\"sk-estimator-id-4\" class=\"sk-toggleable__label sk-toggleable__label-arrow\">Pipeline</label><div class=\"sk-toggleable__content\"><pre>Pipeline(steps=[(&#x27;encoder&#x27;, TargetEncoder(cols=[&#x27;nationality&#x27;])),\n",
       "                (&#x27;model&#x27;, RandomForestRegressor(random_state=42))])</pre></div></div></div><div class=\"sk-serial\"><div class=\"sk-item\"><div class=\"sk-estimator sk-toggleable\"><input class=\"sk-toggleable__control sk-hidden--visually\" id=\"sk-estimator-id-5\" type=\"checkbox\" ><label for=\"sk-estimator-id-5\" class=\"sk-toggleable__label sk-toggleable__label-arrow\">TargetEncoder</label><div class=\"sk-toggleable__content\"><pre>TargetEncoder(cols=[&#x27;nationality&#x27;])</pre></div></div></div><div class=\"sk-item\"><div class=\"sk-estimator sk-toggleable\"><input class=\"sk-toggleable__control sk-hidden--visually\" id=\"sk-estimator-id-6\" type=\"checkbox\" ><label for=\"sk-estimator-id-6\" class=\"sk-toggleable__label sk-toggleable__label-arrow\">RandomForestRegressor</label><div class=\"sk-toggleable__content\"><pre>RandomForestRegressor(random_state=42)</pre></div></div></div></div></div></div></div>"
      ],
      "text/plain": [
       "Pipeline(steps=[('encoder', TargetEncoder(cols=['nationality'])),\n",
       "                ('model', RandomForestRegressor(random_state=42))])"
      ]
     },
     "execution_count": 9,
     "metadata": {},
     "output_type": "execute_result"
    }
   ],
   "source": [
    "from category_encoders import TargetEncoder\n",
    "from sklearn.ensemble import RandomForestRegressor\n",
    "from sklearn.pipeline import Pipeline\n",
    "pipeline = Pipeline([\n",
    "    ('encoder', TargetEncoder(cols=['nationality'])),\n",
    "    ('model', RandomForestRegressor(random_state=42))\n",
    "])\n",
    "pipeline.fit(X_train, y_train)"
   ]
  },
  {
   "cell_type": "code",
   "execution_count": 10,
   "metadata": {},
   "outputs": [
    {
     "name": "stderr",
     "output_type": "stream",
     "text": [
      "[I 2024-12-24 01:19:10,102] A new study created in memory with name: no-name-3c992034-d8be-4e61-8b84-6f3ab06ad9cd\n",
      "[I 2024-12-24 01:19:12,126] Trial 0 finished with value: 0.909022235918903 and parameters: {'n_estimators': 83, 'max_depth': 29, 'min_samples_split': 2, 'min_samples_leaf': 5, 'max_features': 'sqrt'}. Best is trial 0 with value: 0.909022235918903.\n",
      "[I 2024-12-24 01:19:13,931] Trial 1 finished with value: 0.8582769213661725 and parameters: {'n_estimators': 134, 'max_depth': 7, 'min_samples_split': 8, 'min_samples_leaf': 5, 'max_features': 'sqrt'}. Best is trial 0 with value: 0.909022235918903.\n",
      "[I 2024-12-24 01:19:17,840] Trial 2 finished with value: 0.9118564810499311 and parameters: {'n_estimators': 179, 'max_depth': 30, 'min_samples_split': 9, 'min_samples_leaf': 2, 'max_features': 'sqrt'}. Best is trial 2 with value: 0.9118564810499311.\n",
      "[I 2024-12-24 01:19:18,342] Trial 3 finished with value: 0.7913680108463951 and parameters: {'n_estimators': 84, 'max_depth': 5, 'min_samples_split': 2, 'min_samples_leaf': 5, 'max_features': 'sqrt'}. Best is trial 2 with value: 0.9118564810499311.\n",
      "[I 2024-12-24 01:19:20,639] Trial 4 finished with value: 0.9123691345464253 and parameters: {'n_estimators': 112, 'max_depth': 28, 'min_samples_split': 7, 'min_samples_leaf': 1, 'max_features': 'sqrt'}. Best is trial 4 with value: 0.9123691345464253.\n",
      "[I 2024-12-24 01:19:22,106] Trial 5 finished with value: 0.9083421882045528 and parameters: {'n_estimators': 91, 'max_depth': 13, 'min_samples_split': 8, 'min_samples_leaf': 1, 'max_features': 'sqrt'}. Best is trial 4 with value: 0.9123691345464253.\n",
      "[I 2024-12-24 01:19:24,065] Trial 6 finished with value: 0.9102813017039251 and parameters: {'n_estimators': 123, 'max_depth': 30, 'min_samples_split': 8, 'min_samples_leaf': 4, 'max_features': 'sqrt'}. Best is trial 4 with value: 0.9123691345464253.\n",
      "[I 2024-12-24 01:19:27,051] Trial 7 finished with value: 0.9118329038249599 and parameters: {'n_estimators': 177, 'max_depth': 25, 'min_samples_split': 9, 'min_samples_leaf': 2, 'max_features': 'sqrt'}. Best is trial 4 with value: 0.9123691345464253.\n",
      "[I 2024-12-24 01:19:30,053] Trial 8 finished with value: 0.9112759008591478 and parameters: {'n_estimators': 169, 'max_depth': 15, 'min_samples_split': 8, 'min_samples_leaf': 1, 'max_features': 'sqrt'}. Best is trial 4 with value: 0.9123691345464253.\n",
      "[I 2024-12-24 01:19:32,238] Trial 9 finished with value: 0.9064869485896437 and parameters: {'n_estimators': 189, 'max_depth': 17, 'min_samples_split': 6, 'min_samples_leaf': 4, 'max_features': 'log2'}. Best is trial 4 with value: 0.9123691345464253.\n",
      "[I 2024-12-24 01:19:33,316] Trial 10 finished with value: 0.9068382083041087 and parameters: {'n_estimators': 58, 'max_depth': 23, 'min_samples_split': 5, 'min_samples_leaf': 2, 'max_features': 'log2'}. Best is trial 4 with value: 0.9123691345464253.\n",
      "[I 2024-12-24 01:19:35,210] Trial 11 finished with value: 0.9071403400397934 and parameters: {'n_estimators': 146, 'max_depth': 23, 'min_samples_split': 10, 'min_samples_leaf': 2, 'max_features': 'log2'}. Best is trial 4 with value: 0.9123691345464253.\n",
      "[I 2024-12-24 01:19:37,874] Trial 12 finished with value: 0.9130058900624081 and parameters: {'n_estimators': 111, 'max_depth': 26, 'min_samples_split': 5, 'min_samples_leaf': 1, 'max_features': 'sqrt'}. Best is trial 12 with value: 0.9130058900624081.\n",
      "[I 2024-12-24 01:19:40,756] Trial 13 finished with value: 0.9130752637214823 and parameters: {'n_estimators': 117, 'max_depth': 25, 'min_samples_split': 4, 'min_samples_leaf': 1, 'max_features': 'sqrt'}. Best is trial 13 with value: 0.9130752637214823.\n",
      "[I 2024-12-24 01:19:42,381] Trial 14 finished with value: 0.9073179005413137 and parameters: {'n_estimators': 106, 'max_depth': 20, 'min_samples_split': 4, 'min_samples_leaf': 3, 'max_features': 'log2'}. Best is trial 13 with value: 0.9130752637214823.\n",
      "[I 2024-12-24 01:19:46,082] Trial 15 finished with value: 0.9133708744491674 and parameters: {'n_estimators': 149, 'max_depth': 25, 'min_samples_split': 4, 'min_samples_leaf': 1, 'max_features': 'sqrt'}. Best is trial 15 with value: 0.9133708744491674.\n",
      "[I 2024-12-24 01:19:48,866] Trial 16 finished with value: 0.9119337926041873 and parameters: {'n_estimators': 158, 'max_depth': 20, 'min_samples_split': 3, 'min_samples_leaf': 3, 'max_features': 'sqrt'}. Best is trial 15 with value: 0.9133708744491674.\n",
      "[I 2024-12-24 01:19:50,807] Trial 17 finished with value: 0.9026648662899159 and parameters: {'n_estimators': 142, 'max_depth': 11, 'min_samples_split': 4, 'min_samples_leaf': 1, 'max_features': 'sqrt'}. Best is trial 15 with value: 0.9133708744491674.\n",
      "[I 2024-12-24 01:19:53,402] Trial 18 finished with value: 0.9091707386781506 and parameters: {'n_estimators': 157, 'max_depth': 21, 'min_samples_split': 4, 'min_samples_leaf': 2, 'max_features': 'log2'}. Best is trial 15 with value: 0.9133708744491674.\n",
      "[I 2024-12-24 01:19:56,861] Trial 19 finished with value: 0.9122919963986753 and parameters: {'n_estimators': 199, 'max_depth': 26, 'min_samples_split': 3, 'min_samples_leaf': 3, 'max_features': 'sqrt'}. Best is trial 15 with value: 0.9133708744491674.\n",
      "[I 2024-12-24 01:19:58,401] Trial 20 finished with value: 0.911682282716022 and parameters: {'n_estimators': 66, 'max_depth': 18, 'min_samples_split': 6, 'min_samples_leaf': 1, 'max_features': 'sqrt'}. Best is trial 15 with value: 0.9133708744491674.\n",
      "[I 2024-12-24 01:20:01,213] Trial 21 finished with value: 0.9132278662350922 and parameters: {'n_estimators': 120, 'max_depth': 26, 'min_samples_split': 5, 'min_samples_leaf': 1, 'max_features': 'sqrt'}. Best is trial 15 with value: 0.9133708744491674.\n",
      "[I 2024-12-24 01:20:04,264] Trial 22 finished with value: 0.9131534353362714 and parameters: {'n_estimators': 126, 'max_depth': 24, 'min_samples_split': 5, 'min_samples_leaf': 1, 'max_features': 'sqrt'}. Best is trial 15 with value: 0.9133708744491674.\n",
      "[I 2024-12-24 01:20:07,068] Trial 23 finished with value: 0.9128588915985443 and parameters: {'n_estimators': 135, 'max_depth': 23, 'min_samples_split': 5, 'min_samples_leaf': 2, 'max_features': 'sqrt'}. Best is trial 15 with value: 0.9133708744491674.\n",
      "[I 2024-12-24 01:20:10,005] Trial 24 finished with value: 0.9125951300691035 and parameters: {'n_estimators': 131, 'max_depth': 27, 'min_samples_split': 6, 'min_samples_leaf': 1, 'max_features': 'sqrt'}. Best is trial 15 with value: 0.9133708744491674.\n",
      "[I 2024-12-24 01:20:12,255] Trial 25 finished with value: 0.9130770153227952 and parameters: {'n_estimators': 96, 'max_depth': 22, 'min_samples_split': 3, 'min_samples_leaf': 2, 'max_features': 'sqrt'}. Best is trial 15 with value: 0.9133708744491674.\n",
      "[I 2024-12-24 01:20:14,931] Trial 26 finished with value: 0.909738045189121 and parameters: {'n_estimators': 153, 'max_depth': 18, 'min_samples_split': 5, 'min_samples_leaf': 1, 'max_features': 'log2'}. Best is trial 15 with value: 0.9133708744491674.\n",
      "[I 2024-12-24 01:20:17,800] Trial 27 finished with value: 0.9120417626210507 and parameters: {'n_estimators': 165, 'max_depth': 24, 'min_samples_split': 7, 'min_samples_leaf': 3, 'max_features': 'sqrt'}. Best is trial 15 with value: 0.9133708744491674.\n",
      "[I 2024-12-24 01:20:20,702] Trial 28 finished with value: 0.9134464321564876 and parameters: {'n_estimators': 123, 'max_depth': 28, 'min_samples_split': 5, 'min_samples_leaf': 1, 'max_features': 'sqrt'}. Best is trial 28 with value: 0.9134464321564876.\n",
      "[I 2024-12-24 01:20:22,910] Trial 29 finished with value: 0.9129135754658133 and parameters: {'n_estimators': 99, 'max_depth': 28, 'min_samples_split': 2, 'min_samples_leaf': 2, 'max_features': 'sqrt'}. Best is trial 28 with value: 0.9134464321564876.\n",
      "[I 2024-12-24 01:20:24,250] Trial 30 finished with value: 0.9093243408666748 and parameters: {'n_estimators': 74, 'max_depth': 28, 'min_samples_split': 7, 'min_samples_leaf': 4, 'max_features': 'sqrt'}. Best is trial 28 with value: 0.9134464321564876.\n",
      "[I 2024-12-24 01:20:27,292] Trial 31 finished with value: 0.9132950816386376 and parameters: {'n_estimators': 123, 'max_depth': 26, 'min_samples_split': 5, 'min_samples_leaf': 1, 'max_features': 'sqrt'}. Best is trial 28 with value: 0.9134464321564876.\n",
      "[I 2024-12-24 01:20:30,781] Trial 32 finished with value: 0.9132592155997978 and parameters: {'n_estimators': 141, 'max_depth': 29, 'min_samples_split': 4, 'min_samples_leaf': 1, 'max_features': 'sqrt'}. Best is trial 28 with value: 0.9134464321564876.\n",
      "[I 2024-12-24 01:20:34,303] Trial 33 finished with value: 0.9133239665484713 and parameters: {'n_estimators': 142, 'max_depth': 30, 'min_samples_split': 4, 'min_samples_leaf': 1, 'max_features': 'sqrt'}. Best is trial 28 with value: 0.9134464321564876.\n",
      "[I 2024-12-24 01:20:37,645] Trial 34 finished with value: 0.9132647533229757 and parameters: {'n_estimators': 149, 'max_depth': 30, 'min_samples_split': 3, 'min_samples_leaf': 2, 'max_features': 'sqrt'}. Best is trial 28 with value: 0.9134464321564876.\n",
      "[I 2024-12-24 01:20:40,638] Trial 35 finished with value: 0.9126589258570705 and parameters: {'n_estimators': 135, 'max_depth': 28, 'min_samples_split': 6, 'min_samples_leaf': 1, 'max_features': 'sqrt'}. Best is trial 28 with value: 0.9134464321564876.\n",
      "[I 2024-12-24 01:20:44,256] Trial 36 finished with value: 0.9135999064645322 and parameters: {'n_estimators': 129, 'max_depth': 30, 'min_samples_split': 2, 'min_samples_leaf': 1, 'max_features': 'sqrt'}. Best is trial 36 with value: 0.9135999064645322.\n",
      "[I 2024-12-24 01:20:46,170] Trial 37 finished with value: 0.9095079506735892 and parameters: {'n_estimators': 131, 'max_depth': 30, 'min_samples_split': 2, 'min_samples_leaf': 5, 'max_features': 'sqrt'}. Best is trial 36 with value: 0.9135999064645322.\n",
      "[I 2024-12-24 01:20:49,672] Trial 38 finished with value: 0.9133004523723771 and parameters: {'n_estimators': 163, 'max_depth': 29, 'min_samples_split': 2, 'min_samples_leaf': 2, 'max_features': 'sqrt'}. Best is trial 36 with value: 0.9135999064645322.\n",
      "[I 2024-12-24 01:20:53,449] Trial 39 finished with value: 0.9134440931031806 and parameters: {'n_estimators': 143, 'max_depth': 30, 'min_samples_split': 3, 'min_samples_leaf': 1, 'max_features': 'sqrt'}. Best is trial 36 with value: 0.9135999064645322.\n",
      "[I 2024-12-24 01:20:55,323] Trial 40 finished with value: 0.888643313984365 and parameters: {'n_estimators': 179, 'max_depth': 9, 'min_samples_split': 3, 'min_samples_leaf': 1, 'max_features': 'sqrt'}. Best is trial 36 with value: 0.9135999064645322.\n",
      "[I 2024-12-24 01:20:59,321] Trial 41 finished with value: 0.9138878500228742 and parameters: {'n_estimators': 141, 'max_depth': 30, 'min_samples_split': 2, 'min_samples_leaf': 1, 'max_features': 'sqrt'}. Best is trial 41 with value: 0.9138878500228742.\n",
      "[I 2024-12-24 01:21:04,044] Trial 42 finished with value: 0.9137626470683452 and parameters: {'n_estimators': 171, 'max_depth': 27, 'min_samples_split': 2, 'min_samples_leaf': 1, 'max_features': 'sqrt'}. Best is trial 41 with value: 0.9138878500228742.\n",
      "[I 2024-12-24 01:21:08,821] Trial 43 finished with value: 0.9137626470683452 and parameters: {'n_estimators': 171, 'max_depth': 27, 'min_samples_split': 2, 'min_samples_leaf': 1, 'max_features': 'sqrt'}. Best is trial 41 with value: 0.9138878500228742.\n",
      "[I 2024-12-24 01:21:12,480] Trial 44 finished with value: 0.9133651825917172 and parameters: {'n_estimators': 171, 'max_depth': 27, 'min_samples_split': 2, 'min_samples_leaf': 2, 'max_features': 'sqrt'}. Best is trial 41 with value: 0.9138878500228742.\n",
      "[I 2024-12-24 01:21:13,267] Trial 45 finished with value: 0.7723387946023623 and parameters: {'n_estimators': 189, 'max_depth': 5, 'min_samples_split': 2, 'min_samples_leaf': 1, 'max_features': 'log2'}. Best is trial 41 with value: 0.9138878500228742.\n",
      "[I 2024-12-24 01:21:17,250] Trial 46 finished with value: 0.9134046605874468 and parameters: {'n_estimators': 180, 'max_depth': 28, 'min_samples_split': 2, 'min_samples_leaf': 2, 'max_features': 'sqrt'}. Best is trial 41 with value: 0.9138878500228742.\n",
      "[I 2024-12-24 01:21:20,491] Trial 47 finished with value: 0.9132689084131236 and parameters: {'n_estimators': 105, 'max_depth': 27, 'min_samples_split': 2, 'min_samples_leaf': 1, 'max_features': 'sqrt'}. Best is trial 41 with value: 0.9138878500228742.\n",
      "[I 2024-12-24 01:21:25,487] Trial 48 finished with value: 0.9139081313224 and parameters: {'n_estimators': 189, 'max_depth': 29, 'min_samples_split': 3, 'min_samples_leaf': 1, 'max_features': 'sqrt'}. Best is trial 48 with value: 0.9139081313224.\n",
      "[I 2024-12-24 01:21:28,756] Trial 49 finished with value: 0.9096375944680352 and parameters: {'n_estimators': 198, 'max_depth': 29, 'min_samples_split': 3, 'min_samples_leaf': 2, 'max_features': 'log2'}. Best is trial 48 with value: 0.9139081313224.\n",
      "[I 2024-12-24 01:21:31,650] Trial 50 finished with value: 0.9102519635880878 and parameters: {'n_estimators': 189, 'max_depth': 15, 'min_samples_split': 2, 'min_samples_leaf': 4, 'max_features': 'sqrt'}. Best is trial 48 with value: 0.9139081313224.\n",
      "[I 2024-12-24 01:21:36,698] Trial 51 finished with value: 0.9141260089323167 and parameters: {'n_estimators': 173, 'max_depth': 29, 'min_samples_split': 2, 'min_samples_leaf': 1, 'max_features': 'sqrt'}. Best is trial 51 with value: 0.9141260089323167.\n",
      "[I 2024-12-24 01:21:41,596] Trial 52 finished with value: 0.9141378817430047 and parameters: {'n_estimators': 172, 'max_depth': 29, 'min_samples_split': 2, 'min_samples_leaf': 1, 'max_features': 'sqrt'}. Best is trial 52 with value: 0.9141378817430047.\n",
      "[I 2024-12-24 01:21:46,073] Trial 53 finished with value: 0.9136629443609083 and parameters: {'n_estimators': 173, 'max_depth': 27, 'min_samples_split': 3, 'min_samples_leaf': 1, 'max_features': 'sqrt'}. Best is trial 52 with value: 0.9141378817430047.\n",
      "[I 2024-12-24 01:21:51,136] Trial 54 finished with value: 0.9143999221656769 and parameters: {'n_estimators': 184, 'max_depth': 25, 'min_samples_split': 2, 'min_samples_leaf': 1, 'max_features': 'sqrt'}. Best is trial 54 with value: 0.9143999221656769.\n",
      "[I 2024-12-24 01:21:55,952] Trial 55 finished with value: 0.9141179938332348 and parameters: {'n_estimators': 185, 'max_depth': 25, 'min_samples_split': 3, 'min_samples_leaf': 1, 'max_features': 'sqrt'}. Best is trial 54 with value: 0.9143999221656769.\n",
      "[I 2024-12-24 01:22:00,763] Trial 56 finished with value: 0.9140825064343427 and parameters: {'n_estimators': 186, 'max_depth': 25, 'min_samples_split': 3, 'min_samples_leaf': 1, 'max_features': 'sqrt'}. Best is trial 54 with value: 0.9143999221656769.\n",
      "[I 2024-12-24 01:22:04,503] Trial 57 finished with value: 0.9109923768857116 and parameters: {'n_estimators': 185, 'max_depth': 24, 'min_samples_split': 3, 'min_samples_leaf': 1, 'max_features': 'log2'}. Best is trial 54 with value: 0.9143999221656769.\n",
      "[I 2024-12-24 01:22:08,726] Trial 58 finished with value: 0.9134899531473826 and parameters: {'n_estimators': 192, 'max_depth': 22, 'min_samples_split': 3, 'min_samples_leaf': 2, 'max_features': 'sqrt'}. Best is trial 54 with value: 0.9143999221656769.\n",
      "[I 2024-12-24 01:22:13,409] Trial 59 finished with value: 0.9136827537995025 and parameters: {'n_estimators': 183, 'max_depth': 25, 'min_samples_split': 4, 'min_samples_leaf': 1, 'max_features': 'sqrt'}. Best is trial 54 with value: 0.9143999221656769.\n",
      "[I 2024-12-24 01:22:18,529] Trial 60 finished with value: 0.9134147419799936 and parameters: {'n_estimators': 194, 'max_depth': 19, 'min_samples_split': 3, 'min_samples_leaf': 1, 'max_features': 'sqrt'}. Best is trial 54 with value: 0.9143999221656769.\n",
      "[I 2024-12-24 01:22:23,377] Trial 61 finished with value: 0.9144121281480813 and parameters: {'n_estimators': 177, 'max_depth': 25, 'min_samples_split': 2, 'min_samples_leaf': 1, 'max_features': 'sqrt'}. Best is trial 61 with value: 0.9144121281480813.\n",
      "[I 2024-12-24 01:22:26,602] Trial 62 finished with value: 0.9121543927646056 and parameters: {'n_estimators': 177, 'max_depth': 25, 'min_samples_split': 10, 'min_samples_leaf': 1, 'max_features': 'sqrt'}. Best is trial 61 with value: 0.9144121281480813.\n",
      "[I 2024-12-24 01:22:31,004] Trial 63 finished with value: 0.9141934660465514 and parameters: {'n_estimators': 165, 'max_depth': 22, 'min_samples_split': 3, 'min_samples_leaf': 1, 'max_features': 'sqrt'}. Best is trial 61 with value: 0.9144121281480813.\n",
      "[I 2024-12-24 01:22:35,573] Trial 64 finished with value: 0.9142613469806223 and parameters: {'n_estimators': 164, 'max_depth': 22, 'min_samples_split': 2, 'min_samples_leaf': 1, 'max_features': 'sqrt'}. Best is trial 61 with value: 0.9144121281480813.\n",
      "[I 2024-12-24 01:22:40,068] Trial 65 finished with value: 0.9142613469806223 and parameters: {'n_estimators': 164, 'max_depth': 22, 'min_samples_split': 2, 'min_samples_leaf': 1, 'max_features': 'sqrt'}. Best is trial 61 with value: 0.9144121281480813.\n",
      "[I 2024-12-24 01:22:43,586] Trial 66 finished with value: 0.9131228617852549 and parameters: {'n_estimators': 164, 'max_depth': 21, 'min_samples_split': 2, 'min_samples_leaf': 2, 'max_features': 'sqrt'}. Best is trial 61 with value: 0.9144121281480813.\n",
      "[I 2024-12-24 01:22:47,954] Trial 67 finished with value: 0.9142604406060884 and parameters: {'n_estimators': 159, 'max_depth': 22, 'min_samples_split': 2, 'min_samples_leaf': 1, 'max_features': 'sqrt'}. Best is trial 61 with value: 0.9144121281480813.\n",
      "[I 2024-12-24 01:22:51,419] Trial 68 finished with value: 0.9106819355510343 and parameters: {'n_estimators': 158, 'max_depth': 22, 'min_samples_split': 2, 'min_samples_leaf': 1, 'max_features': 'log2'}. Best is trial 61 with value: 0.9144121281480813.\n",
      "[I 2024-12-24 01:22:55,547] Trial 69 finished with value: 0.9137299576995785 and parameters: {'n_estimators': 154, 'max_depth': 20, 'min_samples_split': 2, 'min_samples_leaf': 1, 'max_features': 'sqrt'}. Best is trial 61 with value: 0.9144121281480813.\n",
      "[I 2024-12-24 01:22:58,438] Trial 70 finished with value: 0.9115440025567354 and parameters: {'n_estimators': 166, 'max_depth': 23, 'min_samples_split': 9, 'min_samples_leaf': 2, 'max_features': 'sqrt'}. Best is trial 61 with value: 0.9144121281480813.\n",
      "[I 2024-12-24 01:23:02,827] Trial 71 finished with value: 0.9137208289385406 and parameters: {'n_estimators': 162, 'max_depth': 19, 'min_samples_split': 2, 'min_samples_leaf': 1, 'max_features': 'sqrt'}. Best is trial 61 with value: 0.9144121281480813.\n",
      "[I 2024-12-24 01:23:07,604] Trial 72 finished with value: 0.9144825452120191 and parameters: {'n_estimators': 176, 'max_depth': 21, 'min_samples_split': 2, 'min_samples_leaf': 1, 'max_features': 'sqrt'}. Best is trial 72 with value: 0.9144825452120191.\n",
      "[I 2024-12-24 01:23:12,332] Trial 73 finished with value: 0.9144825452120191 and parameters: {'n_estimators': 176, 'max_depth': 21, 'min_samples_split': 2, 'min_samples_leaf': 1, 'max_features': 'sqrt'}. Best is trial 72 with value: 0.9144825452120191.\n",
      "[I 2024-12-24 01:23:17,152] Trial 74 finished with value: 0.9144825452120191 and parameters: {'n_estimators': 176, 'max_depth': 21, 'min_samples_split': 2, 'min_samples_leaf': 1, 'max_features': 'sqrt'}. Best is trial 72 with value: 0.9144825452120191.\n",
      "[I 2024-12-24 01:23:22,021] Trial 75 finished with value: 0.9145104216640686 and parameters: {'n_estimators': 177, 'max_depth': 21, 'min_samples_split': 2, 'min_samples_leaf': 1, 'max_features': 'sqrt'}. Best is trial 75 with value: 0.9145104216640686.\n",
      "[I 2024-12-24 01:23:26,914] Trial 76 finished with value: 0.9145112785810776 and parameters: {'n_estimators': 180, 'max_depth': 21, 'min_samples_split': 2, 'min_samples_leaf': 1, 'max_features': 'sqrt'}. Best is trial 76 with value: 0.9145112785810776.\n",
      "[I 2024-12-24 01:23:31,215] Trial 77 finished with value: 0.9136918545903425 and parameters: {'n_estimators': 180, 'max_depth': 16, 'min_samples_split': 2, 'min_samples_leaf': 1, 'max_features': 'sqrt'}. Best is trial 76 with value: 0.9145112785810776.\n",
      "[I 2024-12-24 01:23:35,960] Trial 78 finished with value: 0.9145073343717953 and parameters: {'n_estimators': 175, 'max_depth': 21, 'min_samples_split': 2, 'min_samples_leaf': 1, 'max_features': 'sqrt'}. Best is trial 76 with value: 0.9145112785810776.\n",
      "[I 2024-12-24 01:23:38,716] Trial 79 finished with value: 0.9095475809305608 and parameters: {'n_estimators': 194, 'max_depth': 21, 'min_samples_split': 2, 'min_samples_leaf': 5, 'max_features': 'sqrt'}. Best is trial 76 with value: 0.9145112785810776.\n",
      "[I 2024-12-24 01:23:41,436] Trial 80 finished with value: 0.9105832609668632 and parameters: {'n_estimators': 175, 'max_depth': 19, 'min_samples_split': 3, 'min_samples_leaf': 4, 'max_features': 'sqrt'}. Best is trial 76 with value: 0.9145112785810776.\n",
      "[I 2024-12-24 01:23:46,400] Trial 81 finished with value: 0.9138910178968194 and parameters: {'n_estimators': 182, 'max_depth': 20, 'min_samples_split': 2, 'min_samples_leaf': 1, 'max_features': 'sqrt'}. Best is trial 76 with value: 0.9145112785810776.\n",
      "[I 2024-12-24 01:23:51,306] Trial 82 finished with value: 0.9139342936415943 and parameters: {'n_estimators': 176, 'max_depth': 24, 'min_samples_split': 2, 'min_samples_leaf': 1, 'max_features': 'sqrt'}. Best is trial 76 with value: 0.9145112785810776.\n",
      "[I 2024-12-24 01:23:55,908] Trial 83 finished with value: 0.9143999536996497 and parameters: {'n_estimators': 168, 'max_depth': 21, 'min_samples_split': 2, 'min_samples_leaf': 1, 'max_features': 'sqrt'}. Best is trial 76 with value: 0.9145112785810776.\n",
      "[I 2024-12-24 01:24:00,183] Trial 84 finished with value: 0.913712337214575 and parameters: {'n_estimators': 178, 'max_depth': 17, 'min_samples_split': 3, 'min_samples_leaf': 1, 'max_features': 'sqrt'}. Best is trial 76 with value: 0.9145112785810776.\n",
      "[I 2024-12-24 01:24:04,779] Trial 85 finished with value: 0.914431802143475 and parameters: {'n_estimators': 169, 'max_depth': 21, 'min_samples_split': 2, 'min_samples_leaf': 1, 'max_features': 'sqrt'}. Best is trial 76 with value: 0.9145112785810776.\n",
      "[I 2024-12-24 01:24:09,343] Trial 86 finished with value: 0.914431802143475 and parameters: {'n_estimators': 169, 'max_depth': 21, 'min_samples_split': 2, 'min_samples_leaf': 1, 'max_features': 'sqrt'}. Best is trial 76 with value: 0.9145112785810776.\n",
      "[I 2024-12-24 01:24:13,089] Trial 87 finished with value: 0.9104423223941749 and parameters: {'n_estimators': 175, 'max_depth': 20, 'min_samples_split': 2, 'min_samples_leaf': 1, 'max_features': 'log2'}. Best is trial 76 with value: 0.9145112785810776.\n",
      "[I 2024-12-24 01:24:17,467] Trial 88 finished with value: 0.9137126681442307 and parameters: {'n_estimators': 168, 'max_depth': 18, 'min_samples_split': 2, 'min_samples_leaf': 1, 'max_features': 'sqrt'}. Best is trial 76 with value: 0.9145112785810776.\n",
      "[I 2024-12-24 01:24:20,764] Trial 89 finished with value: 0.9132562308018357 and parameters: {'n_estimators': 153, 'max_depth': 23, 'min_samples_split': 3, 'min_samples_leaf': 2, 'max_features': 'sqrt'}. Best is trial 76 with value: 0.9145112785810776.\n",
      "[I 2024-12-24 01:24:25,945] Trial 90 finished with value: 0.9140685634213828 and parameters: {'n_estimators': 197, 'max_depth': 19, 'min_samples_split': 2, 'min_samples_leaf': 1, 'max_features': 'sqrt'}. Best is trial 76 with value: 0.9145112785810776.\n",
      "[I 2024-12-24 01:24:30,974] Trial 91 finished with value: 0.9145112785810776 and parameters: {'n_estimators': 180, 'max_depth': 21, 'min_samples_split': 2, 'min_samples_leaf': 1, 'max_features': 'sqrt'}. Best is trial 76 with value: 0.9145112785810776.\n",
      "[I 2024-12-24 01:24:36,289] Trial 92 finished with value: 0.9144931607558384 and parameters: {'n_estimators': 188, 'max_depth': 21, 'min_samples_split': 2, 'min_samples_leaf': 1, 'max_features': 'sqrt'}. Best is trial 76 with value: 0.9145112785810776.\n",
      "[I 2024-12-24 01:24:40,134] Trial 93 finished with value: 0.9126432846637795 and parameters: {'n_estimators': 188, 'max_depth': 20, 'min_samples_split': 8, 'min_samples_leaf': 1, 'max_features': 'sqrt'}. Best is trial 76 with value: 0.9145112785810776.\n",
      "[I 2024-12-24 01:24:44,824] Trial 94 finished with value: 0.9147598036012414 and parameters: {'n_estimators': 181, 'max_depth': 21, 'min_samples_split': 3, 'min_samples_leaf': 1, 'max_features': 'sqrt'}. Best is trial 94 with value: 0.9147598036012414.\n",
      "[I 2024-12-24 01:24:48,573] Trial 95 finished with value: 0.9139113748759768 and parameters: {'n_estimators': 181, 'max_depth': 21, 'min_samples_split': 7, 'min_samples_leaf': 1, 'max_features': 'sqrt'}. Best is trial 94 with value: 0.9147598036012414.\n",
      "[I 2024-12-24 01:24:53,546] Trial 96 finished with value: 0.914188267544356 and parameters: {'n_estimators': 194, 'max_depth': 20, 'min_samples_split': 3, 'min_samples_leaf': 1, 'max_features': 'sqrt'}. Best is trial 94 with value: 0.9147598036012414.\n",
      "[I 2024-12-24 01:24:58,775] Trial 97 finished with value: 0.9141635038444009 and parameters: {'n_estimators': 192, 'max_depth': 23, 'min_samples_split': 2, 'min_samples_leaf': 1, 'max_features': 'sqrt'}. Best is trial 94 with value: 0.9147598036012414.\n",
      "[I 2024-12-24 01:25:03,581] Trial 98 finished with value: 0.9137776668077493 and parameters: {'n_estimators': 186, 'max_depth': 23, 'min_samples_split': 3, 'min_samples_leaf': 1, 'max_features': 'sqrt'}. Best is trial 94 with value: 0.9147598036012414.\n",
      "[I 2024-12-24 01:25:08,766] Trial 99 finished with value: 0.9139156146172306 and parameters: {'n_estimators': 200, 'max_depth': 18, 'min_samples_split': 2, 'min_samples_leaf': 1, 'max_features': 'sqrt'}. Best is trial 94 with value: 0.9147598036012414.\n"
     ]
    }
   ],
   "source": [
    "from sklearn.ensemble import RandomForestRegressor\n",
    "\n",
    "def objective(trial):\n",
    "\n",
    "    n_estimators=trial.suggest_int('n_estimators', 50, 200)\n",
    "    max_depth=trial.suggest_int('max_depth', 5, 30)\n",
    "    min_samples_split=trial.suggest_int('min_samples_split', 2, 10)\n",
    "    min_samples_leaf=trial.suggest_int('min_samples_leaf', 1, 5)\n",
    "    max_features=trial.suggest_categorical('max_features', [ 'sqrt', 'log2'])\n",
    "    \n",
    "    pipeline.set_params(\n",
    "        model__n_estimators=n_estimators,\n",
    "        model__max_depth=max_depth,\n",
    "        model__min_samples_split=min_samples_split,\n",
    "        model__min_samples_leaf=min_samples_leaf,\n",
    "        model__max_features=max_features,\n",
    "        model__random_state=42,\n",
    "        model__n_jobs = -1\n",
    "    )\n",
    "    \n",
    "    score = cross_val_score(pipeline, X_train, y_train, n_jobs=-1, cv=5, scoring='r2')\n",
    "    \n",
    "    return score.mean()\n",
    "\n",
    "\n",
    "study = optuna.create_study(direction='maximize') \n",
    "study.optimize(objective, n_trials=100)  "
   ]
  },
  {
   "cell_type": "code",
   "execution_count": 11,
   "metadata": {},
   "outputs": [
    {
     "name": "stdout",
     "output_type": "stream",
     "text": [
      "Best parameters: {'n_estimators': 181, 'max_depth': 21, 'min_samples_split': 3, 'min_samples_leaf': 1, 'max_features': 'sqrt'}\n",
      "Best R2: 0.9147598036012414\n"
     ]
    }
   ],
   "source": [
    "print(f'Best parameters: {study.best_params}')\n",
    "print(\"Best R2:\", study.best_value)"
   ]
  },
  {
   "cell_type": "code",
   "execution_count": 12,
   "metadata": {},
   "outputs": [
    {
     "name": "stdout",
     "output_type": "stream",
     "text": [
      "Train Set:\n",
      "MSE: 0.6464329353461279\n",
      "MAE: 0.5017924386149845\n",
      "R2: 0.9866810354959069\n",
      "\n",
      "Test Set:\n",
      "MSE: 3.878452426491901\n",
      "MAE: 1.2650044133375238\n",
      "R2: 0.9189783288774717\n",
      "\n",
      "Data Set:\n",
      "MSE: 1.723892823657554\n",
      "MAE: 0.7562247807760673\n",
      "R2: 0.9643199122977971\n"
     ]
    }
   ],
   "source": [
    "pipeline.set_params(\n",
    "    model__n_estimators=study.best_params['n_estimators'],\n",
    "    model__max_depth=study.best_params['max_depth'],\n",
    "    model__min_samples_split=study.best_params['min_samples_split'],\n",
    "    model__min_samples_leaf=study.best_params['min_samples_leaf'],\n",
    "    model__max_features=study.best_params['max_features'],\n",
    "    model__random_state=42,\n",
    "    model__n_jobs=-1\n",
    ")\n",
    "\n",
    "pipeline.fit(X_train, y_train)\n",
    "\n",
    "\n",
    "y_train_pred = pipeline.predict(X_train)\n",
    "y_pred = pipeline.predict(X_test)\n",
    "y_data = pipeline.predict(X)\n",
    "\n",
    "print('Train Set:')\n",
    "print(f'MSE: {mean_squared_error(y_train, y_train_pred)}')\n",
    "print(f'MAE: {mean_absolute_error(y_train, y_train_pred)}')\n",
    "print(f'R2: {r2_score(y_train, y_train_pred)}')\n",
    "\n",
    "print()\n",
    "\n",
    "print('Test Set:')\n",
    "print(f'MSE: {mean_squared_error(y_test, y_pred)}')\n",
    "print(f'MAE: {mean_absolute_error(y_test, y_pred)}')\n",
    "print(f'R2: {r2_score(y_test, y_pred)}')\n",
    "\n",
    "print()\n",
    "\n",
    "print('Data Set:')\n",
    "print(f'MSE: {mean_squared_error(y, y_data)}')\n",
    "print(f'MAE: {mean_absolute_error(y, y_data)}')\n",
    "print(f'R2: {r2_score(y, y_data)}')"
   ]
  }
 ],
 "metadata": {
  "kernelspec": {
   "display_name": "Python 3",
   "language": "python",
   "name": "python3"
  },
  "language_info": {
   "codemirror_mode": {
    "name": "ipython",
    "version": 3
   },
   "file_extension": ".py",
   "mimetype": "text/x-python",
   "name": "python",
   "nbconvert_exporter": "python",
   "pygments_lexer": "ipython3",
   "version": "3.11.9"
  }
 },
 "nbformat": 4,
 "nbformat_minor": 2
}
