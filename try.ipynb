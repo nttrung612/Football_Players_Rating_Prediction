{
 "cells": [
  {
   "metadata": {
    "ExecuteTime": {
     "end_time": "2024-10-28T14:47:04.003629Z",
     "start_time": "2024-10-28T14:47:02.947936Z"
    }
   },
   "cell_type": "code",
   "source": [
    "import numpy as np\n",
    "import pandas as pd\n",
    "import matplotlib.pyplot as plt\n",
    "from sklearn.model_selection import train_test_split"
   ],
   "id": "68bd53ae8b8117fe",
   "outputs": [],
   "execution_count": 3
  },
  {
   "metadata": {
    "ExecuteTime": {
     "end_time": "2024-10-28T14:47:20.243385Z",
     "start_time": "2024-10-28T14:47:20.156970Z"
    }
   },
   "cell_type": "code",
   "source": "df = pd.read_csv('fifa_players (1).csv')",
   "id": "aa819092a9eb2a74",
   "outputs": [],
   "execution_count": 4
  },
  {
   "metadata": {
    "ExecuteTime": {
     "end_time": "2024-10-28T14:47:55.829528Z",
     "start_time": "2024-10-28T14:47:55.818698Z"
    }
   },
   "cell_type": "code",
   "source": [
    "valid_height = df[df['height_cm'] >= 160]\n",
    "correlation_height_weight = valid_height['height_cm'].corr(valid_height['weight_kgs'])\n",
    "correlation_height_weight"
   ],
   "id": "bd3ad3452facd6db",
   "outputs": [
    {
     "data": {
      "text/plain": [
       "0.7885696032820835"
      ]
     },
     "execution_count": 9,
     "metadata": {},
     "output_type": "execute_result"
    }
   ],
   "execution_count": 9
  },
  {
   "metadata": {},
   "cell_type": "code",
   "outputs": [],
   "execution_count": null,
   "source": "",
   "id": "b24f8f2a1b4afe84"
  }
 ],
 "metadata": {
  "kernelspec": {
   "display_name": "Python 3",
   "language": "python",
   "name": "python3"
  },
  "language_info": {
   "codemirror_mode": {
    "name": "ipython",
    "version": 2
   },
   "file_extension": ".py",
   "mimetype": "text/x-python",
   "name": "python",
   "nbconvert_exporter": "python",
   "pygments_lexer": "ipython2",
   "version": "2.7.6"
  }
 },
 "nbformat": 4,
 "nbformat_minor": 5
}
