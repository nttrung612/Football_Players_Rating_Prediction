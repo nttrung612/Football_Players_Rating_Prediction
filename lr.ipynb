{
 "cells": [
  {
   "cell_type": "code",
   "execution_count": 4,
   "metadata": {},
   "outputs": [],
   "source": [
    "import pandas as pd\n",
    "import seaborn as sns\n",
    "import matplotlib.pyplot as plt\n",
    "import numpy as np"
   ]
  },
  {
   "cell_type": "code",
   "execution_count": 9,
   "metadata": {},
   "outputs": [],
   "source": [
    "df = pd.read_csv('data_encoded.csv')"
   ]
  },
  {
   "cell_type": "code",
   "execution_count": 10,
   "metadata": {},
   "outputs": [],
   "source": [
    "from sklearn.metrics import mean_squared_error, mean_absolute_error, r2_score\n",
    "\n",
    "def evaluate_model(model, X, y):\n",
    "    y_pred = model.predict(X)\n",
    "    mse = mean_squared_error(y, y_pred)\n",
    "    mae = mean_absolute_error(y, y_pred)\n",
    "    r2 = r2_score(y, y_pred)\n",
    "    return mse, mae, r2\n",
    "\n",
    "def print_metrics(mse, mae, r2):\n",
    "    print(f'MSE: {mse:.3f}')\n",
    "    print(f'MAE: {mae:.3f}')\n",
    "    print(f'R2: {r2:.3f}')"
   ]
  },
  {
   "cell_type": "code",
   "execution_count": 11,
   "metadata": {},
   "outputs": [],
   "source": [
    "df.drop(['value_euro', 'wage_euro', 'release_clause_euro',\n",
    "         'potential', 'composure'], axis=1, inplace=True)"
   ]
  },
  {
   "cell_type": "code",
   "execution_count": 12,
   "metadata": {},
   "outputs": [],
   "source": [
    "X = df.drop('overall_rating', axis=1)\n",
    "y = df['overall_rating']"
   ]
  },
  {
   "cell_type": "code",
   "execution_count": 13,
   "metadata": {},
   "outputs": [],
   "source": [
    "from sklearn.model_selection import train_test_split\n",
    "\n",
    "X_train, X_test, y_train, y_test = train_test_split(X, y, test_size=0.3, random_state=42)\n",
    "\n",
    "X_val, X_test, y_val, y_test = train_test_split(X_test, y_test, test_size=0.5, random_state=42)"
   ]
  },
  {
   "cell_type": "markdown",
   "metadata": {},
   "source": [
    "# Hold out evaluation"
   ]
  },
  {
   "cell_type": "code",
   "execution_count": 19,
   "metadata": {},
   "outputs": [
    {
     "name": "stdout",
     "output_type": "stream",
     "text": [
      "Training set\n",
      "MSE: 6.225\n",
      "MAE: 1.914\n",
      "R2: 0.872\n",
      "\n",
      "Validation set\n",
      "MSE: 6.083\n",
      "MAE: 1.926\n",
      "R2: 0.872\n",
      "\n",
      "Test set\n",
      "MSE: 5.879\n",
      "MAE: 1.891\n",
      "R2: 0.876\n"
     ]
    }
   ],
   "source": [
    "from sklearn.pipeline import Pipeline, make_pipeline\n",
    "from sklearn.compose import ColumnTransformer\n",
    "from sklearn.preprocessing import StandardScaler\n",
    "from sklearn.linear_model import LinearRegression\n",
    "from category_encoders import TargetEncoder\n",
    "\n",
    "pipe = make_pipeline(StandardScaler(), LinearRegression())\n",
    "pipe.fit(X_train, y_train)\n",
    "\n",
    "print('Training set')\n",
    "mse, mae, r2 = evaluate_model(pipe, X_train, y_train)\n",
    "print_metrics(mse, mae, r2)\n",
    "\n",
    "print('\\nValidation set')\n",
    "mse, mae, r2 = evaluate_model(pipe, X_val, y_val)\n",
    "print_metrics(mse, mae, r2)\n",
    "\n",
    "print('\\nTest set')\n",
    "mse, mae, r2 = evaluate_model(pipe, X_test, y_test)\n",
    "print_metrics(mse, mae, r2)"
   ]
  },
  {
   "cell_type": "code",
   "execution_count": 30,
   "metadata": {},
   "outputs": [
    {
     "data": {
      "text/html": [
       "<div>\n",
       "<style scoped>\n",
       "    .dataframe tbody tr th:only-of-type {\n",
       "        vertical-align: middle;\n",
       "    }\n",
       "\n",
       "    .dataframe tbody tr th {\n",
       "        vertical-align: top;\n",
       "    }\n",
       "\n",
       "    .dataframe thead th {\n",
       "        text-align: right;\n",
       "    }\n",
       "</style>\n",
       "<table border=\"1\" class=\"dataframe\">\n",
       "  <thead>\n",
       "    <tr style=\"text-align: right;\">\n",
       "      <th></th>\n",
       "      <th>Actual</th>\n",
       "      <th>Predicted</th>\n",
       "    </tr>\n",
       "  </thead>\n",
       "  <tbody>\n",
       "    <tr>\n",
       "      <th>420</th>\n",
       "      <td>72</td>\n",
       "      <td>72.366179</td>\n",
       "    </tr>\n",
       "    <tr>\n",
       "      <th>10036</th>\n",
       "      <td>68</td>\n",
       "      <td>68.843064</td>\n",
       "    </tr>\n",
       "    <tr>\n",
       "      <th>1372</th>\n",
       "      <td>64</td>\n",
       "      <td>66.552082</td>\n",
       "    </tr>\n",
       "    <tr>\n",
       "      <th>3315</th>\n",
       "      <td>64</td>\n",
       "      <td>68.636326</td>\n",
       "    </tr>\n",
       "    <tr>\n",
       "      <th>8481</th>\n",
       "      <td>65</td>\n",
       "      <td>62.736555</td>\n",
       "    </tr>\n",
       "  </tbody>\n",
       "</table>\n",
       "</div>"
      ],
      "text/plain": [
       "       Actual  Predicted\n",
       "420        72  72.366179\n",
       "10036      68  68.843064\n",
       "1372       64  66.552082\n",
       "3315       64  68.636326\n",
       "8481       65  62.736555"
      ]
     },
     "execution_count": 30,
     "metadata": {},
     "output_type": "execute_result"
    }
   ],
   "source": [
    "y_val_pred = pipe.predict(X_val)\n",
    "\n",
    "difference_df = pd.DataFrame({'Actual': y_val, 'Predicted': y_val_pred})\n",
    "difference_df.head()"
   ]
  },
  {
   "cell_type": "code",
   "execution_count": 32,
   "metadata": {},
   "outputs": [
    {
     "name": "stdout",
     "output_type": "stream",
     "text": [
      "R^2 scores cho 10-fold cross-validation: [0.8802915  0.86926951 0.87779882 0.85702945 0.85967123 0.87462044\n",
      " 0.88025181 0.87173749 0.86939814 0.870879  ]\n",
      "R^2 trung bình: 0.871 ± 0.007\n",
      "\n",
      "MSE cho 10-fold cross-validation: [5.92078498 6.49139394 5.97534712 6.77996986 6.82312792 5.99039591\n",
      " 5.8149739  6.36572211 6.03441237 6.23034493]\n",
      "MSE trung bình: 6.243± 0.342\n",
      "\n",
      "MAE cho 10-fold cross-validation: [1.8689107  1.94242839 1.87767146 1.99640923 2.00921622 1.87690571\n",
      " 1.86048637 1.92814355 1.92078558 1.93929255]\n",
      "MAE trung bình: 1.922 ± 0.049\n"
     ]
    }
   ],
   "source": [
    "from sklearn.model_selection import cross_val_score\n",
    "\n",
    "X_cv = pd.concat([X_train, X_val])\n",
    "y_cv = pd.concat([y_train, y_val])\n",
    "\n",
    "cv = 10\n",
    "\n",
    "r2_scores = cross_val_score(pipe, X_cv, y_cv, cv=cv, scoring='r2', n_jobs=-1)\n",
    "print(f\"R^2 scores cho {cv}-fold cross-validation: {r2_scores}\")\n",
    "print(f\"R^2 trung bình: {r2_scores.mean():.3f} ± {r2_scores.std():.3f}\")\n",
    "print()\n",
    "\n",
    "mse_scores = cross_val_score(pipe, X_cv, y_cv, cv=cv, scoring='neg_mean_squared_error', n_jobs=-1)\n",
    "mse_scores = -mse_scores\n",
    "print(f\"MSE cho {cv}-fold cross-validation: {mse_scores}\")\n",
    "print(f\"MSE trung bình: {mse_scores.mean():.3f}\" + u\"\\u00B1\" + f\" {mse_scores.std():.3f}\")\n",
    "print()\n",
    "\n",
    "mae_scores = cross_val_score(pipe, X_cv, y_cv, cv=cv, scoring='neg_mean_absolute_error', n_jobs=-1)\n",
    "mae_scores = -mae_scores\n",
    "print(f\"MAE cho {cv}-fold cross-validation: {mae_scores}\")\n",
    "print(f\"MAE trung bình: {mae_scores.mean():.3f} ± {mae_scores.std():.3f}\")"
   ]
  },
  {
   "cell_type": "markdown",
   "metadata": {},
   "source": [
    "# One Hot Encoder + PCA to handle nationality"
   ]
  },
  {
   "cell_type": "code",
   "execution_count": 35,
   "metadata": {},
   "outputs": [],
   "source": [
    "import pandas as pd\n",
    "df = pd.read_csv('data.csv')"
   ]
  },
  {
   "cell_type": "code",
   "execution_count": 36,
   "metadata": {},
   "outputs": [],
   "source": [
    "df.drop(['value_euro', 'wage_euro', 'release_clause_euro',\n",
    "         'potential', 'composure'], axis=1, inplace=True)"
   ]
  },
  {
   "cell_type": "code",
   "execution_count": 37,
   "metadata": {},
   "outputs": [
    {
     "data": {
      "text/html": [
       "<div>\n",
       "<style scoped>\n",
       "    .dataframe tbody tr th:only-of-type {\n",
       "        vertical-align: middle;\n",
       "    }\n",
       "\n",
       "    .dataframe tbody tr th {\n",
       "        vertical-align: top;\n",
       "    }\n",
       "\n",
       "    .dataframe thead th {\n",
       "        text-align: right;\n",
       "    }\n",
       "</style>\n",
       "<table border=\"1\" class=\"dataframe\">\n",
       "  <thead>\n",
       "    <tr style=\"text-align: right;\">\n",
       "      <th></th>\n",
       "      <th>age</th>\n",
       "      <th>height_cm</th>\n",
       "      <th>weight_kgs</th>\n",
       "      <th>overall_rating</th>\n",
       "      <th>preferred_foot</th>\n",
       "      <th>weak_foot(1-5)</th>\n",
       "      <th>skill_moves(1-5)</th>\n",
       "      <th>crossing</th>\n",
       "      <th>finishing</th>\n",
       "      <th>heading_accuracy</th>\n",
       "      <th>...</th>\n",
       "      <th>nationality_top_20_Mexico</th>\n",
       "      <th>nationality_top_20_Netherlands</th>\n",
       "      <th>nationality_top_20_Norway</th>\n",
       "      <th>nationality_top_20_Other</th>\n",
       "      <th>nationality_top_20_Poland</th>\n",
       "      <th>nationality_top_20_Portugal</th>\n",
       "      <th>nationality_top_20_Republic of Ireland</th>\n",
       "      <th>nationality_top_20_Spain</th>\n",
       "      <th>nationality_top_20_Sweden</th>\n",
       "      <th>nationality_top_20_United States</th>\n",
       "    </tr>\n",
       "  </thead>\n",
       "  <tbody>\n",
       "    <tr>\n",
       "      <th>0</th>\n",
       "      <td>27</td>\n",
       "      <td>177.606642</td>\n",
       "      <td>76.2</td>\n",
       "      <td>88</td>\n",
       "      <td>1</td>\n",
       "      <td>5</td>\n",
       "      <td>4</td>\n",
       "      <td>88</td>\n",
       "      <td>81</td>\n",
       "      <td>52</td>\n",
       "      <td>...</td>\n",
       "      <td>0.0</td>\n",
       "      <td>0.0</td>\n",
       "      <td>0.0</td>\n",
       "      <td>1.0</td>\n",
       "      <td>0.0</td>\n",
       "      <td>0.0</td>\n",
       "      <td>0.0</td>\n",
       "      <td>0.0</td>\n",
       "      <td>0.0</td>\n",
       "      <td>0.0</td>\n",
       "    </tr>\n",
       "    <tr>\n",
       "      <th>1</th>\n",
       "      <td>25</td>\n",
       "      <td>190.500000</td>\n",
       "      <td>83.9</td>\n",
       "      <td>88</td>\n",
       "      <td>1</td>\n",
       "      <td>4</td>\n",
       "      <td>5</td>\n",
       "      <td>80</td>\n",
       "      <td>75</td>\n",
       "      <td>75</td>\n",
       "      <td>...</td>\n",
       "      <td>0.0</td>\n",
       "      <td>0.0</td>\n",
       "      <td>0.0</td>\n",
       "      <td>0.0</td>\n",
       "      <td>0.0</td>\n",
       "      <td>0.0</td>\n",
       "      <td>0.0</td>\n",
       "      <td>0.0</td>\n",
       "      <td>0.0</td>\n",
       "      <td>0.0</td>\n",
       "    </tr>\n",
       "    <tr>\n",
       "      <th>2</th>\n",
       "      <td>27</td>\n",
       "      <td>162.560000</td>\n",
       "      <td>59.0</td>\n",
       "      <td>88</td>\n",
       "      <td>1</td>\n",
       "      <td>4</td>\n",
       "      <td>4</td>\n",
       "      <td>86</td>\n",
       "      <td>77</td>\n",
       "      <td>56</td>\n",
       "      <td>...</td>\n",
       "      <td>0.0</td>\n",
       "      <td>0.0</td>\n",
       "      <td>0.0</td>\n",
       "      <td>0.0</td>\n",
       "      <td>0.0</td>\n",
       "      <td>0.0</td>\n",
       "      <td>0.0</td>\n",
       "      <td>0.0</td>\n",
       "      <td>0.0</td>\n",
       "      <td>0.0</td>\n",
       "    </tr>\n",
       "    <tr>\n",
       "      <th>3</th>\n",
       "      <td>27</td>\n",
       "      <td>187.960000</td>\n",
       "      <td>88.9</td>\n",
       "      <td>88</td>\n",
       "      <td>1</td>\n",
       "      <td>3</td>\n",
       "      <td>2</td>\n",
       "      <td>30</td>\n",
       "      <td>22</td>\n",
       "      <td>83</td>\n",
       "      <td>...</td>\n",
       "      <td>0.0</td>\n",
       "      <td>0.0</td>\n",
       "      <td>0.0</td>\n",
       "      <td>1.0</td>\n",
       "      <td>0.0</td>\n",
       "      <td>0.0</td>\n",
       "      <td>0.0</td>\n",
       "      <td>0.0</td>\n",
       "      <td>0.0</td>\n",
       "      <td>0.0</td>\n",
       "    </tr>\n",
       "    <tr>\n",
       "      <th>4</th>\n",
       "      <td>27</td>\n",
       "      <td>193.040000</td>\n",
       "      <td>92.1</td>\n",
       "      <td>88</td>\n",
       "      <td>1</td>\n",
       "      <td>3</td>\n",
       "      <td>2</td>\n",
       "      <td>53</td>\n",
       "      <td>52</td>\n",
       "      <td>83</td>\n",
       "      <td>...</td>\n",
       "      <td>0.0</td>\n",
       "      <td>1.0</td>\n",
       "      <td>0.0</td>\n",
       "      <td>0.0</td>\n",
       "      <td>0.0</td>\n",
       "      <td>0.0</td>\n",
       "      <td>0.0</td>\n",
       "      <td>0.0</td>\n",
       "      <td>0.0</td>\n",
       "      <td>0.0</td>\n",
       "    </tr>\n",
       "  </tbody>\n",
       "</table>\n",
       "<p>5 rows × 73 columns</p>\n",
       "</div>"
      ],
      "text/plain": [
       "   age   height_cm  weight_kgs  overall_rating  preferred_foot  \\\n",
       "0   27  177.606642        76.2              88               1   \n",
       "1   25  190.500000        83.9              88               1   \n",
       "2   27  162.560000        59.0              88               1   \n",
       "3   27  187.960000        88.9              88               1   \n",
       "4   27  193.040000        92.1              88               1   \n",
       "\n",
       "   weak_foot(1-5)  skill_moves(1-5)  crossing  finishing  heading_accuracy  \\\n",
       "0               5                 4        88         81                52   \n",
       "1               4                 5        80         75                75   \n",
       "2               4                 4        86         77                56   \n",
       "3               3                 2        30         22                83   \n",
       "4               3                 2        53         52                83   \n",
       "\n",
       "   ...  nationality_top_20_Mexico  nationality_top_20_Netherlands  \\\n",
       "0  ...                        0.0                             0.0   \n",
       "1  ...                        0.0                             0.0   \n",
       "2  ...                        0.0                             0.0   \n",
       "3  ...                        0.0                             0.0   \n",
       "4  ...                        0.0                             1.0   \n",
       "\n",
       "   nationality_top_20_Norway  nationality_top_20_Other  \\\n",
       "0                        0.0                       1.0   \n",
       "1                        0.0                       0.0   \n",
       "2                        0.0                       0.0   \n",
       "3                        0.0                       1.0   \n",
       "4                        0.0                       0.0   \n",
       "\n",
       "   nationality_top_20_Poland  nationality_top_20_Portugal  \\\n",
       "0                        0.0                          0.0   \n",
       "1                        0.0                          0.0   \n",
       "2                        0.0                          0.0   \n",
       "3                        0.0                          0.0   \n",
       "4                        0.0                          0.0   \n",
       "\n",
       "   nationality_top_20_Republic of Ireland  nationality_top_20_Spain  \\\n",
       "0                                     0.0                       0.0   \n",
       "1                                     0.0                       0.0   \n",
       "2                                     0.0                       0.0   \n",
       "3                                     0.0                       0.0   \n",
       "4                                     0.0                       0.0   \n",
       "\n",
       "   nationality_top_20_Sweden  nationality_top_20_United States  \n",
       "0                        0.0                               0.0  \n",
       "1                        0.0                               0.0  \n",
       "2                        0.0                               0.0  \n",
       "3                        0.0                               0.0  \n",
       "4                        0.0                               0.0  \n",
       "\n",
       "[5 rows x 73 columns]"
      ]
     },
     "execution_count": 37,
     "metadata": {},
     "output_type": "execute_result"
    }
   ],
   "source": [
    "from sklearn.preprocessing import OneHotEncoder\n",
    "\n",
    "top_20_nationalities = df['nationality'].value_counts().nlargest(20).index\n",
    "df['nationality_top_20'] = df['nationality'].apply(lambda x: x if x in top_20_nationalities else 'Other')\n",
    "\n",
    "\n",
    "one_hot_encoder = OneHotEncoder(sparse_output=False, drop='first') \n",
    "nationality_encoded = one_hot_encoder.fit_transform(df[['nationality_top_20']])\n",
    "\n",
    "nationality_encoded_df = pd.DataFrame(nationality_encoded, columns=one_hot_encoder.get_feature_names_out(['nationality_top_20']))\n",
    "df = pd.concat([df, nationality_encoded_df], axis=1)\n",
    "\n",
    "df.drop(['nationality', 'nationality_top_20'], axis=1, inplace=True)\n",
    "df.head()\n"
   ]
  },
  {
   "cell_type": "code",
   "execution_count": 38,
   "metadata": {},
   "outputs": [],
   "source": [
    "X = df.drop('overall_rating', axis=1)\n",
    "y = df['overall_rating']"
   ]
  },
  {
   "cell_type": "code",
   "execution_count": 39,
   "metadata": {},
   "outputs": [],
   "source": [
    "from sklearn.model_selection import train_test_split\n",
    "X_train, X_test, y_train, y_test = train_test_split(X, y, test_size=0.3, random_state=42)"
   ]
  },
  {
   "cell_type": "code",
   "execution_count": 40,
   "metadata": {},
   "outputs": [],
   "source": [
    "from sklearn.preprocessing import StandardScaler\n",
    "\n",
    "scaler = StandardScaler()\n",
    "X_train_scaled = scaler.fit_transform(X_train)\n",
    "X_test_scaled = scaler.transform(X_test)"
   ]
  },
  {
   "cell_type": "code",
   "execution_count": 41,
   "metadata": {},
   "outputs": [],
   "source": [
    "from sklearn.decomposition import PCA\n",
    "\n",
    "pca = PCA(n_components=0.95)\n",
    "X_train_scaled_pca = pca.fit_transform(X_train_scaled)\n",
    "X_test_scaled_pca = pca.transform(X_test_scaled)"
   ]
  },
  {
   "cell_type": "code",
   "execution_count": 42,
   "metadata": {},
   "outputs": [],
   "source": [
    "from sklearn.linear_model import LinearRegression\n",
    "linear_regression = LinearRegression()\n",
    "linear_regression.fit(X_train_scaled_pca, y_train)\n",
    "y_pred = linear_regression.predict(X_test_scaled_pca)"
   ]
  },
  {
   "cell_type": "code",
   "execution_count": 43,
   "metadata": {},
   "outputs": [
    {
     "name": "stdout",
     "output_type": "stream",
     "text": [
      "Training set\n",
      "MSE: 8.149\n",
      "MAE: 2.232\n",
      "R2: 0.832\n",
      "\n",
      "Test set\n",
      "MSE: 8.214\n",
      "MAE: 2.247\n",
      "R2: 0.829\n"
     ]
    }
   ],
   "source": [
    "print('Training set')\n",
    "mse, mae, r2 = evaluate_model(linear_regression, X_train_scaled_pca, y_train)\n",
    "print_metrics(mse, mae, r2)\n",
    "\n",
    "print('\\nTest set')\n",
    "mse, mae, r2 = evaluate_model(linear_regression, X_test_scaled_pca, y_test)\n",
    "print_metrics(mse, mae, r2)"
   ]
  },
  {
   "cell_type": "code",
   "execution_count": null,
   "metadata": {},
   "outputs": [],
   "source": []
  },
  {
   "cell_type": "code",
   "execution_count": null,
   "metadata": {},
   "outputs": [],
   "source": []
  },
  {
   "cell_type": "code",
   "execution_count": null,
   "metadata": {},
   "outputs": [],
   "source": []
  }
 ],
 "metadata": {
  "kernelspec": {
   "display_name": "Python 3",
   "language": "python",
   "name": "python3"
  },
  "language_info": {
   "codemirror_mode": {
    "name": "ipython",
    "version": 3
   },
   "file_extension": ".py",
   "mimetype": "text/x-python",
   "name": "python",
   "nbconvert_exporter": "python",
   "pygments_lexer": "ipython3",
   "version": "3.12.4"
  }
 },
 "nbformat": 4,
 "nbformat_minor": 2
}
