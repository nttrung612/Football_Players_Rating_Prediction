{
 "cells": [
  {
   "cell_type": "code",
   "execution_count": 1,
   "metadata": {
    "ExecuteTime": {
     "end_time": "2024-11-29T11:04:34.934455Z",
     "start_time": "2024-11-29T11:04:34.864604Z"
    }
   },
   "source": [
    "import numpy as np\n",
    "import pandas as pd\n",
    "import matplotlib.pyplot as plt\n",
    "import seaborn as sns"
   ],
   "outputs": []
  },
  {
   "cell_type": "markdown",
   "metadata": {},
   "source": [
    "## Read csv file"
   ]
  },
  {
   "cell_type": "code",
   "execution_count": 3,
   "metadata": {
    "ExecuteTime": {
     "end_time": "2024-11-29T11:04:35.332359Z",
     "start_time": "2024-11-29T11:04:35.062569Z"
    }
   },
   "source": [
    "df = pd.read_csv('fifa_players.csv')\n",
    "df['id'] = df.index\n",
    "df.set_index('id', inplace=True)\n",
    "df.head()"
   ],
   "outputs": []
  },
  {
   "cell_type": "code",
   "execution_count": 135,
   "metadata": {
    "ExecuteTime": {
     "end_time": "2024-11-29T11:04:35.431207Z",
     "start_time": "2024-11-29T11:04:35.362658Z"
    }
   },
   "source": [
    "df.info()"
   ],
   "outputs": []
  },
  {
   "cell_type": "code",
   "execution_count": 136,
   "metadata": {},
   "source": [
    "df.describe()"
   ],
   "outputs": []
  },
  {
   "cell_type": "markdown",
   "metadata": {},
   "source": [
    "## Remove irrelevant columns"
   ]
  },
  {
   "cell_type": "code",
   "execution_count": 137,
   "metadata": {
    "ExecuteTime": {
     "end_time": "2024-11-29T11:04:35.750143Z",
     "start_time": "2024-11-29T11:04:35.734903Z"
    }
   },
   "source": [
    "df.drop(['name', 'full_name', 'birth_date'], axis=1, inplace=True)"
   ],
   "outputs": []
  },
  {
   "cell_type": "markdown",
   "metadata": {},
   "source": [
    "## Missing values"
   ]
  },
  {
   "cell_type": "code",
   "execution_count": 138,
   "metadata": {
    "ExecuteTime": {
     "end_time": "2024-11-29T11:04:36.332477Z",
     "start_time": "2024-11-29T11:04:36.124996Z"
    }
   },
   "source": [
    "missing_values = df.isnull().sum()\n",
    "missing_values = missing_values[missing_values > 0]\n",
    "missing_values.sort_values(inplace=True)\n",
    "missing_values.plot.bar()"
   ],
   "outputs": []
  },
  {
   "cell_type": "code",
   "execution_count": 139,
   "metadata": {
    "ExecuteTime": {
     "end_time": "2024-11-29T11:04:36.889637Z",
     "start_time": "2024-11-29T11:04:36.880839Z"
    }
   },
   "source": [
    "df.drop(['national_team', 'national_team_position','national_rating', \n",
    "         'national_jersey_number'], axis=1, inplace=True)"
   ],
   "outputs": []
  },
  {
   "cell_type": "code",
   "execution_count": 140,
   "metadata": {
    "ExecuteTime": {
     "end_time": "2024-11-29T11:04:37.540613Z",
     "start_time": "2024-11-29T11:04:37.532330Z"
    }
   },
   "source": [
    "missing_cols = df.columns[df.isnull().any()]\n",
    "df[missing_cols].isnull().sum()"
   ],
   "outputs": []
  },
  {
   "cell_type": "markdown",
   "metadata": {},
   "source": [
    "## Histogram"
   ]
  },
  {
   "cell_type": "code",
   "execution_count": 141,
   "metadata": {
    "ExecuteTime": {
     "end_time": "2024-11-29T11:04:44.159920Z",
     "start_time": "2024-11-29T11:04:38.163544Z"
    }
   },
   "source": [
    "df.hist(bins=30, figsize=(20,20))\n",
    "plt.tight_layout()\n",
    "plt.show()"
   ],
   "outputs": []
  },
  {
   "cell_type": "code",
   "execution_count": 142,
   "metadata": {
    "ExecuteTime": {
     "end_time": "2024-11-29T11:04:44.309552Z",
     "start_time": "2024-11-29T11:04:44.160422Z"
    }
   },
   "source": [
    "sns.histplot(df['height_cm'], bins=30)\n",
    "plt.title('Histogram of Height in cm')\n",
    "plt.show()"
   ],
   "outputs": []
  },
  {
   "cell_type": "code",
   "execution_count": 143,
   "metadata": {
    "ExecuteTime": {
     "end_time": "2024-11-29T11:04:44.320539Z",
     "start_time": "2024-11-29T11:04:44.309552Z"
    }
   },
   "source": [
    "height_outliers = df[df['height_cm'] <= 160]\n",
    "height_outliers = height_outliers[['height_cm']]\n",
    "height_outliers"
   ],
   "outputs": []
  },
  {
   "cell_type": "code",
   "execution_count": 144,
   "metadata": {
    "ExecuteTime": {
     "end_time": "2024-11-29T11:04:44.327374Z",
     "start_time": "2024-11-29T11:04:44.322049Z"
    }
   },
   "source": [
    "df[df['height_cm'] <= 160].shape"
   ],
   "outputs": []
  },
  {
   "cell_type": "code",
   "execution_count": 145,
   "metadata": {
    "ExecuteTime": {
     "end_time": "2024-11-29T11:04:44.331181Z",
     "start_time": "2024-11-29T11:04:44.327374Z"
    }
   },
   "source": [
    "df.loc[df['height_cm'] <= 160, 'height_cm'] = np.nan"
   ],
   "outputs": []
  },
  {
   "cell_type": "code",
   "execution_count": 146,
   "metadata": {
    "ExecuteTime": {
     "end_time": "2024-11-29T11:04:44.338839Z",
     "start_time": "2024-11-29T11:04:44.331181Z"
    }
   },
   "source": [
    "df.isnull().sum().sort_values(ascending=False)"
   ],
   "outputs": []
  },
  {
   "cell_type": "markdown",
   "metadata": {},
   "source": [
    "## Miss Forest for handling height ouliers"
   ]
  },
  {
   "cell_type": "code",
   "execution_count": 147,
   "metadata": {
    "ExecuteTime": {
     "end_time": "2024-11-29T11:04:46.377937Z",
     "start_time": "2024-11-29T11:04:44.338839Z"
    }
   },
   "source": [
    "from missforest import MissForest\n",
    "\n",
    "imputer = MissForest()\n",
    "\n",
    "columns_to_impute = ['value_euro', 'height_cm', 'wage_euro', 'release_clause_euro']\n",
    "\n",
    "df[columns_to_impute] = imputer.fit_transform(df[columns_to_impute])\n",
    "\n",
    "df[columns_to_impute].isnull().sum()"
   ],
   "outputs": []
  },
  {
   "cell_type": "code",
   "execution_count": 148,
   "metadata": {
    "ExecuteTime": {
     "end_time": "2024-11-29T11:04:49.616198Z",
     "start_time": "2024-11-29T11:04:49.485801Z"
    }
   },
   "source": [
    "df['height_cm'].hist(bins=30)"
   ],
   "outputs": []
  },
  {
   "cell_type": "code",
   "execution_count": 149,
   "metadata": {
    "ExecuteTime": {
     "end_time": "2024-11-29T11:04:53.064883Z",
     "start_time": "2024-11-29T11:04:52.682793Z"
    }
   },
   "source": [
    "df['value_euro'].hist(bins=30)"
   ],
   "outputs": []
  },
  {
   "cell_type": "code",
   "execution_count": 150,
   "metadata": {
    "ExecuteTime": {
     "end_time": "2024-11-29T11:04:54.704718Z",
     "start_time": "2024-11-29T11:04:54.520509Z"
    }
   },
   "source": [
    "df['wage_euro'].hist(bins=30)"
   ],
   "outputs": []
  },
  {
   "cell_type": "markdown",
   "metadata": {},
   "source": [
    "## Check duplicated values"
   ]
  },
  {
   "cell_type": "code",
   "execution_count": 151,
   "metadata": {
    "ExecuteTime": {
     "end_time": "2024-11-29T11:05:10.861983Z",
     "start_time": "2024-11-29T11:05:10.834026Z"
    }
   },
   "source": [
    "df.duplicated().sum()"
   ],
   "outputs": []
  },
  {
   "cell_type": "markdown",
   "metadata": {},
   "source": [
    "## Handle String values"
   ]
  },
  {
   "cell_type": "code",
   "execution_count": 152,
   "metadata": {
    "ExecuteTime": {
     "end_time": "2024-11-29T11:07:32.093493Z",
     "start_time": "2024-11-29T11:07:32.078210Z"
    }
   },
   "source": [
    "object_cols = df.select_dtypes(include=['object']).columns\n",
    "df[object_cols].nunique()"
   ],
   "outputs": []
  },
  {
   "cell_type": "code",
   "execution_count": 153,
   "metadata": {},
   "source": [
    "for col in object_cols:\n",
    "    print(f'{col}: {df[col].unique()}')\n",
    "    print()"
   ],
   "outputs": []
  },
  {
   "cell_type": "code",
   "execution_count": 154,
   "metadata": {
    "ExecuteTime": {
     "end_time": "2024-11-29T11:09:53.860149Z",
     "start_time": "2024-11-29T11:09:53.848056Z"
    }
   },
   "source": [
    "valid_body_types = ['Lean', 'Normal', 'Stocky']\n",
    "df = df[df['body_type'].isin(valid_body_types)]\n",
    "df['body_type'].unique()"
   ],
   "outputs": []
  },
  {
   "cell_type": "code",
   "execution_count": 155,
   "metadata": {
    "ExecuteTime": {
     "end_time": "2024-11-29T11:09:55.295192Z",
     "start_time": "2024-11-29T11:09:55.275552Z"
    }
   },
   "source": [
    "df['body_type'].value_counts()"
   ],
   "outputs": []
  },
  {
   "cell_type": "code",
   "execution_count": 156,
   "metadata": {
    "ExecuteTime": {
     "end_time": "2024-11-29T11:09:56.873808Z",
     "start_time": "2024-11-29T11:09:56.868035Z"
    }
   },
   "source": [
    "df['preferred_foot'].value_counts()"
   ],
   "outputs": []
  },
  {
   "cell_type": "code",
   "execution_count": 157,
   "metadata": {
    "ExecuteTime": {
     "end_time": "2024-11-29T11:09:58.097739Z",
     "start_time": "2024-11-29T11:09:58.092707Z"
    }
   },
   "source": [
    "df['international_reputation(1-5)'].value_counts()"
   ],
   "outputs": []
  },
  {
   "cell_type": "code",
   "execution_count": 158,
   "metadata": {
    "ExecuteTime": {
     "end_time": "2024-11-29T11:10:08.008425Z",
     "start_time": "2024-11-29T11:10:07.999493Z"
    }
   },
   "source": [
    "df.drop(['international_reputation(1-5)'], axis=1, inplace=True)"
   ],
   "outputs": []
  },
  {
   "cell_type": "markdown",
   "metadata": {},
   "source": [
    "## preferred foot"
   ]
  },
  {
   "cell_type": "code",
   "execution_count": 159,
   "metadata": {
    "ExecuteTime": {
     "end_time": "2024-11-29T11:10:24.678947Z",
     "start_time": "2024-11-29T11:10:24.655404Z"
    }
   },
   "source": [
    "from sklearn.preprocessing import LabelEncoder\n",
    "\n",
    "le = LabelEncoder()\n",
    "\n",
    "df['preferred_foot'] = le.fit_transform(df['preferred_foot'])\n",
    "df['preferred_foot'].value_counts()"
   ],
   "outputs": []
  },
  {
   "cell_type": "markdown",
   "metadata": {},
   "source": [
    "## body type"
   ]
  },
  {
   "cell_type": "code",
   "execution_count": 160,
   "metadata": {
    "ExecuteTime": {
     "end_time": "2024-11-29T11:10:31.686609Z",
     "start_time": "2024-11-29T11:10:31.650264Z"
    }
   },
   "source": [
    "df_encoded = pd.get_dummies(df, columns=['body_type'])\n",
    "df_encoded.head()"
   ],
   "outputs": []
  },
  {
   "cell_type": "code",
   "execution_count": 161,
   "metadata": {
    "ExecuteTime": {
     "end_time": "2024-11-29T11:10:33.029421Z",
     "start_time": "2024-11-29T11:10:33.019516Z"
    }
   },
   "source": [
    "df = df_encoded.copy()"
   ],
   "outputs": []
  },
  {
   "cell_type": "markdown",
   "metadata": {},
   "source": [
    "## positions"
   ]
  },
  {
   "cell_type": "code",
   "execution_count": 162,
   "metadata": {
    "ExecuteTime": {
     "end_time": "2024-11-29T11:10:36.030199Z",
     "start_time": "2024-11-29T11:10:36.023180Z"
    }
   },
   "source": [
    "object_cols = df.select_dtypes(include=['object']).columns\n",
    "object_cols"
   ],
   "outputs": []
  },
  {
   "cell_type": "code",
   "execution_count": 163,
   "metadata": {
    "ExecuteTime": {
     "end_time": "2024-11-29T11:10:36.881576Z",
     "start_time": "2024-11-29T11:10:36.856636Z"
    }
   },
   "source": [
    "df['positions'] = df['positions'].str.split(',')\n",
    "df['positions']"
   ],
   "outputs": []
  },
  {
   "cell_type": "code",
   "execution_count": 164,
   "metadata": {
    "ExecuteTime": {
     "end_time": "2024-11-29T11:10:52.781545Z",
     "start_time": "2024-11-29T11:10:52.696591Z"
    }
   },
   "source": [
    "df_exploded = df.explode('positions')\n",
    "df_encoded = pd.get_dummies(df_exploded, columns=['positions'])\n",
    "\n",
    "one_hot_columns = [col for col in df_encoded.columns if col.startswith('positions_')]\n",
    "df_one_hot_sum = df_encoded[one_hot_columns].groupby('id').sum()\n",
    "df_final = df.drop(columns=['positions']).join(df_one_hot_sum)\n",
    "\n",
    "df = df_final"
   ],
   "outputs": []
  },
  {
   "cell_type": "code",
   "execution_count": 165,
   "metadata": {
    "ExecuteTime": {
     "end_time": "2024-11-29T11:11:10.120931Z",
     "start_time": "2024-11-29T11:11:10.102513Z"
    }
   },
   "source": [
    "import pandas as pd\n",
    "pd.set_option('display.max_columns', None)\n",
    "df.head()"
   ],
   "outputs": []
  },
  {
   "cell_type": "markdown",
   "metadata": {},
   "source": [
    "# nationality"
   ]
  },
  {
   "cell_type": "code",
   "execution_count": 166,
   "metadata": {
    "ExecuteTime": {
     "end_time": "2024-11-29T11:11:17.751534Z",
     "start_time": "2024-11-29T11:11:17.745023Z"
    }
   },
   "source": [
    "object_cols = df.select_dtypes(include=['object']).columns\n",
    "object_cols"
   ],
   "outputs": []
  },
  {
   "cell_type": "code",
   "execution_count": 167,
   "metadata": {
    "ExecuteTime": {
     "end_time": "2024-11-29T11:11:18.830185Z",
     "start_time": "2024-11-29T11:11:18.823180Z"
    }
   },
   "source": [
    "df['nationality'].nunique()"
   ],
   "outputs": []
  },
  {
   "cell_type": "code",
   "execution_count": 168,
   "metadata": {
    "ExecuteTime": {
     "end_time": "2024-11-29T11:11:20.751095Z",
     "start_time": "2024-11-29T11:11:20.743370Z"
    }
   },
   "source": [
    "df['nationality'].unique()"
   ],
   "outputs": []
  },
  {
   "cell_type": "code",
   "execution_count": 169,
   "metadata": {
    "ExecuteTime": {
     "end_time": "2024-11-29T11:11:24.699887Z",
     "start_time": "2024-11-29T11:11:24.692712Z"
    }
   },
   "source": [
    "df['nationality'].value_counts()"
   ],
   "outputs": []
  },
  {
   "cell_type": "markdown",
   "metadata": {},
   "source": [
    "# Create new data"
   ]
  },
  {
   "cell_type": "code",
   "execution_count": 170,
   "metadata": {},
   "source": [
    "df.to_csv('data.csv', index=False)"
   ],
   "outputs": []
  },
  {
   "cell_type": "markdown",
   "metadata": {},
   "source": [
    "# Leakage Problem"
   ]
  },
  {
   "cell_type": "code",
   "execution_count": 171,
   "metadata": {},
   "source": [
    "import pandas as pd\n",
    "\n",
    "df = pd.read_csv('data.csv')"
   ],
   "outputs": []
  },
  {
   "cell_type": "code",
   "execution_count": 172,
   "metadata": {},
   "source": [
    "tmp = df.drop('nationality', axis=1)\n",
    "tmp.corr()['overall_rating'].sort_values(ascending=False)"
   ],
   "outputs": []
  },
  {
   "cell_type": "code",
   "execution_count": 173,
   "metadata": {},
   "source": [
    "import matplotlib.pyplot as plt\n",
    "import seaborn as sns\n",
    "\n",
    "plt.figure(figsize=(10, 6))\n",
    "sns.kdeplot(df['overall_rating'], label=\"Overall Rating\", fill=True)\n",
    "sns.kdeplot(df['potential'], label=\"Potential\", fill=True)\n",
    "plt.legend()\n",
    "plt.title(\"Distribution Comparison\")\n",
    "plt.show()"
   ],
   "outputs": []
  },
  {
   "cell_type": "code",
   "execution_count": 174,
   "metadata": {},
   "source": [
    "df.drop(['value_euro', 'wage_euro', 'release_clause_euro',\n",
    "         'potential', 'composure', 'reactions'], axis=1, inplace=True)"
   ],
   "outputs": []
  },
  {
   "cell_type": "markdown",
   "metadata": {},
   "source": [
    "## Handle outliers"
   ]
  },
  {
   "cell_type": "code",
   "execution_count": 175,
   "metadata": {},
   "source": [
    "numeric_columns = df.select_dtypes(include=['float64', 'int64']).columns\n",
    "\n",
    "exclude_columns = ['positions_CAM', 'positions_CB', 'positions_CDM', 'positions_CF', 'positions_CM', 'positions_GK', \n",
    "                   'positions_LB', 'positions_LM', 'positions_LW', 'positions_LWB', 'positions_RB', 'positions_RM', \n",
    "                   'positions_RW', 'positions_RWB', 'positions_ST', 'body_type_Lean', 'body_type_Normal', 'body_type_Stocky',\n",
    "                   'overall_rating', 'preferred_foot', 'weak_foot(1-5)']"
   ],
   "outputs": []
  },
  {
   "cell_type": "code",
   "execution_count": 176,
   "metadata": {},
   "source": [
    "from typing import Tuple\n",
    "from sklearn.base import BaseEstimator, TransformerMixin\n",
    "\n",
    "\n",
    "def find_boxplot_boundaries(col: pd.Series, whisker_coeff: float = 1.5) -> Tuple[float, float]:\n",
    "    \"\"\"Findx minimum and maximum in boxplot.\n",
    "\n",
    "    Args:\n",
    "        col: a pandas serires of input.\n",
    "        whisker_coeff: whisker coefficient in box plot\n",
    "    \"\"\"\n",
    "    Q1 = col.quantile(0.25)\n",
    "    Q3 = col.quantile(0.75)\n",
    "    IQR = Q3 - Q1\n",
    "    lower = Q1 - whisker_coeff * IQR\n",
    "    upper = Q3 + whisker_coeff * IQR\n",
    "    return lower, upper\n",
    "\n",
    "\n",
    "class BoxplotOutlierClipper(BaseEstimator, TransformerMixin):\n",
    "    def __init__(self, whisker_coeff: float = 1.5):\n",
    "        self.whisker = whisker_coeff\n",
    "        self.lower = None\n",
    "        self.upper = None\n",
    "\n",
    "    def fit(self, X: pd.Series):\n",
    "        self.lower, self.upper = find_boxplot_boundaries(X, self.whisker)\n",
    "        return self\n",
    "\n",
    "    def transform(self, X):\n",
    "        return X.clip(self.lower, self.upper)"
   ],
   "outputs": []
  },
  {
   "cell_type": "code",
   "execution_count": 177,
   "metadata": {},
   "source": [
    "outlier_features = []\n",
    "\n",
    "for column in numeric_columns:\n",
    "    if column not in exclude_columns:\n",
    "        clipper = BoxplotOutlierClipper()\n",
    "        clipper.fit(df[column])\n",
    "        lower, upper = clipper.lower, clipper.upper\n",
    "        if df[(df[column] < lower) | (df[column] > upper)].shape[0] > 0:\n",
    "            outlier_features.append(column)\n",
    "\n",
    "print(\"Features with outliers:\", outlier_features)"
   ],
   "outputs": []
  },
  {
   "cell_type": "code",
   "execution_count": 178,
   "metadata": {},
   "source": [
    "for column in outlier_features:\n",
    "    if column in exclude_columns:\n",
    "        continue\n",
    "    plt.figure(figsize=(15, 5))\n",
    "    \n",
    "    # Distribution plot\n",
    "    plt.subplot(1, 2, 1)\n",
    "    sns.histplot(df[column], kde=True)\n",
    "    plt.title(f'Distribution of {column}')\n",
    "    \n",
    "    # Boxplot\n",
    "    plt.subplot(1, 2, 2)\n",
    "    sns.boxplot(x=df[column])\n",
    "    plt.title(f'Boxplot of {column}')\n",
    "    \n",
    "    plt.show()"
   ],
   "outputs": []
  },
  {
   "cell_type": "code",
   "execution_count": 179,
   "metadata": {},
   "source": [
    "for feature in outlier_features:\n",
    "    clipper = BoxplotOutlierClipper()\n",
    "    df[feature] = clipper.fit_transform(df[feature])\n",
    "\n",
    "df.head()"
   ],
   "outputs": []
  },
  {
   "cell_type": "code",
   "execution_count": 180,
   "metadata": {},
   "source": [
    "df.to_csv('data.csv', index=False)"
   ],
   "outputs": []
  }
 ],
 "metadata": {
  "kernelspec": {
   "display_name": "Python 3",
   "language": "python",
   "name": "python3"
  },
  "language_info": {
   "codemirror_mode": {
    "name": "ipython",
    "version": 3
   },
   "file_extension": ".py",
   "mimetype": "text/x-python",
   "name": "python",
   "nbconvert_exporter": "python",
   "pygments_lexer": "ipython3",
   "version": "3.12.6"
  }
 },
 "nbformat": 4,
 "nbformat_minor": 2
}
