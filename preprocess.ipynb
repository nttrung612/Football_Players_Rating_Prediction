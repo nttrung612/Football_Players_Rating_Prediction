{
 "cells": [
  {
   "cell_type": "code",
   "execution_count": 2708,
   "metadata": {},
   "outputs": [],
   "source": [
    "import numpy as np\n",
    "import pandas as pd\n",
    "import matplotlib.pyplot as plt\n",
    "import seaborn as sns"
   ]
  },
  {
   "cell_type": "code",
   "execution_count": 2709,
   "metadata": {},
   "outputs": [],
   "source": [
    "df = pd.read_csv('fifa_players.csv')"
   ]
  },
  {
   "cell_type": "code",
   "execution_count": 2710,
   "metadata": {},
   "outputs": [],
   "source": [
    "df['id'] = df.index\n",
    "df.set_index('id', inplace=True)"
   ]
  },
  {
   "cell_type": "code",
   "execution_count": 2711,
   "metadata": {},
   "outputs": [
    {
     "data": {
      "text/html": [
       "<div>\n",
       "<style scoped>\n",
       "    .dataframe tbody tr th:only-of-type {\n",
       "        vertical-align: middle;\n",
       "    }\n",
       "\n",
       "    .dataframe tbody tr th {\n",
       "        vertical-align: top;\n",
       "    }\n",
       "\n",
       "    .dataframe thead th {\n",
       "        text-align: right;\n",
       "    }\n",
       "</style>\n",
       "<table border=\"1\" class=\"dataframe\">\n",
       "  <thead>\n",
       "    <tr style=\"text-align: right;\">\n",
       "      <th></th>\n",
       "      <th>name</th>\n",
       "      <th>full_name</th>\n",
       "      <th>birth_date</th>\n",
       "      <th>age</th>\n",
       "      <th>height_cm</th>\n",
       "      <th>weight_kgs</th>\n",
       "      <th>positions</th>\n",
       "      <th>nationality</th>\n",
       "      <th>overall_rating</th>\n",
       "      <th>potential</th>\n",
       "      <th>...</th>\n",
       "      <th>long_shots</th>\n",
       "      <th>aggression</th>\n",
       "      <th>interceptions</th>\n",
       "      <th>positioning</th>\n",
       "      <th>vision</th>\n",
       "      <th>penalties</th>\n",
       "      <th>composure</th>\n",
       "      <th>marking</th>\n",
       "      <th>standing_tackle</th>\n",
       "      <th>sliding_tackle</th>\n",
       "    </tr>\n",
       "    <tr>\n",
       "      <th>id</th>\n",
       "      <th></th>\n",
       "      <th></th>\n",
       "      <th></th>\n",
       "      <th></th>\n",
       "      <th></th>\n",
       "      <th></th>\n",
       "      <th></th>\n",
       "      <th></th>\n",
       "      <th></th>\n",
       "      <th></th>\n",
       "      <th></th>\n",
       "      <th></th>\n",
       "      <th></th>\n",
       "      <th></th>\n",
       "      <th></th>\n",
       "      <th></th>\n",
       "      <th></th>\n",
       "      <th></th>\n",
       "      <th></th>\n",
       "      <th></th>\n",
       "      <th></th>\n",
       "    </tr>\n",
       "  </thead>\n",
       "  <tbody>\n",
       "    <tr>\n",
       "      <th>0</th>\n",
       "      <td>L. Messi</td>\n",
       "      <td>Lionel Andrés Messi Cuccittini</td>\n",
       "      <td>6/24/1987</td>\n",
       "      <td>31</td>\n",
       "      <td>170.18</td>\n",
       "      <td>72.1</td>\n",
       "      <td>CF,RW,ST</td>\n",
       "      <td>Argentina</td>\n",
       "      <td>94</td>\n",
       "      <td>94</td>\n",
       "      <td>...</td>\n",
       "      <td>94</td>\n",
       "      <td>48</td>\n",
       "      <td>22</td>\n",
       "      <td>94</td>\n",
       "      <td>94</td>\n",
       "      <td>75</td>\n",
       "      <td>96</td>\n",
       "      <td>33</td>\n",
       "      <td>28</td>\n",
       "      <td>26</td>\n",
       "    </tr>\n",
       "    <tr>\n",
       "      <th>1</th>\n",
       "      <td>C. Eriksen</td>\n",
       "      <td>Christian  Dannemann Eriksen</td>\n",
       "      <td>2/14/1992</td>\n",
       "      <td>27</td>\n",
       "      <td>154.94</td>\n",
       "      <td>76.2</td>\n",
       "      <td>CAM,RM,CM</td>\n",
       "      <td>Denmark</td>\n",
       "      <td>88</td>\n",
       "      <td>89</td>\n",
       "      <td>...</td>\n",
       "      <td>89</td>\n",
       "      <td>46</td>\n",
       "      <td>56</td>\n",
       "      <td>84</td>\n",
       "      <td>91</td>\n",
       "      <td>67</td>\n",
       "      <td>88</td>\n",
       "      <td>59</td>\n",
       "      <td>57</td>\n",
       "      <td>22</td>\n",
       "    </tr>\n",
       "    <tr>\n",
       "      <th>2</th>\n",
       "      <td>P. Pogba</td>\n",
       "      <td>Paul Pogba</td>\n",
       "      <td>3/15/1993</td>\n",
       "      <td>25</td>\n",
       "      <td>190.50</td>\n",
       "      <td>83.9</td>\n",
       "      <td>CM,CAM</td>\n",
       "      <td>France</td>\n",
       "      <td>88</td>\n",
       "      <td>91</td>\n",
       "      <td>...</td>\n",
       "      <td>82</td>\n",
       "      <td>78</td>\n",
       "      <td>64</td>\n",
       "      <td>82</td>\n",
       "      <td>88</td>\n",
       "      <td>82</td>\n",
       "      <td>87</td>\n",
       "      <td>63</td>\n",
       "      <td>67</td>\n",
       "      <td>67</td>\n",
       "    </tr>\n",
       "    <tr>\n",
       "      <th>3</th>\n",
       "      <td>L. Insigne</td>\n",
       "      <td>Lorenzo Insigne</td>\n",
       "      <td>6/4/1991</td>\n",
       "      <td>27</td>\n",
       "      <td>162.56</td>\n",
       "      <td>59.0</td>\n",
       "      <td>LW,ST</td>\n",
       "      <td>Italy</td>\n",
       "      <td>88</td>\n",
       "      <td>88</td>\n",
       "      <td>...</td>\n",
       "      <td>84</td>\n",
       "      <td>34</td>\n",
       "      <td>26</td>\n",
       "      <td>83</td>\n",
       "      <td>87</td>\n",
       "      <td>61</td>\n",
       "      <td>83</td>\n",
       "      <td>51</td>\n",
       "      <td>24</td>\n",
       "      <td>22</td>\n",
       "    </tr>\n",
       "    <tr>\n",
       "      <th>4</th>\n",
       "      <td>K. Koulibaly</td>\n",
       "      <td>Kalidou Koulibaly</td>\n",
       "      <td>6/20/1991</td>\n",
       "      <td>27</td>\n",
       "      <td>187.96</td>\n",
       "      <td>88.9</td>\n",
       "      <td>CB</td>\n",
       "      <td>Senegal</td>\n",
       "      <td>88</td>\n",
       "      <td>91</td>\n",
       "      <td>...</td>\n",
       "      <td>15</td>\n",
       "      <td>87</td>\n",
       "      <td>88</td>\n",
       "      <td>24</td>\n",
       "      <td>49</td>\n",
       "      <td>33</td>\n",
       "      <td>80</td>\n",
       "      <td>91</td>\n",
       "      <td>88</td>\n",
       "      <td>87</td>\n",
       "    </tr>\n",
       "  </tbody>\n",
       "</table>\n",
       "<p>5 rows × 51 columns</p>\n",
       "</div>"
      ],
      "text/plain": [
       "            name                       full_name birth_date  age  height_cm  \\\n",
       "id                                                                            \n",
       "0       L. Messi  Lionel Andrés Messi Cuccittini  6/24/1987   31     170.18   \n",
       "1     C. Eriksen    Christian  Dannemann Eriksen  2/14/1992   27     154.94   \n",
       "2       P. Pogba                      Paul Pogba  3/15/1993   25     190.50   \n",
       "3     L. Insigne                 Lorenzo Insigne   6/4/1991   27     162.56   \n",
       "4   K. Koulibaly               Kalidou Koulibaly  6/20/1991   27     187.96   \n",
       "\n",
       "    weight_kgs  positions nationality  overall_rating  potential  ...  \\\n",
       "id                                                                ...   \n",
       "0         72.1   CF,RW,ST   Argentina              94         94  ...   \n",
       "1         76.2  CAM,RM,CM     Denmark              88         89  ...   \n",
       "2         83.9     CM,CAM      France              88         91  ...   \n",
       "3         59.0      LW,ST       Italy              88         88  ...   \n",
       "4         88.9         CB     Senegal              88         91  ...   \n",
       "\n",
       "    long_shots  aggression interceptions  positioning  vision  penalties  \\\n",
       "id                                                                         \n",
       "0           94          48            22           94      94         75   \n",
       "1           89          46            56           84      91         67   \n",
       "2           82          78            64           82      88         82   \n",
       "3           84          34            26           83      87         61   \n",
       "4           15          87            88           24      49         33   \n",
       "\n",
       "   composure  marking standing_tackle  sliding_tackle  \n",
       "id                                                     \n",
       "0         96       33              28              26  \n",
       "1         88       59              57              22  \n",
       "2         87       63              67              67  \n",
       "3         83       51              24              22  \n",
       "4         80       91              88              87  \n",
       "\n",
       "[5 rows x 51 columns]"
      ]
     },
     "execution_count": 2711,
     "metadata": {},
     "output_type": "execute_result"
    }
   ],
   "source": [
    "df.head()"
   ]
  },
  {
   "cell_type": "code",
   "execution_count": 2712,
   "metadata": {},
   "outputs": [],
   "source": [
    "df.drop([\n",
    "    'name', 'full_name', 'birth_date' , 'national_team' , 'national_rating' , 'national_team_position',\n",
    "    'national_jersey_number','value_euro','wage_euro','release_clause_euro', 'potential',\n",
    "    'composure', 'reactions'\n",
    "    ], axis=1, inplace=True)"
   ]
  },
  {
   "cell_type": "code",
   "execution_count": 2713,
   "metadata": {},
   "outputs": [
    {
     "name": "stdout",
     "output_type": "stream",
     "text": [
      "<class 'pandas.core.frame.DataFrame'>\n",
      "Index: 17954 entries, 0 to 17953\n",
      "Data columns (total 38 columns):\n",
      " #   Column                         Non-Null Count  Dtype  \n",
      "---  ------                         --------------  -----  \n",
      " 0   age                            17954 non-null  int64  \n",
      " 1   height_cm                      17954 non-null  float64\n",
      " 2   weight_kgs                     17954 non-null  float64\n",
      " 3   positions                      17954 non-null  object \n",
      " 4   nationality                    17954 non-null  object \n",
      " 5   overall_rating                 17954 non-null  int64  \n",
      " 6   preferred_foot                 17954 non-null  object \n",
      " 7   international_reputation(1-5)  17954 non-null  int64  \n",
      " 8   weak_foot(1-5)                 17954 non-null  int64  \n",
      " 9   skill_moves(1-5)               17954 non-null  int64  \n",
      " 10  body_type                      17954 non-null  object \n",
      " 11  crossing                       17954 non-null  int64  \n",
      " 12  finishing                      17954 non-null  int64  \n",
      " 13  heading_accuracy               17954 non-null  int64  \n",
      " 14  short_passing                  17954 non-null  int64  \n",
      " 15  volleys                        17954 non-null  int64  \n",
      " 16  dribbling                      17954 non-null  int64  \n",
      " 17  curve                          17954 non-null  int64  \n",
      " 18  freekick_accuracy              17954 non-null  int64  \n",
      " 19  long_passing                   17954 non-null  int64  \n",
      " 20  ball_control                   17954 non-null  int64  \n",
      " 21  acceleration                   17954 non-null  int64  \n",
      " 22  sprint_speed                   17954 non-null  int64  \n",
      " 23  agility                        17954 non-null  int64  \n",
      " 24  balance                        17954 non-null  int64  \n",
      " 25  shot_power                     17954 non-null  int64  \n",
      " 26  jumping                        17954 non-null  int64  \n",
      " 27  stamina                        17954 non-null  int64  \n",
      " 28  strength                       17954 non-null  int64  \n",
      " 29  long_shots                     17954 non-null  int64  \n",
      " 30  aggression                     17954 non-null  int64  \n",
      " 31  interceptions                  17954 non-null  int64  \n",
      " 32  positioning                    17954 non-null  int64  \n",
      " 33  vision                         17954 non-null  int64  \n",
      " 34  penalties                      17954 non-null  int64  \n",
      " 35  marking                        17954 non-null  int64  \n",
      " 36  standing_tackle                17954 non-null  int64  \n",
      " 37  sliding_tackle                 17954 non-null  int64  \n",
      "dtypes: float64(2), int64(32), object(4)\n",
      "memory usage: 5.3+ MB\n"
     ]
    }
   ],
   "source": [
    "df.info()"
   ]
  },
  {
   "cell_type": "markdown",
   "metadata": {},
   "source": [
    "# Histogram"
   ]
  },
  {
   "cell_type": "code",
   "execution_count": 2714,
   "metadata": {},
   "outputs": [
    {
     "data": {
      "image/png": "[encoded data removed]",
      "text/plain": [
       "<Figure size 1500x1000 with 36 Axes>"
      ]
     },
     "metadata": {},
     "output_type": "display_data"
    }
   ],
   "source": [
    "df.hist(figsize=(15, 10), bins=30)\n",
    "plt.tight_layout()\n",
    "plt.show()"
   ]
  },
  {
   "cell_type": "markdown",
   "metadata": {},
   "source": [
    "# Handle missing values"
   ]
  },
  {
   "cell_type": "markdown",
   "metadata": {},
   "source": [
    "## Remove missing values"
   ]
  },
  {
   "cell_type": "code",
   "execution_count": 2715,
   "metadata": {},
   "outputs": [
    {
     "name": "stdout",
     "output_type": "stream",
     "text": [
      "Series([], dtype: int64)\n"
     ]
    }
   ],
   "source": [
    "missing_values = df.isnull().sum()\n",
    "missing_values = missing_values[missing_values > 0]\n",
    "print(missing_values)"
   ]
  },
  {
   "cell_type": "code",
   "execution_count": 2716,
   "metadata": {},
   "outputs": [
    {
     "data": {
      "text/plain": [
       "[]"
      ]
     },
     "execution_count": 2716,
     "metadata": {},
     "output_type": "execute_result"
    }
   ],
   "source": [
    "missing_cols = missing_values.index.tolist()\n",
    "missing_cols"
   ]
  },
  {
   "cell_type": "code",
   "execution_count": 2717,
   "metadata": {},
   "outputs": [
    {
     "data": {
      "text/plain": [
       "(17954, 38)"
      ]
     },
     "execution_count": 2717,
     "metadata": {},
     "output_type": "execute_result"
    }
   ],
   "source": [
    "df = df.dropna()\n",
    "df.shape"
   ]
  },
  {
   "cell_type": "markdown",
   "metadata": {},
   "source": [
    "# Handle 'String' attributes"
   ]
  },
  {
   "cell_type": "code",
   "execution_count": 2718,
   "metadata": {},
   "outputs": [
    {
     "data": {
      "text/plain": [
       "Index(['positions', 'nationality', 'preferred_foot', 'body_type'], dtype='object')"
      ]
     },
     "execution_count": 2718,
     "metadata": {},
     "output_type": "execute_result"
    }
   ],
   "source": [
    "object_cols = df.select_dtypes(include='object').columns\n",
    "\n",
    "object_cols"
   ]
  },
  {
   "cell_type": "markdown",
   "metadata": {},
   "source": [
    "## preferred_foot"
   ]
  },
  {
   "cell_type": "code",
   "execution_count": 2719,
   "metadata": {},
   "outputs": [
    {
     "data": {
      "text/plain": [
       "preferred_foot\n",
       "Right    13781\n",
       "Left      4173\n",
       "Name: count, dtype: int64"
      ]
     },
     "execution_count": 2719,
     "metadata": {},
     "output_type": "execute_result"
    }
   ],
   "source": [
    "df['preferred_foot'].value_counts()"
   ]
  },
  {
   "cell_type": "markdown",
   "metadata": {},
   "source": [
    "## body_type"
   ]
  },
  {
   "cell_type": "code",
   "execution_count": 2720,
   "metadata": {},
   "outputs": [
    {
     "data": {
      "text/plain": [
       "body_type\n",
       "Normal                 10393\n",
       "Lean                    6468\n",
       "Stocky                  1086\n",
       "Messi                      1\n",
       "Courtois                   1\n",
       "PLAYER_BODY_TYPE_25        1\n",
       "Akinfenwa                  1\n",
       "Shaqiri                    1\n",
       "Neymar                     1\n",
       "C. Ronaldo                 1\n",
       "Name: count, dtype: int64"
      ]
     },
     "execution_count": 2720,
     "metadata": {},
     "output_type": "execute_result"
    }
   ],
   "source": [
    "df['body_type'].value_counts()"
   ]
  },
  {
   "cell_type": "code",
   "execution_count": 2721,
   "metadata": {},
   "outputs": [],
   "source": [
    "valid_body_types = ['Normal', 'Lean', 'Stocky']\n",
    "df = df[df['body_type'].isin(valid_body_types)]"
   ]
  },
  {
   "cell_type": "code",
   "execution_count": 2722,
   "metadata": {},
   "outputs": [
    {
     "data": {
      "text/plain": [
       "body_type\n",
       "Normal    10393\n",
       "Lean       6468\n",
       "Stocky     1086\n",
       "Name: count, dtype: int64"
      ]
     },
     "execution_count": 2722,
     "metadata": {},
     "output_type": "execute_result"
    }
   ],
   "source": [
    "df['body_type'].value_counts()"
   ]
  },
  {
   "cell_type": "markdown",
   "metadata": {},
   "source": [
    "## nationality"
   ]
  },
  {
   "cell_type": "code",
   "execution_count": 2723,
   "metadata": {},
   "outputs": [
    {
     "data": {
      "text/plain": [
       "nationality\n",
       "England                 1657\n",
       "Germany                 1199\n",
       "Spain                   1070\n",
       "France                   925\n",
       "Argentina                903\n",
       "                        ... \n",
       "Papua New Guinea           1\n",
       "South Sudan                1\n",
       "Malta                      1\n",
       "Yemen                      1\n",
       "United Arab Emirates       1\n",
       "Name: count, Length: 160, dtype: int64"
      ]
     },
     "execution_count": 2723,
     "metadata": {},
     "output_type": "execute_result"
    }
   ],
   "source": [
    "df['nationality'].value_counts()"
   ]
  },
  {
   "cell_type": "code",
   "execution_count": 2724,
   "metadata": {},
   "outputs": [],
   "source": [
    "region_mapping = {\n",
    "    \"Western Europe\": [\"Germany\", \"France\", \"Italy\", \"Spain\", \"Portugal\", \"England\", \"Netherlands\", \"Belgium\", \"Switzerland\"],\n",
    "    \"Eastern and Northern Europe\": [\"Russia\", \"Ukraine\", \"Poland\", \"Sweden\", \"Norway\", \"Denmark\", \"Finland\"],\n",
    "    \"Southern Europe and Balkans\": [\"Greece\", \"Croatia\", \"Serbia\", \"Turkey\", \"Romania\"],\n",
    "    \"North Africa and Middle East\": [\"Egypt\", \"Tunisia\", \"Morocco\", \"Iran\", \"Saudi Arabia\"],\n",
    "    \"Sub-Saharan Africa\": [\"Nigeria\", \"Ghana\", \"Senegal\", \"Ivory Coast\", \"Cameroon\"],\n",
    "    \"South America\": [\"Brazil\", \"Argentina\", \"Chile\", \"Colombia\", \"Uruguay\"],\n",
    "    \"Central America and Caribbean\": [\"Mexico\", \"Costa Rica\", \"Jamaica\", \"Honduras\"],\n",
    "    \"North America\": [\"United States\", \"Canada\"],\n",
    "    \"East Asia\": [\"Japan\", \"South Korea\", \"China\", \"North Korea\"],\n",
    "    \"Southeast Asia\": [\"Vietnam\", \"Thailand\", \"Indonesia\", \"Malaysia\", \"Philippines\"],\n",
    "    \"South Asia\": [\"India\", \"Pakistan\", \"Bangladesh\", \"Nepal\"],\n",
    "    \"Oceania\": [\"Australia\", \"New Zealand\", \"Fiji\"]\n",
    "}\n",
    "\n",
    "country_to_region = {country: region for region, countries in region_mapping.items() for country in countries}\n",
    "\n",
    "df['region'] = df['nationality'].map(country_to_region).fillna('Other')"
   ]
  },
  {
   "cell_type": "code",
   "execution_count": 2725,
   "metadata": {},
   "outputs": [
    {
     "data": {
      "text/plain": [
       "region\n",
       "Western Europe                   6751\n",
       "Other                            3413\n",
       "South America                    2851\n",
       "Eastern and Northern Europe      1595\n",
       "Southern Europe and Balkans       690\n",
       "Sub-Saharan Africa                552\n",
       "North Africa and Middle East      489\n",
       "East Asia                         466\n",
       "Central America and Caribbean     423\n",
       "North America                     401\n",
       "Oceania                           278\n",
       "South Asia                         30\n",
       "Southeast Asia                      8\n",
       "Name: count, dtype: int64"
      ]
     },
     "execution_count": 2725,
     "metadata": {},
     "output_type": "execute_result"
    }
   ],
   "source": [
    "df['region'].value_counts()"
   ]
  },
  {
   "cell_type": "code",
   "execution_count": 2726,
   "metadata": {},
   "outputs": [],
   "source": [
    "df.drop('nationality', axis=1, inplace=True)"
   ]
  },
  {
   "cell_type": "code",
   "execution_count": 2727,
   "metadata": {},
   "outputs": [
    {
     "data": {
      "text/html": [
       "<div>\n",
       "<style scoped>\n",
       "    .dataframe tbody tr th:only-of-type {\n",
       "        vertical-align: middle;\n",
       "    }\n",
       "\n",
       "    .dataframe tbody tr th {\n",
       "        vertical-align: top;\n",
       "    }\n",
       "\n",
       "    .dataframe thead th {\n",
       "        text-align: right;\n",
       "    }\n",
       "</style>\n",
       "<table border=\"1\" class=\"dataframe\">\n",
       "  <thead>\n",
       "    <tr style=\"text-align: right;\">\n",
       "      <th></th>\n",
       "      <th>age</th>\n",
       "      <th>height_cm</th>\n",
       "      <th>weight_kgs</th>\n",
       "      <th>positions</th>\n",
       "      <th>overall_rating</th>\n",
       "      <th>preferred_foot</th>\n",
       "      <th>international_reputation(1-5)</th>\n",
       "      <th>weak_foot(1-5)</th>\n",
       "      <th>skill_moves(1-5)</th>\n",
       "      <th>body_type</th>\n",
       "      <th>...</th>\n",
       "      <th>long_shots</th>\n",
       "      <th>aggression</th>\n",
       "      <th>interceptions</th>\n",
       "      <th>positioning</th>\n",
       "      <th>vision</th>\n",
       "      <th>penalties</th>\n",
       "      <th>marking</th>\n",
       "      <th>standing_tackle</th>\n",
       "      <th>sliding_tackle</th>\n",
       "      <th>region</th>\n",
       "    </tr>\n",
       "    <tr>\n",
       "      <th>id</th>\n",
       "      <th></th>\n",
       "      <th></th>\n",
       "      <th></th>\n",
       "      <th></th>\n",
       "      <th></th>\n",
       "      <th></th>\n",
       "      <th></th>\n",
       "      <th></th>\n",
       "      <th></th>\n",
       "      <th></th>\n",
       "      <th></th>\n",
       "      <th></th>\n",
       "      <th></th>\n",
       "      <th></th>\n",
       "      <th></th>\n",
       "      <th></th>\n",
       "      <th></th>\n",
       "      <th></th>\n",
       "      <th></th>\n",
       "      <th></th>\n",
       "      <th></th>\n",
       "    </tr>\n",
       "  </thead>\n",
       "  <tbody>\n",
       "    <tr>\n",
       "      <th>1</th>\n",
       "      <td>27</td>\n",
       "      <td>154.94</td>\n",
       "      <td>76.2</td>\n",
       "      <td>CAM,RM,CM</td>\n",
       "      <td>88</td>\n",
       "      <td>Right</td>\n",
       "      <td>3</td>\n",
       "      <td>5</td>\n",
       "      <td>4</td>\n",
       "      <td>Lean</td>\n",
       "      <td>...</td>\n",
       "      <td>89</td>\n",
       "      <td>46</td>\n",
       "      <td>56</td>\n",
       "      <td>84</td>\n",
       "      <td>91</td>\n",
       "      <td>67</td>\n",
       "      <td>59</td>\n",
       "      <td>57</td>\n",
       "      <td>22</td>\n",
       "      <td>Eastern and Northern Europe</td>\n",
       "    </tr>\n",
       "    <tr>\n",
       "      <th>2</th>\n",
       "      <td>25</td>\n",
       "      <td>190.50</td>\n",
       "      <td>83.9</td>\n",
       "      <td>CM,CAM</td>\n",
       "      <td>88</td>\n",
       "      <td>Right</td>\n",
       "      <td>4</td>\n",
       "      <td>4</td>\n",
       "      <td>5</td>\n",
       "      <td>Normal</td>\n",
       "      <td>...</td>\n",
       "      <td>82</td>\n",
       "      <td>78</td>\n",
       "      <td>64</td>\n",
       "      <td>82</td>\n",
       "      <td>88</td>\n",
       "      <td>82</td>\n",
       "      <td>63</td>\n",
       "      <td>67</td>\n",
       "      <td>67</td>\n",
       "      <td>Western Europe</td>\n",
       "    </tr>\n",
       "    <tr>\n",
       "      <th>3</th>\n",
       "      <td>27</td>\n",
       "      <td>162.56</td>\n",
       "      <td>59.0</td>\n",
       "      <td>LW,ST</td>\n",
       "      <td>88</td>\n",
       "      <td>Right</td>\n",
       "      <td>3</td>\n",
       "      <td>4</td>\n",
       "      <td>4</td>\n",
       "      <td>Normal</td>\n",
       "      <td>...</td>\n",
       "      <td>84</td>\n",
       "      <td>34</td>\n",
       "      <td>26</td>\n",
       "      <td>83</td>\n",
       "      <td>87</td>\n",
       "      <td>61</td>\n",
       "      <td>51</td>\n",
       "      <td>24</td>\n",
       "      <td>22</td>\n",
       "      <td>Western Europe</td>\n",
       "    </tr>\n",
       "    <tr>\n",
       "      <th>4</th>\n",
       "      <td>27</td>\n",
       "      <td>187.96</td>\n",
       "      <td>88.9</td>\n",
       "      <td>CB</td>\n",
       "      <td>88</td>\n",
       "      <td>Right</td>\n",
       "      <td>3</td>\n",
       "      <td>3</td>\n",
       "      <td>2</td>\n",
       "      <td>Normal</td>\n",
       "      <td>...</td>\n",
       "      <td>15</td>\n",
       "      <td>87</td>\n",
       "      <td>88</td>\n",
       "      <td>24</td>\n",
       "      <td>49</td>\n",
       "      <td>33</td>\n",
       "      <td>91</td>\n",
       "      <td>88</td>\n",
       "      <td>87</td>\n",
       "      <td>Sub-Saharan Africa</td>\n",
       "    </tr>\n",
       "    <tr>\n",
       "      <th>5</th>\n",
       "      <td>27</td>\n",
       "      <td>193.04</td>\n",
       "      <td>92.1</td>\n",
       "      <td>CB</td>\n",
       "      <td>88</td>\n",
       "      <td>Right</td>\n",
       "      <td>3</td>\n",
       "      <td>3</td>\n",
       "      <td>2</td>\n",
       "      <td>Normal</td>\n",
       "      <td>...</td>\n",
       "      <td>64</td>\n",
       "      <td>82</td>\n",
       "      <td>88</td>\n",
       "      <td>41</td>\n",
       "      <td>60</td>\n",
       "      <td>62</td>\n",
       "      <td>90</td>\n",
       "      <td>89</td>\n",
       "      <td>84</td>\n",
       "      <td>Western Europe</td>\n",
       "    </tr>\n",
       "  </tbody>\n",
       "</table>\n",
       "<p>5 rows × 38 columns</p>\n",
       "</div>"
      ],
      "text/plain": [
       "    age  height_cm  weight_kgs  positions  overall_rating preferred_foot  \\\n",
       "id                                                                         \n",
       "1    27     154.94        76.2  CAM,RM,CM              88          Right   \n",
       "2    25     190.50        83.9     CM,CAM              88          Right   \n",
       "3    27     162.56        59.0      LW,ST              88          Right   \n",
       "4    27     187.96        88.9         CB              88          Right   \n",
       "5    27     193.04        92.1         CB              88          Right   \n",
       "\n",
       "    international_reputation(1-5)  weak_foot(1-5)  skill_moves(1-5) body_type  \\\n",
       "id                                                                              \n",
       "1                               3               5                 4      Lean   \n",
       "2                               4               4                 5    Normal   \n",
       "3                               3               4                 4    Normal   \n",
       "4                               3               3                 2    Normal   \n",
       "5                               3               3                 2    Normal   \n",
       "\n",
       "    ...  long_shots  aggression  interceptions  positioning  vision  \\\n",
       "id  ...                                                               \n",
       "1   ...          89          46             56           84      91   \n",
       "2   ...          82          78             64           82      88   \n",
       "3   ...          84          34             26           83      87   \n",
       "4   ...          15          87             88           24      49   \n",
       "5   ...          64          82             88           41      60   \n",
       "\n",
       "    penalties  marking  standing_tackle  sliding_tackle  \\\n",
       "id                                                        \n",
       "1          67       59               57              22   \n",
       "2          82       63               67              67   \n",
       "3          61       51               24              22   \n",
       "4          33       91               88              87   \n",
       "5          62       90               89              84   \n",
       "\n",
       "                         region  \n",
       "id                               \n",
       "1   Eastern and Northern Europe  \n",
       "2                Western Europe  \n",
       "3                Western Europe  \n",
       "4            Sub-Saharan Africa  \n",
       "5                Western Europe  \n",
       "\n",
       "[5 rows x 38 columns]"
      ]
     },
     "execution_count": 2727,
     "metadata": {},
     "output_type": "execute_result"
    }
   ],
   "source": [
    "df.head()"
   ]
  },
  {
   "cell_type": "markdown",
   "metadata": {},
   "source": [
    "## positions"
   ]
  },
  {
   "cell_type": "code",
   "execution_count": 2728,
   "metadata": {},
   "outputs": [
    {
     "data": {
      "text/plain": [
       "positions\n",
       "CB              2243\n",
       "GK              2064\n",
       "ST              1746\n",
       "CM               764\n",
       "CDM,CM           709\n",
       "                ... \n",
       "LB,LM,CB           1\n",
       "CF,CM,ST           1\n",
       "CB,ST              1\n",
       "RB,ST              1\n",
       "CAM,CM,RW,RM       1\n",
       "Name: count, Length: 889, dtype: int64"
      ]
     },
     "execution_count": 2728,
     "metadata": {},
     "output_type": "execute_result"
    }
   ],
   "source": [
    "df['positions'].value_counts()"
   ]
  },
  {
   "cell_type": "code",
   "execution_count": 2729,
   "metadata": {},
   "outputs": [
    {
     "data": {
      "text/plain": [
       "id\n",
       "1        [CAM, RM, CM]\n",
       "2            [CM, CAM]\n",
       "3             [LW, ST]\n",
       "4                 [CB]\n",
       "5                 [CB]\n",
       "             ...      \n",
       "17949    [RM, CAM, CM]\n",
       "17950             [LB]\n",
       "17951             [GK]\n",
       "17952         [ST, LM]\n",
       "17953             [ST]\n",
       "Name: positions, Length: 17947, dtype: object"
      ]
     },
     "execution_count": 2729,
     "metadata": {},
     "output_type": "execute_result"
    }
   ],
   "source": [
    "df['positions'] = df['positions'].str.split(',')\n",
    "df['positions']\n"
   ]
  },
  {
   "cell_type": "code",
   "execution_count": 2730,
   "metadata": {},
   "outputs": [],
   "source": [
    "attacker = ['ST', 'LW', 'RW',  'CF' ,'CAM', 'RM', 'LM']\n",
    "midfielder = ['CM', 'CDM', 'CAM','RM','LM' ]\n",
    "defender = ['CB', 'LB', 'RB', 'LWB', 'RWB']\n",
    "goalkeeper = ['GK']"
   ]
  },
  {
   "cell_type": "markdown",
   "metadata": {},
   "source": [
    "# Encoding"
   ]
  },
  {
   "cell_type": "code",
   "execution_count": 2731,
   "metadata": {},
   "outputs": [
    {
     "data": {
      "text/plain": [
       "Index(['positions', 'preferred_foot', 'body_type', 'region'], dtype='object')"
      ]
     },
     "execution_count": 2731,
     "metadata": {},
     "output_type": "execute_result"
    }
   ],
   "source": [
    "object_cols = df.select_dtypes(include='object').columns\n",
    "object_cols"
   ]
  },
  {
   "cell_type": "markdown",
   "metadata": {},
   "source": [
    "## preferred_foot"
   ]
  },
  {
   "cell_type": "code",
   "execution_count": 2732,
   "metadata": {},
   "outputs": [
    {
     "name": "stdout",
     "output_type": "stream",
     "text": [
      "Left -> 0\n",
      "Right -> 1\n"
     ]
    }
   ],
   "source": [
    "from sklearn.preprocessing import LabelEncoder\n",
    "le = LabelEncoder()\n",
    "temp_encoded = le.fit_transform(df['preferred_foot'])\n",
    "\n",
    "for original, encoded in zip(le.classes_, range(len(le.classes_))):\n",
    "    print(f\"{original} -> {encoded}\")\n",
    "\n",
    "df['preferred_foot'] = temp_encoded"
   ]
  },
  {
   "cell_type": "markdown",
   "metadata": {},
   "source": [
    "## body_type"
   ]
  },
  {
   "cell_type": "code",
   "execution_count": 2733,
   "metadata": {},
   "outputs": [
    {
     "name": "stdout",
     "output_type": "stream",
     "text": [
      "Lean -> 0\n",
      "Normal -> 1\n",
      "Stocky -> 2\n"
     ]
    }
   ],
   "source": [
    "from sklearn.preprocessing import LabelEncoder\n",
    "le = LabelEncoder()\n",
    "temp_encoded = le.fit_transform(df['body_type'])\n",
    "\n",
    "for original, encoded in zip(le.classes_, range(len(le.classes_))):\n",
    "    print(f\"{original} -> {encoded}\")\n",
    "\n",
    "df['body_type'] = temp_encoded"
   ]
  },
  {
   "cell_type": "markdown",
   "metadata": {},
   "source": [
    "## region"
   ]
  },
  {
   "cell_type": "code",
   "execution_count": 2734,
   "metadata": {},
   "outputs": [
    {
     "name": "stdout",
     "output_type": "stream",
     "text": [
      "Central America and Caribbean -> 0\n",
      "East Asia -> 1\n",
      "Eastern and Northern Europe -> 2\n",
      "North Africa and Middle East -> 3\n",
      "North America -> 4\n",
      "Oceania -> 5\n",
      "Other -> 6\n",
      "South America -> 7\n",
      "South Asia -> 8\n",
      "Southeast Asia -> 9\n",
      "Southern Europe and Balkans -> 10\n",
      "Sub-Saharan Africa -> 11\n",
      "Western Europe -> 12\n"
     ]
    }
   ],
   "source": [
    "temp_encoded = le.fit_transform(df['region'])\n",
    "\n",
    "for original, encoded in zip(le.classes_, range(len(le.classes_))):\n",
    "    print(f\"{original} -> {encoded}\")\n",
    "\n",
    "df['region'] = temp_encoded\n"
   ]
  },
  {
   "cell_type": "code",
   "execution_count": 2735,
   "metadata": {},
   "outputs": [
    {
     "data": {
      "text/html": [
       "<div>\n",
       "<style scoped>\n",
       "    .dataframe tbody tr th:only-of-type {\n",
       "        vertical-align: middle;\n",
       "    }\n",
       "\n",
       "    .dataframe tbody tr th {\n",
       "        vertical-align: top;\n",
       "    }\n",
       "\n",
       "    .dataframe thead th {\n",
       "        text-align: right;\n",
       "    }\n",
       "</style>\n",
       "<table border=\"1\" class=\"dataframe\">\n",
       "  <thead>\n",
       "    <tr style=\"text-align: right;\">\n",
       "      <th></th>\n",
       "      <th>age</th>\n",
       "      <th>height_cm</th>\n",
       "      <th>weight_kgs</th>\n",
       "      <th>positions</th>\n",
       "      <th>overall_rating</th>\n",
       "      <th>preferred_foot</th>\n",
       "      <th>international_reputation(1-5)</th>\n",
       "      <th>weak_foot(1-5)</th>\n",
       "      <th>skill_moves(1-5)</th>\n",
       "      <th>body_type</th>\n",
       "      <th>...</th>\n",
       "      <th>long_shots</th>\n",
       "      <th>aggression</th>\n",
       "      <th>interceptions</th>\n",
       "      <th>positioning</th>\n",
       "      <th>vision</th>\n",
       "      <th>penalties</th>\n",
       "      <th>marking</th>\n",
       "      <th>standing_tackle</th>\n",
       "      <th>sliding_tackle</th>\n",
       "      <th>region</th>\n",
       "    </tr>\n",
       "    <tr>\n",
       "      <th>id</th>\n",
       "      <th></th>\n",
       "      <th></th>\n",
       "      <th></th>\n",
       "      <th></th>\n",
       "      <th></th>\n",
       "      <th></th>\n",
       "      <th></th>\n",
       "      <th></th>\n",
       "      <th></th>\n",
       "      <th></th>\n",
       "      <th></th>\n",
       "      <th></th>\n",
       "      <th></th>\n",
       "      <th></th>\n",
       "      <th></th>\n",
       "      <th></th>\n",
       "      <th></th>\n",
       "      <th></th>\n",
       "      <th></th>\n",
       "      <th></th>\n",
       "      <th></th>\n",
       "    </tr>\n",
       "  </thead>\n",
       "  <tbody>\n",
       "    <tr>\n",
       "      <th>1</th>\n",
       "      <td>27</td>\n",
       "      <td>154.94</td>\n",
       "      <td>76.2</td>\n",
       "      <td>[CAM, RM, CM]</td>\n",
       "      <td>88</td>\n",
       "      <td>1</td>\n",
       "      <td>3</td>\n",
       "      <td>5</td>\n",
       "      <td>4</td>\n",
       "      <td>0</td>\n",
       "      <td>...</td>\n",
       "      <td>89</td>\n",
       "      <td>46</td>\n",
       "      <td>56</td>\n",
       "      <td>84</td>\n",
       "      <td>91</td>\n",
       "      <td>67</td>\n",
       "      <td>59</td>\n",
       "      <td>57</td>\n",
       "      <td>22</td>\n",
       "      <td>2</td>\n",
       "    </tr>\n",
       "    <tr>\n",
       "      <th>2</th>\n",
       "      <td>25</td>\n",
       "      <td>190.50</td>\n",
       "      <td>83.9</td>\n",
       "      <td>[CM, CAM]</td>\n",
       "      <td>88</td>\n",
       "      <td>1</td>\n",
       "      <td>4</td>\n",
       "      <td>4</td>\n",
       "      <td>5</td>\n",
       "      <td>1</td>\n",
       "      <td>...</td>\n",
       "      <td>82</td>\n",
       "      <td>78</td>\n",
       "      <td>64</td>\n",
       "      <td>82</td>\n",
       "      <td>88</td>\n",
       "      <td>82</td>\n",
       "      <td>63</td>\n",
       "      <td>67</td>\n",
       "      <td>67</td>\n",
       "      <td>12</td>\n",
       "    </tr>\n",
       "    <tr>\n",
       "      <th>3</th>\n",
       "      <td>27</td>\n",
       "      <td>162.56</td>\n",
       "      <td>59.0</td>\n",
       "      <td>[LW, ST]</td>\n",
       "      <td>88</td>\n",
       "      <td>1</td>\n",
       "      <td>3</td>\n",
       "      <td>4</td>\n",
       "      <td>4</td>\n",
       "      <td>1</td>\n",
       "      <td>...</td>\n",
       "      <td>84</td>\n",
       "      <td>34</td>\n",
       "      <td>26</td>\n",
       "      <td>83</td>\n",
       "      <td>87</td>\n",
       "      <td>61</td>\n",
       "      <td>51</td>\n",
       "      <td>24</td>\n",
       "      <td>22</td>\n",
       "      <td>12</td>\n",
       "    </tr>\n",
       "    <tr>\n",
       "      <th>4</th>\n",
       "      <td>27</td>\n",
       "      <td>187.96</td>\n",
       "      <td>88.9</td>\n",
       "      <td>[CB]</td>\n",
       "      <td>88</td>\n",
       "      <td>1</td>\n",
       "      <td>3</td>\n",
       "      <td>3</td>\n",
       "      <td>2</td>\n",
       "      <td>1</td>\n",
       "      <td>...</td>\n",
       "      <td>15</td>\n",
       "      <td>87</td>\n",
       "      <td>88</td>\n",
       "      <td>24</td>\n",
       "      <td>49</td>\n",
       "      <td>33</td>\n",
       "      <td>91</td>\n",
       "      <td>88</td>\n",
       "      <td>87</td>\n",
       "      <td>11</td>\n",
       "    </tr>\n",
       "    <tr>\n",
       "      <th>5</th>\n",
       "      <td>27</td>\n",
       "      <td>193.04</td>\n",
       "      <td>92.1</td>\n",
       "      <td>[CB]</td>\n",
       "      <td>88</td>\n",
       "      <td>1</td>\n",
       "      <td>3</td>\n",
       "      <td>3</td>\n",
       "      <td>2</td>\n",
       "      <td>1</td>\n",
       "      <td>...</td>\n",
       "      <td>64</td>\n",
       "      <td>82</td>\n",
       "      <td>88</td>\n",
       "      <td>41</td>\n",
       "      <td>60</td>\n",
       "      <td>62</td>\n",
       "      <td>90</td>\n",
       "      <td>89</td>\n",
       "      <td>84</td>\n",
       "      <td>12</td>\n",
       "    </tr>\n",
       "  </tbody>\n",
       "</table>\n",
       "<p>5 rows × 38 columns</p>\n",
       "</div>"
      ],
      "text/plain": [
       "    age  height_cm  weight_kgs      positions  overall_rating  preferred_foot  \\\n",
       "id                                                                              \n",
       "1    27     154.94        76.2  [CAM, RM, CM]              88               1   \n",
       "2    25     190.50        83.9      [CM, CAM]              88               1   \n",
       "3    27     162.56        59.0       [LW, ST]              88               1   \n",
       "4    27     187.96        88.9           [CB]              88               1   \n",
       "5    27     193.04        92.1           [CB]              88               1   \n",
       "\n",
       "    international_reputation(1-5)  weak_foot(1-5)  skill_moves(1-5)  \\\n",
       "id                                                                    \n",
       "1                               3               5                 4   \n",
       "2                               4               4                 5   \n",
       "3                               3               4                 4   \n",
       "4                               3               3                 2   \n",
       "5                               3               3                 2   \n",
       "\n",
       "    body_type  ...  long_shots  aggression  interceptions  positioning  \\\n",
       "id             ...                                                       \n",
       "1           0  ...          89          46             56           84   \n",
       "2           1  ...          82          78             64           82   \n",
       "3           1  ...          84          34             26           83   \n",
       "4           1  ...          15          87             88           24   \n",
       "5           1  ...          64          82             88           41   \n",
       "\n",
       "    vision  penalties  marking  standing_tackle  sliding_tackle  region  \n",
       "id                                                                       \n",
       "1       91         67       59               57              22       2  \n",
       "2       88         82       63               67              67      12  \n",
       "3       87         61       51               24              22      12  \n",
       "4       49         33       91               88              87      11  \n",
       "5       60         62       90               89              84      12  \n",
       "\n",
       "[5 rows x 38 columns]"
      ]
     },
     "execution_count": 2735,
     "metadata": {},
     "output_type": "execute_result"
    }
   ],
   "source": [
    "df.head()"
   ]
  },
  {
   "cell_type": "markdown",
   "metadata": {},
   "source": [
    "## positions"
   ]
  },
  {
   "cell_type": "code",
   "execution_count": 2736,
   "metadata": {},
   "outputs": [],
   "source": [
    "\n",
    "df['position_attacker'] = 0\n",
    "df['position_midfielder'] = 0\n",
    "df['position_defender'] = 0\n",
    "df['position_goalkeeper'] = 0\n",
    "\n",
    "def position_count(positions, idx):\n",
    "    for pos in positions:\n",
    "        if pos in attacker:\n",
    "            df.at[idx, 'position_attacker'] = 1\n",
    "        if pos in midfielder:\n",
    "            df.at[idx, 'position_midfielder'] = 1\n",
    "        if pos in defender:\n",
    "            df.at[idx, 'position_defender'] = 1\n",
    "        if pos in goalkeeper:\n",
    "            df.at[idx, 'position_goalkeeper'] = 1\n",
    "for idx, row in df.iterrows():\n",
    "    position_count(row['positions'], idx)\n",
    "df.drop('positions', axis=1, inplace=True)\n",
    "\n"
   ]
  },
  {
   "cell_type": "code",
   "execution_count": 2737,
   "metadata": {},
   "outputs": [
    {
     "data": {
      "text/html": [
       "<div>\n",
       "<style scoped>\n",
       "    .dataframe tbody tr th:only-of-type {\n",
       "        vertical-align: middle;\n",
       "    }\n",
       "\n",
       "    .dataframe tbody tr th {\n",
       "        vertical-align: top;\n",
       "    }\n",
       "\n",
       "    .dataframe thead th {\n",
       "        text-align: right;\n",
       "    }\n",
       "</style>\n",
       "<table border=\"1\" class=\"dataframe\">\n",
       "  <thead>\n",
       "    <tr style=\"text-align: right;\">\n",
       "      <th></th>\n",
       "      <th>age</th>\n",
       "      <th>height_cm</th>\n",
       "      <th>weight_kgs</th>\n",
       "      <th>overall_rating</th>\n",
       "      <th>preferred_foot</th>\n",
       "      <th>international_reputation(1-5)</th>\n",
       "      <th>weak_foot(1-5)</th>\n",
       "      <th>skill_moves(1-5)</th>\n",
       "      <th>body_type</th>\n",
       "      <th>crossing</th>\n",
       "      <th>...</th>\n",
       "      <th>vision</th>\n",
       "      <th>penalties</th>\n",
       "      <th>marking</th>\n",
       "      <th>standing_tackle</th>\n",
       "      <th>sliding_tackle</th>\n",
       "      <th>region</th>\n",
       "      <th>position_attacker</th>\n",
       "      <th>position_midfielder</th>\n",
       "      <th>position_defender</th>\n",
       "      <th>position_goalkeeper</th>\n",
       "    </tr>\n",
       "    <tr>\n",
       "      <th>id</th>\n",
       "      <th></th>\n",
       "      <th></th>\n",
       "      <th></th>\n",
       "      <th></th>\n",
       "      <th></th>\n",
       "      <th></th>\n",
       "      <th></th>\n",
       "      <th></th>\n",
       "      <th></th>\n",
       "      <th></th>\n",
       "      <th></th>\n",
       "      <th></th>\n",
       "      <th></th>\n",
       "      <th></th>\n",
       "      <th></th>\n",
       "      <th></th>\n",
       "      <th></th>\n",
       "      <th></th>\n",
       "      <th></th>\n",
       "      <th></th>\n",
       "      <th></th>\n",
       "    </tr>\n",
       "  </thead>\n",
       "  <tbody>\n",
       "    <tr>\n",
       "      <th>1</th>\n",
       "      <td>27</td>\n",
       "      <td>154.94</td>\n",
       "      <td>76.2</td>\n",
       "      <td>88</td>\n",
       "      <td>1</td>\n",
       "      <td>3</td>\n",
       "      <td>5</td>\n",
       "      <td>4</td>\n",
       "      <td>0</td>\n",
       "      <td>88</td>\n",
       "      <td>...</td>\n",
       "      <td>91</td>\n",
       "      <td>67</td>\n",
       "      <td>59</td>\n",
       "      <td>57</td>\n",
       "      <td>22</td>\n",
       "      <td>2</td>\n",
       "      <td>1</td>\n",
       "      <td>1</td>\n",
       "      <td>0</td>\n",
       "      <td>0</td>\n",
       "    </tr>\n",
       "    <tr>\n",
       "      <th>2</th>\n",
       "      <td>25</td>\n",
       "      <td>190.50</td>\n",
       "      <td>83.9</td>\n",
       "      <td>88</td>\n",
       "      <td>1</td>\n",
       "      <td>4</td>\n",
       "      <td>4</td>\n",
       "      <td>5</td>\n",
       "      <td>1</td>\n",
       "      <td>80</td>\n",
       "      <td>...</td>\n",
       "      <td>88</td>\n",
       "      <td>82</td>\n",
       "      <td>63</td>\n",
       "      <td>67</td>\n",
       "      <td>67</td>\n",
       "      <td>12</td>\n",
       "      <td>1</td>\n",
       "      <td>1</td>\n",
       "      <td>0</td>\n",
       "      <td>0</td>\n",
       "    </tr>\n",
       "    <tr>\n",
       "      <th>3</th>\n",
       "      <td>27</td>\n",
       "      <td>162.56</td>\n",
       "      <td>59.0</td>\n",
       "      <td>88</td>\n",
       "      <td>1</td>\n",
       "      <td>3</td>\n",
       "      <td>4</td>\n",
       "      <td>4</td>\n",
       "      <td>1</td>\n",
       "      <td>86</td>\n",
       "      <td>...</td>\n",
       "      <td>87</td>\n",
       "      <td>61</td>\n",
       "      <td>51</td>\n",
       "      <td>24</td>\n",
       "      <td>22</td>\n",
       "      <td>12</td>\n",
       "      <td>1</td>\n",
       "      <td>0</td>\n",
       "      <td>0</td>\n",
       "      <td>0</td>\n",
       "    </tr>\n",
       "    <tr>\n",
       "      <th>4</th>\n",
       "      <td>27</td>\n",
       "      <td>187.96</td>\n",
       "      <td>88.9</td>\n",
       "      <td>88</td>\n",
       "      <td>1</td>\n",
       "      <td>3</td>\n",
       "      <td>3</td>\n",
       "      <td>2</td>\n",
       "      <td>1</td>\n",
       "      <td>30</td>\n",
       "      <td>...</td>\n",
       "      <td>49</td>\n",
       "      <td>33</td>\n",
       "      <td>91</td>\n",
       "      <td>88</td>\n",
       "      <td>87</td>\n",
       "      <td>11</td>\n",
       "      <td>0</td>\n",
       "      <td>0</td>\n",
       "      <td>1</td>\n",
       "      <td>0</td>\n",
       "    </tr>\n",
       "    <tr>\n",
       "      <th>5</th>\n",
       "      <td>27</td>\n",
       "      <td>193.04</td>\n",
       "      <td>92.1</td>\n",
       "      <td>88</td>\n",
       "      <td>1</td>\n",
       "      <td>3</td>\n",
       "      <td>3</td>\n",
       "      <td>2</td>\n",
       "      <td>1</td>\n",
       "      <td>53</td>\n",
       "      <td>...</td>\n",
       "      <td>60</td>\n",
       "      <td>62</td>\n",
       "      <td>90</td>\n",
       "      <td>89</td>\n",
       "      <td>84</td>\n",
       "      <td>12</td>\n",
       "      <td>0</td>\n",
       "      <td>0</td>\n",
       "      <td>1</td>\n",
       "      <td>0</td>\n",
       "    </tr>\n",
       "  </tbody>\n",
       "</table>\n",
       "<p>5 rows × 41 columns</p>\n",
       "</div>"
      ],
      "text/plain": [
       "    age  height_cm  weight_kgs  overall_rating  preferred_foot  \\\n",
       "id                                                               \n",
       "1    27     154.94        76.2              88               1   \n",
       "2    25     190.50        83.9              88               1   \n",
       "3    27     162.56        59.0              88               1   \n",
       "4    27     187.96        88.9              88               1   \n",
       "5    27     193.04        92.1              88               1   \n",
       "\n",
       "    international_reputation(1-5)  weak_foot(1-5)  skill_moves(1-5)  \\\n",
       "id                                                                    \n",
       "1                               3               5                 4   \n",
       "2                               4               4                 5   \n",
       "3                               3               4                 4   \n",
       "4                               3               3                 2   \n",
       "5                               3               3                 2   \n",
       "\n",
       "    body_type  crossing  ...  vision  penalties  marking  standing_tackle  \\\n",
       "id                       ...                                                \n",
       "1           0        88  ...      91         67       59               57   \n",
       "2           1        80  ...      88         82       63               67   \n",
       "3           1        86  ...      87         61       51               24   \n",
       "4           1        30  ...      49         33       91               88   \n",
       "5           1        53  ...      60         62       90               89   \n",
       "\n",
       "    sliding_tackle  region  position_attacker  position_midfielder  \\\n",
       "id                                                                   \n",
       "1               22       2                  1                    1   \n",
       "2               67      12                  1                    1   \n",
       "3               22      12                  1                    0   \n",
       "4               87      11                  0                    0   \n",
       "5               84      12                  0                    0   \n",
       "\n",
       "    position_defender  position_goalkeeper  \n",
       "id                                          \n",
       "1                   0                    0  \n",
       "2                   0                    0  \n",
       "3                   0                    0  \n",
       "4                   1                    0  \n",
       "5                   1                    0  \n",
       "\n",
       "[5 rows x 41 columns]"
      ]
     },
     "execution_count": 2737,
     "metadata": {},
     "output_type": "execute_result"
    }
   ],
   "source": [
    "df.head()"
   ]
  },
  {
   "cell_type": "markdown",
   "metadata": {},
   "source": [
    "# Outlier"
   ]
  },
  {
   "cell_type": "code",
   "execution_count": 2738,
   "metadata": {},
   "outputs": [
    {
     "name": "stdout",
     "output_type": "stream",
     "text": [
      "[('dribbling', 37.64417451384632), ('balance', 11.528389145818242), ('sprint_speed', 10.926617261937928), ('short_passing', 8.792555858917925), ('acceleration', 8.703404468713433), ('ball_control', 5.778124477628573), ('jumping', 4.089820025631025), ('shot_power', 2.83612860088037), ('strength', 1.3707026243940492), ('stamina', 1.1533961107706023), ('heading_accuracy', 0.8747980163815678), ('weight_kgs', 0.640775617094779), ('long_passing', 0.2730261325012537), ('age', 0.16715885663342062), ('agility', 0.09472335209227169), ('vision', 0.089151390204491)]\n"
     ]
    },
    {
     "data": {
      "text/plain": [
       "(17947, 41)"
      ]
     },
     "execution_count": 2738,
     "metadata": {},
     "output_type": "execute_result"
    }
   ],
   "source": [
    "import math\n",
    "from sklearn.ensemble import IsolationForest\n",
    "\n",
    "def detect_outliers_iqr(data, col):\n",
    "    Q1 = data[col].quantile(0.25)\n",
    "    Q3 = data[col].quantile(0.75)\n",
    "    IQR = Q3 - Q1\n",
    "    lower_bound = Q1 - 1.5 * IQR\n",
    "    upper_bound = Q3 + 1.5 * IQR\n",
    "    outliers = data[(data[col] < lower_bound) | (data[col] > upper_bound)]\n",
    "    return outliers\n",
    "\n",
    "remove_columns = ['overall_rating', 'position_goalkeeper']\n",
    "\n",
    "def process_outliers(data):\n",
    "    numeric_columns = data.select_dtypes(include=['float64', 'int64']).columns\n",
    "\n",
    "    outlier_columns = []\n",
    "    outlier_percentages = []\n",
    "\n",
    "    for col in numeric_columns:\n",
    "        outliers = detect_outliers_iqr(data, col)\n",
    "        total_rows = len(data)\n",
    "        num_outliers = len(outliers)\n",
    "        \n",
    "        if num_outliers > 0:\n",
    "            outlier_columns.append(col)\n",
    "            outlier_percentages.append((num_outliers / total_rows) * 100)\n",
    "            \n",
    "    outlier_columns = [col for col in outlier_columns if not col.endswith(\"(1-5)\")]\n",
    "    for col in remove_columns:\n",
    "        outlier_columns = [column for column in outlier_columns if column != col]\n",
    "\n",
    "    return sorted(zip(outlier_columns, outlier_percentages), key=lambda x: x[1], reverse=True)\n",
    "\n",
    "sorted_outliers = process_outliers(df)\n",
    "print(sorted_outliers)\n",
    "df.shape\n"
   ]
  },
  {
   "cell_type": "markdown",
   "metadata": {},
   "source": [
    "## dribbling"
   ]
  },
  {
   "cell_type": "code",
   "execution_count": 2739,
   "metadata": {},
   "outputs": [
    {
     "name": "stdout",
     "output_type": "stream",
     "text": [
      "17947\n"
     ]
    }
   ],
   "source": [
    "from sklearn.ensemble import IsolationForest\n",
    "model = IsolationForest(contamination=0.37)  \n",
    "df['outlier'] = model.fit_predict(df[['dribbling']])  \n",
    "print(df.shape[0])\n",
    "df['dribbling_smoothed'] = df['dribbling'].rolling(window = 39, center=True).median()\n",
    "\n",
    "df.loc[df['outlier'] == -1, 'dribbling'] = df.loc[df['outlier'] == -1, 'dribbling_smoothed']\n",
    "df.drop(['outlier', 'dribbling_smoothed'], axis=1, inplace=True)\n",
    "df.dropna(inplace=True)\n"
   ]
  },
  {
   "cell_type": "code",
   "execution_count": 2740,
   "metadata": {},
   "outputs": [
    {
     "data": {
      "text/plain": [
       "(17921, 41)"
      ]
     },
     "execution_count": 2740,
     "metadata": {},
     "output_type": "execute_result"
    }
   ],
   "source": [
    "df.shape"
   ]
  },
  {
   "cell_type": "markdown",
   "metadata": {},
   "source": [
    "## balance"
   ]
  },
  {
   "cell_type": "code",
   "execution_count": 2741,
   "metadata": {},
   "outputs": [],
   "source": [
    "model = IsolationForest(contamination=0.11)  \n",
    "df['outlier'] = model.fit_predict(df[['balance']])  \n",
    "\n",
    "df['balance_smoothed'] = df['balance'].rolling(window=5, center=True).median()\n",
    "\n",
    "df.loc[df['outlier'] == -1, 'balance'] = df.loc[df['outlier'] == -1, 'balance_smoothed']\n",
    "df.drop(['outlier', 'balance_smoothed'], axis=1, inplace=True)\n",
    "df.dropna(inplace=True)"
   ]
  },
  {
   "cell_type": "code",
   "execution_count": 2742,
   "metadata": {},
   "outputs": [
    {
     "data": {
      "text/plain": [
       "(17921, 41)"
      ]
     },
     "execution_count": 2742,
     "metadata": {},
     "output_type": "execute_result"
    }
   ],
   "source": [
    "df.shape"
   ]
  },
  {
   "cell_type": "markdown",
   "metadata": {},
   "source": [
    "# Standardization "
   ]
  },
  {
   "cell_type": "code",
   "execution_count": 2743,
   "metadata": {},
   "outputs": [],
   "source": [
    "from sklearn.preprocessing import RobustScaler\n",
    "robust_scaler = RobustScaler()"
   ]
  },
  {
   "cell_type": "code",
   "execution_count": 2744,
   "metadata": {},
   "outputs": [],
   "source": [
    "# height_cm \n",
    "df['height_cm']= robust_scaler.fit_transform(df['height_cm'].values.reshape(-1, 1))\n"
   ]
  },
  {
   "cell_type": "code",
   "execution_count": 2745,
   "metadata": {},
   "outputs": [
    {
     "data": {
      "text/html": [
       "<div>\n",
       "<style scoped>\n",
       "    .dataframe tbody tr th:only-of-type {\n",
       "        vertical-align: middle;\n",
       "    }\n",
       "\n",
       "    .dataframe tbody tr th {\n",
       "        vertical-align: top;\n",
       "    }\n",
       "\n",
       "    .dataframe thead th {\n",
       "        text-align: right;\n",
       "    }\n",
       "</style>\n",
       "<table border=\"1\" class=\"dataframe\">\n",
       "  <thead>\n",
       "    <tr style=\"text-align: right;\">\n",
       "      <th></th>\n",
       "      <th>age</th>\n",
       "      <th>height_cm</th>\n",
       "      <th>weight_kgs</th>\n",
       "      <th>overall_rating</th>\n",
       "      <th>preferred_foot</th>\n",
       "      <th>international_reputation(1-5)</th>\n",
       "      <th>weak_foot(1-5)</th>\n",
       "      <th>skill_moves(1-5)</th>\n",
       "      <th>body_type</th>\n",
       "      <th>crossing</th>\n",
       "      <th>...</th>\n",
       "      <th>vision</th>\n",
       "      <th>penalties</th>\n",
       "      <th>marking</th>\n",
       "      <th>standing_tackle</th>\n",
       "      <th>sliding_tackle</th>\n",
       "      <th>region</th>\n",
       "      <th>position_attacker</th>\n",
       "      <th>position_midfielder</th>\n",
       "      <th>position_defender</th>\n",
       "      <th>position_goalkeeper</th>\n",
       "    </tr>\n",
       "    <tr>\n",
       "      <th>id</th>\n",
       "      <th></th>\n",
       "      <th></th>\n",
       "      <th></th>\n",
       "      <th></th>\n",
       "      <th></th>\n",
       "      <th></th>\n",
       "      <th></th>\n",
       "      <th></th>\n",
       "      <th></th>\n",
       "      <th></th>\n",
       "      <th></th>\n",
       "      <th></th>\n",
       "      <th></th>\n",
       "      <th></th>\n",
       "      <th></th>\n",
       "      <th></th>\n",
       "      <th></th>\n",
       "      <th></th>\n",
       "      <th></th>\n",
       "      <th></th>\n",
       "      <th></th>\n",
       "    </tr>\n",
       "  </thead>\n",
       "  <tbody>\n",
       "    <tr>\n",
       "      <th>4</th>\n",
       "      <td>27</td>\n",
       "      <td>0.416667</td>\n",
       "      <td>88.9</td>\n",
       "      <td>88</td>\n",
       "      <td>1</td>\n",
       "      <td>3</td>\n",
       "      <td>3</td>\n",
       "      <td>2</td>\n",
       "      <td>1</td>\n",
       "      <td>30</td>\n",
       "      <td>...</td>\n",
       "      <td>49</td>\n",
       "      <td>33</td>\n",
       "      <td>91</td>\n",
       "      <td>88</td>\n",
       "      <td>87</td>\n",
       "      <td>11</td>\n",
       "      <td>0</td>\n",
       "      <td>0</td>\n",
       "      <td>1</td>\n",
       "      <td>0</td>\n",
       "    </tr>\n",
       "    <tr>\n",
       "      <th>5</th>\n",
       "      <td>27</td>\n",
       "      <td>0.583333</td>\n",
       "      <td>92.1</td>\n",
       "      <td>88</td>\n",
       "      <td>1</td>\n",
       "      <td>3</td>\n",
       "      <td>3</td>\n",
       "      <td>2</td>\n",
       "      <td>1</td>\n",
       "      <td>53</td>\n",
       "      <td>...</td>\n",
       "      <td>60</td>\n",
       "      <td>62</td>\n",
       "      <td>90</td>\n",
       "      <td>89</td>\n",
       "      <td>84</td>\n",
       "      <td>12</td>\n",
       "      <td>0</td>\n",
       "      <td>0</td>\n",
       "      <td>1</td>\n",
       "      <td>0</td>\n",
       "    </tr>\n",
       "    <tr>\n",
       "      <th>16</th>\n",
       "      <td>24</td>\n",
       "      <td>0.416667</td>\n",
       "      <td>79.8</td>\n",
       "      <td>86</td>\n",
       "      <td>1</td>\n",
       "      <td>1</td>\n",
       "      <td>4</td>\n",
       "      <td>2</td>\n",
       "      <td>1</td>\n",
       "      <td>40</td>\n",
       "      <td>...</td>\n",
       "      <td>57</td>\n",
       "      <td>56</td>\n",
       "      <td>92</td>\n",
       "      <td>89</td>\n",
       "      <td>84</td>\n",
       "      <td>6</td>\n",
       "      <td>0</td>\n",
       "      <td>0</td>\n",
       "      <td>1</td>\n",
       "      <td>0</td>\n",
       "    </tr>\n",
       "    <tr>\n",
       "      <th>20</th>\n",
       "      <td>31</td>\n",
       "      <td>0.416667</td>\n",
       "      <td>86.2</td>\n",
       "      <td>87</td>\n",
       "      <td>0</td>\n",
       "      <td>3</td>\n",
       "      <td>3</td>\n",
       "      <td>3</td>\n",
       "      <td>1</td>\n",
       "      <td>72</td>\n",
       "      <td>...</td>\n",
       "      <td>68</td>\n",
       "      <td>66</td>\n",
       "      <td>89</td>\n",
       "      <td>87</td>\n",
       "      <td>88</td>\n",
       "      <td>12</td>\n",
       "      <td>0</td>\n",
       "      <td>0</td>\n",
       "      <td>1</td>\n",
       "      <td>0</td>\n",
       "    </tr>\n",
       "    <tr>\n",
       "      <th>22</th>\n",
       "      <td>30</td>\n",
       "      <td>0.000000</td>\n",
       "      <td>79.8</td>\n",
       "      <td>87</td>\n",
       "      <td>0</td>\n",
       "      <td>4</td>\n",
       "      <td>4</td>\n",
       "      <td>5</td>\n",
       "      <td>1</td>\n",
       "      <td>90</td>\n",
       "      <td>...</td>\n",
       "      <td>82</td>\n",
       "      <td>59</td>\n",
       "      <td>71</td>\n",
       "      <td>82</td>\n",
       "      <td>83</td>\n",
       "      <td>7</td>\n",
       "      <td>0</td>\n",
       "      <td>0</td>\n",
       "      <td>1</td>\n",
       "      <td>0</td>\n",
       "    </tr>\n",
       "  </tbody>\n",
       "</table>\n",
       "<p>5 rows × 41 columns</p>\n",
       "</div>"
      ],
      "text/plain": [
       "    age  height_cm  weight_kgs  overall_rating  preferred_foot  \\\n",
       "id                                                               \n",
       "4    27   0.416667        88.9              88               1   \n",
       "5    27   0.583333        92.1              88               1   \n",
       "16   24   0.416667        79.8              86               1   \n",
       "20   31   0.416667        86.2              87               0   \n",
       "22   30   0.000000        79.8              87               0   \n",
       "\n",
       "    international_reputation(1-5)  weak_foot(1-5)  skill_moves(1-5)  \\\n",
       "id                                                                    \n",
       "4                               3               3                 2   \n",
       "5                               3               3                 2   \n",
       "16                              1               4                 2   \n",
       "20                              3               3                 3   \n",
       "22                              4               4                 5   \n",
       "\n",
       "    body_type  crossing  ...  vision  penalties  marking  standing_tackle  \\\n",
       "id                       ...                                                \n",
       "4           1        30  ...      49         33       91               88   \n",
       "5           1        53  ...      60         62       90               89   \n",
       "16          1        40  ...      57         56       92               89   \n",
       "20          1        72  ...      68         66       89               87   \n",
       "22          1        90  ...      82         59       71               82   \n",
       "\n",
       "    sliding_tackle  region  position_attacker  position_midfielder  \\\n",
       "id                                                                   \n",
       "4               87      11                  0                    0   \n",
       "5               84      12                  0                    0   \n",
       "16              84       6                  0                    0   \n",
       "20              88      12                  0                    0   \n",
       "22              83       7                  0                    0   \n",
       "\n",
       "    position_defender  position_goalkeeper  \n",
       "id                                          \n",
       "4                   1                    0  \n",
       "5                   1                    0  \n",
       "16                  1                    0  \n",
       "20                  1                    0  \n",
       "22                  1                    0  \n",
       "\n",
       "[5 rows x 41 columns]"
      ]
     },
     "execution_count": 2745,
     "metadata": {},
     "output_type": "execute_result"
    }
   ],
   "source": [
    "df.head()"
   ]
  },
  {
   "cell_type": "markdown",
   "metadata": {},
   "source": [
    "# Export new train.csv"
   ]
  },
  {
   "cell_type": "code",
   "execution_count": 2746,
   "metadata": {},
   "outputs": [],
   "source": [
    "df.to_csv('data.csv', index=False)"
   ]
  }
 ],
 "metadata": {
  "kernelspec": {
   "display_name": "Python 3",
   "language": "python",
   "name": "python3"
  },
  "language_info": {
   "codemirror_mode": {
    "name": "ipython",
    "version": 3
   },
   "file_extension": ".py",
   "mimetype": "text/x-python",
   "name": "python",
   "nbconvert_exporter": "python",
   "pygments_lexer": "ipython3",
   "version": "3.11.9"
  }
 },
 "nbformat": 4,
 "nbformat_minor": 2
}
