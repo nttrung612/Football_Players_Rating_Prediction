{
 "cells": [
  {
   "cell_type": "code",
   "metadata": {
    "ExecuteTime": {
     "end_time": "2024-12-28T19:17:49.947101Z",
     "start_time": "2024-12-28T19:17:46.813319Z"
    }
   },
   "source": [
    "import torch\n",
    "import torch.nn as nn\n",
    "import torch.optim as optim\n",
    "import torch.nn.functional as F\n",
    "from sklearn.metrics import r2_score, mean_squared_error, mean_absolute_error\n",
    "\n",
    "device = torch.device('cuda' if torch.cuda.is_available() else 'cpu')\n",
    "print(f\"Using device: {device}\")"
   ],
   "outputs": [
    {
     "name": "stdout",
     "output_type": "stream",
     "text": [
      "Using device: cpu\n"
     ]
    }
   ],
   "execution_count": 1
  },
  {
   "cell_type": "code",
   "metadata": {
    "ExecuteTime": {
     "end_time": "2024-12-28T19:17:50.060516Z",
     "start_time": "2024-12-28T19:17:49.948111Z"
    }
   },
   "source": [
    "import pandas as pd\n",
    "import numpy as np\n",
    "\n",
    "df = pd.read_csv('data.csv')\n",
    "df.head()"
   ],
   "outputs": [
    {
     "data": {
      "text/plain": [
       "    age   height_cm  weight_kgs  nationality  overall_rating  preferred_foot  \\\n",
       "0  27.0  177.606642        76.2      Denmark              88               1   \n",
       "1  25.0  190.500000        83.9       France              88               1   \n",
       "2  27.0  162.560000        59.0        Italy              88               1   \n",
       "3  27.0  187.960000        88.9      Senegal              88               1   \n",
       "4  27.0  193.040000        92.1  Netherlands              88               1   \n",
       "\n",
       "   weak_foot(1-5)  skill_moves(1-5)  crossing  finishing  ...  positions_GK  \\\n",
       "0               5               4.0        88         81  ...             0   \n",
       "1               4               4.5        80         75  ...             0   \n",
       "2               4               4.0        86         77  ...             0   \n",
       "3               3               2.0        30         22  ...             0   \n",
       "4               3               2.0        53         52  ...             0   \n",
       "\n",
       "   positions_LB  positions_LM  positions_LW  positions_LWB  positions_RB  \\\n",
       "0             0             0             0              0             0   \n",
       "1             0             0             0              0             0   \n",
       "2             0             0             1              0             0   \n",
       "3             0             0             0              0             0   \n",
       "4             0             0             0              0             0   \n",
       "\n",
       "   positions_RM  positions_RW  positions_RWB  positions_ST  \n",
       "0             1             0              0             0  \n",
       "1             0             0              0             0  \n",
       "2             0             0              0             1  \n",
       "3             0             0              0             0  \n",
       "4             0             0              0             0  \n",
       "\n",
       "[5 rows x 53 columns]"
      ],
      "text/html": [
       "<div>\n",
       "<style scoped>\n",
       "    .dataframe tbody tr th:only-of-type {\n",
       "        vertical-align: middle;\n",
       "    }\n",
       "\n",
       "    .dataframe tbody tr th {\n",
       "        vertical-align: top;\n",
       "    }\n",
       "\n",
       "    .dataframe thead th {\n",
       "        text-align: right;\n",
       "    }\n",
       "</style>\n",
       "<table border=\"1\" class=\"dataframe\">\n",
       "  <thead>\n",
       "    <tr style=\"text-align: right;\">\n",
       "      <th></th>\n",
       "      <th>age</th>\n",
       "      <th>height_cm</th>\n",
       "      <th>weight_kgs</th>\n",
       "      <th>nationality</th>\n",
       "      <th>overall_rating</th>\n",
       "      <th>preferred_foot</th>\n",
       "      <th>weak_foot(1-5)</th>\n",
       "      <th>skill_moves(1-5)</th>\n",
       "      <th>crossing</th>\n",
       "      <th>finishing</th>\n",
       "      <th>...</th>\n",
       "      <th>positions_GK</th>\n",
       "      <th>positions_LB</th>\n",
       "      <th>positions_LM</th>\n",
       "      <th>positions_LW</th>\n",
       "      <th>positions_LWB</th>\n",
       "      <th>positions_RB</th>\n",
       "      <th>positions_RM</th>\n",
       "      <th>positions_RW</th>\n",
       "      <th>positions_RWB</th>\n",
       "      <th>positions_ST</th>\n",
       "    </tr>\n",
       "  </thead>\n",
       "  <tbody>\n",
       "    <tr>\n",
       "      <th>0</th>\n",
       "      <td>27.0</td>\n",
       "      <td>177.606642</td>\n",
       "      <td>76.2</td>\n",
       "      <td>Denmark</td>\n",
       "      <td>88</td>\n",
       "      <td>1</td>\n",
       "      <td>5</td>\n",
       "      <td>4.0</td>\n",
       "      <td>88</td>\n",
       "      <td>81</td>\n",
       "      <td>...</td>\n",
       "      <td>0</td>\n",
       "      <td>0</td>\n",
       "      <td>0</td>\n",
       "      <td>0</td>\n",
       "      <td>0</td>\n",
       "      <td>0</td>\n",
       "      <td>1</td>\n",
       "      <td>0</td>\n",
       "      <td>0</td>\n",
       "      <td>0</td>\n",
       "    </tr>\n",
       "    <tr>\n",
       "      <th>1</th>\n",
       "      <td>25.0</td>\n",
       "      <td>190.500000</td>\n",
       "      <td>83.9</td>\n",
       "      <td>France</td>\n",
       "      <td>88</td>\n",
       "      <td>1</td>\n",
       "      <td>4</td>\n",
       "      <td>4.5</td>\n",
       "      <td>80</td>\n",
       "      <td>75</td>\n",
       "      <td>...</td>\n",
       "      <td>0</td>\n",
       "      <td>0</td>\n",
       "      <td>0</td>\n",
       "      <td>0</td>\n",
       "      <td>0</td>\n",
       "      <td>0</td>\n",
       "      <td>0</td>\n",
       "      <td>0</td>\n",
       "      <td>0</td>\n",
       "      <td>0</td>\n",
       "    </tr>\n",
       "    <tr>\n",
       "      <th>2</th>\n",
       "      <td>27.0</td>\n",
       "      <td>162.560000</td>\n",
       "      <td>59.0</td>\n",
       "      <td>Italy</td>\n",
       "      <td>88</td>\n",
       "      <td>1</td>\n",
       "      <td>4</td>\n",
       "      <td>4.0</td>\n",
       "      <td>86</td>\n",
       "      <td>77</td>\n",
       "      <td>...</td>\n",
       "      <td>0</td>\n",
       "      <td>0</td>\n",
       "      <td>0</td>\n",
       "      <td>1</td>\n",
       "      <td>0</td>\n",
       "      <td>0</td>\n",
       "      <td>0</td>\n",
       "      <td>0</td>\n",
       "      <td>0</td>\n",
       "      <td>1</td>\n",
       "    </tr>\n",
       "    <tr>\n",
       "      <th>3</th>\n",
       "      <td>27.0</td>\n",
       "      <td>187.960000</td>\n",
       "      <td>88.9</td>\n",
       "      <td>Senegal</td>\n",
       "      <td>88</td>\n",
       "      <td>1</td>\n",
       "      <td>3</td>\n",
       "      <td>2.0</td>\n",
       "      <td>30</td>\n",
       "      <td>22</td>\n",
       "      <td>...</td>\n",
       "      <td>0</td>\n",
       "      <td>0</td>\n",
       "      <td>0</td>\n",
       "      <td>0</td>\n",
       "      <td>0</td>\n",
       "      <td>0</td>\n",
       "      <td>0</td>\n",
       "      <td>0</td>\n",
       "      <td>0</td>\n",
       "      <td>0</td>\n",
       "    </tr>\n",
       "    <tr>\n",
       "      <th>4</th>\n",
       "      <td>27.0</td>\n",
       "      <td>193.040000</td>\n",
       "      <td>92.1</td>\n",
       "      <td>Netherlands</td>\n",
       "      <td>88</td>\n",
       "      <td>1</td>\n",
       "      <td>3</td>\n",
       "      <td>2.0</td>\n",
       "      <td>53</td>\n",
       "      <td>52</td>\n",
       "      <td>...</td>\n",
       "      <td>0</td>\n",
       "      <td>0</td>\n",
       "      <td>0</td>\n",
       "      <td>0</td>\n",
       "      <td>0</td>\n",
       "      <td>0</td>\n",
       "      <td>0</td>\n",
       "      <td>0</td>\n",
       "      <td>0</td>\n",
       "      <td>0</td>\n",
       "    </tr>\n",
       "  </tbody>\n",
       "</table>\n",
       "<p>5 rows × 53 columns</p>\n",
       "</div>"
      ]
     },
     "execution_count": 2,
     "metadata": {},
     "output_type": "execute_result"
    }
   ],
   "execution_count": 2
  },
  {
   "cell_type": "code",
   "metadata": {
    "ExecuteTime": {
     "end_time": "2024-12-28T19:17:50.068543Z",
     "start_time": "2024-12-28T19:17:50.061020Z"
    }
   },
   "source": [
    "X = df.drop('overall_rating', axis=1)\n",
    "y = df['overall_rating']"
   ],
   "outputs": [],
   "execution_count": 3
  },
  {
   "cell_type": "code",
   "metadata": {
    "ExecuteTime": {
     "end_time": "2024-12-28T19:17:50.109330Z",
     "start_time": "2024-12-28T19:17:50.069616Z"
    }
   },
   "source": [
    "from sklearn.model_selection import train_test_split\n",
    "\n",
    "RANDOM_STATE = 42\n",
    "BATCH_SIZE = 256\n",
    "\n",
    "X_train, X_test, y_train, y_test = train_test_split(\n",
    "    X, y, test_size=0.3, random_state=RANDOM_STATE\n",
    ")\n",
    "\n",
    "X_val, X_test, y_val, y_test = train_test_split(\n",
    "    X_test, y_test, test_size=0.5, random_state=RANDOM_STATE\n",
    ")"
   ],
   "outputs": [],
   "execution_count": 4
  },
  {
   "cell_type": "code",
   "metadata": {
    "ExecuteTime": {
     "end_time": "2024-12-28T19:17:50.342511Z",
     "start_time": "2024-12-28T19:17:50.110635Z"
    }
   },
   "source": [
    "from category_encoders import TargetEncoder\n",
    "\n",
    "te = TargetEncoder(cols='nationality')\n",
    "X_train['nationality'] = te.fit_transform(X_train['nationality'], y_train)\n",
    "X_val['nationality'] = te.transform(X_val['nationality'])\n",
    "X_test['nationality'] = te.transform(X_test['nationality'])\n",
    "\n",
    "from sklearn.preprocessing import StandardScaler\n",
    "\n",
    "scaler = StandardScaler()\n",
    "X_train = scaler.fit_transform(X_train)\n",
    "X_val = scaler.transform(X_val)\n",
    "X_test = scaler.transform(X_test)"
   ],
   "outputs": [],
   "execution_count": 5
  },
  {
   "cell_type": "code",
   "metadata": {
    "ExecuteTime": {
     "end_time": "2024-12-28T19:17:50.352114Z",
     "start_time": "2024-12-28T19:17:50.343522Z"
    }
   },
   "source": [
    "import torch\n",
    "from torch.utils.data import TensorDataset, DataLoader\n",
    "\n",
    "X_train_tensor = torch.tensor(X_train, dtype=torch.float32)\n",
    "X_val_tensor = torch.tensor(X_val, dtype=torch.float32)\n",
    "X_test_tensor = torch.tensor(X_test, dtype=torch.float32)\n",
    "\n",
    "y_train_tensor = torch.tensor(y_train.values, dtype=torch.float32)\n",
    "y_val_tensor = torch.tensor(y_val.values, dtype=torch.float32)\n",
    "y_test_tensor = torch.tensor(y_test.values, dtype=torch.float32)\n",
    "\n",
    "train_dataset = TensorDataset(X_train_tensor, y_train_tensor)\n",
    "val_dataset = TensorDataset(X_val_tensor, y_val_tensor)\n",
    "test_dataset = TensorDataset(X_test_tensor, y_test_tensor)\n",
    "\n",
    "train_loader = DataLoader(train_dataset, batch_size=BATCH_SIZE, shuffle=True)\n",
    "val_loader = DataLoader(val_dataset, batch_size=BATCH_SIZE, shuffle=False)\n",
    "test_loader = DataLoader(test_dataset, batch_size=BATCH_SIZE, shuffle=False)"
   ],
   "outputs": [],
   "execution_count": 6
  },
  {
   "cell_type": "code",
   "metadata": {
    "ExecuteTime": {
     "end_time": "2024-12-28T19:17:50.362753Z",
     "start_time": "2024-12-28T19:17:50.353118Z"
    }
   },
   "source": [
    "print(f\"Số mẫu trong tập train: {len(train_loader.dataset)}\")\n",
    "print(f\"Số mẫu trong tập val: {len(val_loader.dataset)}\")\n",
    "print(f\"Số mẫu trong tập test: {len(test_loader.dataset)}\\n\")\n",
    "\n",
    "for batch_idx, (data, targets) in enumerate(train_loader):\n",
    "    print(f\"Batch {batch_idx + 1}:\")\n",
    "    print(f\" - Dữ liệu: {data.shape}\")    # Ví dụ: torch.Size([64, số_đặc_trưng])\n",
    "    print(f\" - Nhãn: {targets.shape}\")    # Ví dụ: torch.Size([64])\n",
    "    break"
   ],
   "outputs": [
    {
     "name": "stdout",
     "output_type": "stream",
     "text": [
      "Số mẫu trong tập train: 12562\n",
      "Số mẫu trong tập val: 2692\n",
      "Số mẫu trong tập test: 2693\n",
      "\n",
      "Batch 1:\n",
      " - Dữ liệu: torch.Size([256, 52])\n",
      " - Nhãn: torch.Size([256])\n"
     ]
    }
   ],
   "execution_count": 7
  },
  {
   "cell_type": "code",
   "metadata": {
    "ExecuteTime": {
     "end_time": "2024-12-28T19:17:50.368543Z",
     "start_time": "2024-12-28T19:17:50.363754Z"
    }
   },
   "source": [
    "import torch\n",
    "from torch import nn, optim\n",
    "from torch.utils.data import DataLoader\n",
    "\n",
    "def train_one_epoch(model, dataloader, optimizer, criterion, device):\n",
    "    model.train()\n",
    "    running_loss = 0.0\n",
    "    y_true = []\n",
    "    y_pred = []\n",
    "\n",
    "    for batch_idx, (inputs, targets) in enumerate(dataloader):\n",
    "        inputs = inputs.to(device)\n",
    "        targets = targets.to(device).unsqueeze(1)  # Đảm bảo nhãn có kích thước (batch_size, 1)\n",
    "\n",
    "        optimizer.zero_grad()\n",
    "\n",
    "        outputs = model(inputs)\n",
    "        loss = criterion(outputs, targets)\n",
    "\n",
    "        loss.backward()\n",
    "        optimizer.step()\n",
    "\n",
    "        running_loss += loss.item() * inputs.size(0)  # nhân với số mẫu trong batch\n",
    "        \n",
    "        y_true.extend(targets.cpu().numpy())\n",
    "        y_pred.extend(outputs.cpu().detach().numpy())\n",
    "\n",
    "    epoch_loss = running_loss / len(dataloader.dataset)\n",
    "    y_true = np.array(y_true).ravel()\n",
    "    y_pred = np.array(y_pred).ravel()\n",
    "    epoch_r2 = r2_score(y_true, y_pred)\n",
    "    epoch_mae = mean_absolute_error(y_true, y_pred)\n",
    "    return epoch_loss, epoch_r2, epoch_mae"
   ],
   "outputs": [],
   "execution_count": 8
  },
  {
   "cell_type": "code",
   "metadata": {
    "ExecuteTime": {
     "end_time": "2024-12-28T19:17:50.374530Z",
     "start_time": "2024-12-28T19:17:50.368543Z"
    }
   },
   "source": [
    "def evaluate(model, dataloader, criterion, device):\n",
    "    model.eval()\n",
    "    running_loss = 0.0\n",
    "    y_true = []\n",
    "    y_pred = []\n",
    "    with torch.no_grad():\n",
    "        for inputs, targets in dataloader:\n",
    "            inputs = inputs.to(device)\n",
    "            targets = targets.to(device).unsqueeze(1)\n",
    "\n",
    "            outputs = model(inputs)\n",
    "\n",
    "            loss = criterion(outputs, targets)\n",
    "\n",
    "            running_loss += loss.item() * inputs.size(0)\n",
    "\n",
    "            y_true.extend(targets.cpu().numpy())\n",
    "            y_pred.extend(outputs.cpu().detach().numpy())\n",
    "\n",
    "    epoch_loss = running_loss / len(dataloader.dataset)\n",
    "    y_true = np.array(y_true).ravel()\n",
    "    y_pred = np.array(y_pred).ravel()\n",
    "    r2 = r2_score(y_true, y_pred)\n",
    "    mae = mean_absolute_error(y_true, y_pred)\n",
    "    return epoch_loss, r2, mae"
   ],
   "outputs": [],
   "execution_count": 9
  },
  {
   "cell_type": "code",
   "metadata": {
    "ExecuteTime": {
     "end_time": "2024-12-28T19:17:50.382297Z",
     "start_time": "2024-12-28T19:17:50.376537Z"
    }
   },
   "source": [
    "class MLPRegressor(nn.Module):\n",
    "    def __init__(self, input_dim):\n",
    "        super(MLPRegressor, self).__init__()\n",
    "        self.layer1 = nn.Sequential(\n",
    "            nn.Linear(input_dim, 256),\n",
    "            nn.SiLU(),\n",
    "            nn.BatchNorm1d(256),\n",
    "            nn.Dropout(0.1),\n",
    "        )\n",
    "        self.layer2 = nn.Sequential(\n",
    "            nn.Linear(256, 256),\n",
    "            nn.SiLU(),\n",
    "            nn.BatchNorm1d(256),\n",
    "            nn.Dropout(0.1),\n",
    "        )\n",
    "        self.layer3 = nn.Sequential(\n",
    "            nn.Linear(256, 256),\n",
    "            nn.SiLU(),\n",
    "            nn.BatchNorm1d(256),\n",
    "        )\n",
    "        self.sc1 = nn.Sequential(\n",
    "            nn.Linear(input_dim, 256),\n",
    "            nn.SiLU(),\n",
    "            nn.BatchNorm1d(256),\n",
    "        )\n",
    "        self.sc2 = nn.Sequential(\n",
    "            nn.Linear(256, 256),\n",
    "            nn.SiLU(),\n",
    "            nn.BatchNorm1d(256),\n",
    "        )\n",
    "        self.fc = nn.Linear(256, 1)\n",
    "        self.init_weights()\n",
    "\n",
    "    def init_weights(self):\n",
    "        for m in self.modules():\n",
    "            if isinstance(m, nn.Linear):\n",
    "                nn.init.xavier_normal_(m.weight)\n",
    "                if m.bias is not None:\n",
    "                    nn.init.zeros_(m.bias)\n",
    "    \n",
    "    def forward(self, x):\n",
    "        prev_x = x\n",
    "        x = self.layer1(x)\n",
    "        x += self.sc1(prev_x)\n",
    "        prev_x = x\n",
    "        x = self.layer2(x)\n",
    "        # x += self.sc2(prev_x)\n",
    "        x += prev_x\n",
    "        x = self.layer3(x)\n",
    "        x = self.fc(x)\n",
    "        return x"
   ],
   "outputs": [],
   "execution_count": 10
  },
  {
   "cell_type": "code",
   "metadata": {
    "ExecuteTime": {
     "end_time": "2024-12-28T19:17:50.401637Z",
     "start_time": "2024-12-28T19:17:50.383431Z"
    }
   },
   "source": [
    "import torchsummary\n",
    "\n",
    "input_dim = X_train.shape[1]\n",
    "model = MLPRegressor(input_dim).to(device)\n",
    "\n",
    "torchsummary.summary(model, (input_dim,))"
   ],
   "outputs": [
    {
     "name": "stdout",
     "output_type": "stream",
     "text": [
      "----------------------------------------------------------------\n",
      "        Layer (type)               Output Shape         Param #\n",
      "================================================================\n",
      "            Linear-1                  [-1, 256]          13,568\n",
      "              SiLU-2                  [-1, 256]               0\n",
      "       BatchNorm1d-3                  [-1, 256]             512\n",
      "           Dropout-4                  [-1, 256]               0\n",
      "            Linear-5                  [-1, 256]          13,568\n",
      "              SiLU-6                  [-1, 256]               0\n",
      "       BatchNorm1d-7                  [-1, 256]             512\n",
      "            Linear-8                  [-1, 256]          65,792\n",
      "              SiLU-9                  [-1, 256]               0\n",
      "      BatchNorm1d-10                  [-1, 256]             512\n",
      "          Dropout-11                  [-1, 256]               0\n",
      "           Linear-12                  [-1, 256]          65,792\n",
      "             SiLU-13                  [-1, 256]               0\n",
      "      BatchNorm1d-14                  [-1, 256]             512\n",
      "           Linear-15                    [-1, 1]             257\n",
      "================================================================\n",
      "Total params: 161,025\n",
      "Trainable params: 161,025\n",
      "Non-trainable params: 0\n",
      "----------------------------------------------------------------\n",
      "Input size (MB): 0.00\n",
      "Forward/backward pass size (MB): 0.03\n",
      "Params size (MB): 0.61\n",
      "Estimated Total Size (MB): 0.64\n",
      "----------------------------------------------------------------\n"
     ]
    }
   ],
   "execution_count": 11
  },
  {
   "cell_type": "code",
   "metadata": {
    "ExecuteTime": {
     "end_time": "2024-12-28T19:17:54.957455Z",
     "start_time": "2024-12-28T19:17:53.313153Z"
    }
   },
   "source": [
    "model = MLPRegressor(input_dim).to(device)\n",
    "criterion = nn.MSELoss(reduction='mean')\n",
    "optimizer = optim.Adam(model.parameters(), lr=0.001, weight_decay=1e-5)"
   ],
   "outputs": [],
   "execution_count": 12
  },
  {
   "cell_type": "code",
   "metadata": {
    "ExecuteTime": {
     "end_time": "2024-12-28T19:18:55.084879Z",
     "start_time": "2024-12-28T19:17:56.473806Z"
    }
   },
   "source": [
    "NUM_EPOCHS = 150\n",
    "\n",
    "scheduler = optim.lr_scheduler.ExponentialLR(optimizer, gamma=0.95)\n",
    "\n",
    "train_losses, train_r2s = [], []\n",
    "val_losses, val_r2s = [], []\n",
    "\n",
    "for epoch in range(1, NUM_EPOCHS + 1):\n",
    "    train_loss, train_r2, _ = train_one_epoch(model, train_loader, optimizer, criterion, device)\n",
    "\n",
    "    val_loss, val_r2, _ = evaluate(model, val_loader, criterion, device)\n",
    "\n",
    "    train_losses.append(train_loss)\n",
    "    train_r2s.append(train_r2)\n",
    "    val_losses.append(val_loss)\n",
    "    val_r2s.append(val_r2)\n",
    "\n",
    "    scheduler.step()\n",
    "\n",
    "    print(f\"Epoch [{epoch}/{NUM_EPOCHS}] | Train Loss: {train_loss:.4f} | Train R2: {train_r2:.4f} | Val Loss: {val_loss:.4f} | Val R²: {val_r2:.4f}\")\n"
   ],
   "outputs": [
    {
     "name": "stdout",
     "output_type": "stream",
     "text": [
      "Epoch [1/150] | Train Loss: 4323.1293 | Train R2: -88.3355 | Val Loss: 4105.3707 | Val R²: -86.6496\n",
      "Epoch [2/150] | Train Loss: 3984.4325 | Train R2: -81.3365 | Val Loss: 3728.2622 | Val R²: -78.5984\n",
      "Epoch [3/150] | Train Loss: 3375.6247 | Train R2: -68.7558 | Val Loss: 2951.7904 | Val R²: -62.0207\n",
      "Epoch [4/150] | Train Loss: 2613.8739 | Train R2: -53.0145 | Val Loss: 2205.4542 | Val R²: -46.0864\n",
      "Epoch [5/150] | Train Loss: 1848.7762 | Train R2: -37.2041 | Val Loss: 1473.6176 | Val R²: -30.4617\n",
      "Epoch [6/150] | Train Loss: 1194.8850 | Train R2: -23.6918 | Val Loss: 893.6419 | Val R²: -18.0792\n",
      "Epoch [7/150] | Train Loss: 705.4840 | Train R2: -13.5785 | Val Loss: 503.6250 | Val R²: -9.7524\n",
      "Epoch [8/150] | Train Loss: 381.9940 | Train R2: -6.8937 | Val Loss: 255.1738 | Val R²: -4.4480\n",
      "Epoch [9/150] | Train Loss: 191.3193 | Train R2: -2.9535 | Val Loss: 132.6011 | Val R²: -1.8310\n",
      "Epoch [10/150] | Train Loss: 89.8287 | Train R2: -0.8563 | Val Loss: 56.1275 | Val R²: -0.1983\n",
      "Epoch [11/150] | Train Loss: 41.0377 | Train R2: 0.1520 | Val Loss: 27.0430 | Val R²: 0.4226\n",
      "Epoch [12/150] | Train Loss: 19.1083 | Train R2: 0.6051 | Val Loss: 11.5755 | Val R²: 0.7529\n",
      "Epoch [13/150] | Train Loss: 9.7345 | Train R2: 0.7988 | Val Loss: 6.1907 | Val R²: 0.8678\n",
      "Epoch [14/150] | Train Loss: 6.1760 | Train R2: 0.8724 | Val Loss: 4.6874 | Val R²: 0.8999\n",
      "Epoch [15/150] | Train Loss: 4.5888 | Train R2: 0.9052 | Val Loss: 3.4137 | Val R²: 0.9271\n",
      "Epoch [16/150] | Train Loss: 3.8405 | Train R2: 0.9206 | Val Loss: 4.3721 | Val R²: 0.9067\n",
      "Epoch [17/150] | Train Loss: 3.6735 | Train R2: 0.9241 | Val Loss: 3.1246 | Val R²: 0.9333\n",
      "Epoch [18/150] | Train Loss: 3.5413 | Train R2: 0.9268 | Val Loss: 3.3185 | Val R²: 0.9292\n",
      "Epoch [19/150] | Train Loss: 3.9331 | Train R2: 0.9187 | Val Loss: 3.1812 | Val R²: 0.9321\n",
      "Epoch [20/150] | Train Loss: 3.3672 | Train R2: 0.9304 | Val Loss: 3.3508 | Val R²: 0.9285\n",
      "Epoch [21/150] | Train Loss: 3.6590 | Train R2: 0.9244 | Val Loss: 3.1976 | Val R²: 0.9317\n",
      "Epoch [22/150] | Train Loss: 3.4003 | Train R2: 0.9297 | Val Loss: 3.1052 | Val R²: 0.9337\n",
      "Epoch [23/150] | Train Loss: 3.4176 | Train R2: 0.9294 | Val Loss: 3.2818 | Val R²: 0.9299\n",
      "Epoch [24/150] | Train Loss: 3.4741 | Train R2: 0.9282 | Val Loss: 3.0585 | Val R²: 0.9347\n",
      "Epoch [25/150] | Train Loss: 3.4320 | Train R2: 0.9291 | Val Loss: 2.8740 | Val R²: 0.9386\n",
      "Epoch [26/150] | Train Loss: 3.1931 | Train R2: 0.9340 | Val Loss: 2.9547 | Val R²: 0.9369\n",
      "Epoch [27/150] | Train Loss: 3.2419 | Train R2: 0.9330 | Val Loss: 2.9670 | Val R²: 0.9367\n",
      "Epoch [28/150] | Train Loss: 3.1684 | Train R2: 0.9345 | Val Loss: 2.9502 | Val R²: 0.9370\n",
      "Epoch [29/150] | Train Loss: 3.2681 | Train R2: 0.9325 | Val Loss: 2.9727 | Val R²: 0.9365\n",
      "Epoch [30/150] | Train Loss: 3.1243 | Train R2: 0.9354 | Val Loss: 2.9402 | Val R²: 0.9372\n",
      "Epoch [31/150] | Train Loss: 3.2489 | Train R2: 0.9329 | Val Loss: 2.9498 | Val R²: 0.9370\n",
      "Epoch [32/150] | Train Loss: 3.0750 | Train R2: 0.9365 | Val Loss: 3.0002 | Val R²: 0.9359\n",
      "Epoch [33/150] | Train Loss: 3.0679 | Train R2: 0.9366 | Val Loss: 2.9410 | Val R²: 0.9372\n",
      "Epoch [34/150] | Train Loss: 3.0619 | Train R2: 0.9367 | Val Loss: 3.0116 | Val R²: 0.9357\n",
      "Epoch [35/150] | Train Loss: 3.0997 | Train R2: 0.9359 | Val Loss: 2.9313 | Val R²: 0.9374\n",
      "Epoch [36/150] | Train Loss: 3.1110 | Train R2: 0.9357 | Val Loss: 2.9935 | Val R²: 0.9361\n",
      "Epoch [37/150] | Train Loss: 3.0312 | Train R2: 0.9374 | Val Loss: 2.9977 | Val R²: 0.9360\n",
      "Epoch [38/150] | Train Loss: 2.9671 | Train R2: 0.9387 | Val Loss: 2.9312 | Val R²: 0.9374\n",
      "Epoch [39/150] | Train Loss: 3.0491 | Train R2: 0.9370 | Val Loss: 2.9556 | Val R²: 0.9369\n",
      "Epoch [40/150] | Train Loss: 2.9898 | Train R2: 0.9382 | Val Loss: 3.0198 | Val R²: 0.9355\n",
      "Epoch [41/150] | Train Loss: 2.9682 | Train R2: 0.9387 | Val Loss: 2.9750 | Val R²: 0.9365\n",
      "Epoch [42/150] | Train Loss: 3.0709 | Train R2: 0.9365 | Val Loss: 2.9925 | Val R²: 0.9361\n",
      "Epoch [43/150] | Train Loss: 2.9627 | Train R2: 0.9388 | Val Loss: 3.1610 | Val R²: 0.9325\n",
      "Epoch [44/150] | Train Loss: 2.9292 | Train R2: 0.9395 | Val Loss: 2.9013 | Val R²: 0.9381\n",
      "Epoch [45/150] | Train Loss: 2.8944 | Train R2: 0.9402 | Val Loss: 2.8918 | Val R²: 0.9383\n",
      "Epoch [46/150] | Train Loss: 2.8843 | Train R2: 0.9404 | Val Loss: 2.8876 | Val R²: 0.9383\n",
      "Epoch [47/150] | Train Loss: 2.9068 | Train R2: 0.9399 | Val Loss: 2.9389 | Val R²: 0.9373\n",
      "Epoch [48/150] | Train Loss: 2.9815 | Train R2: 0.9384 | Val Loss: 3.0335 | Val R²: 0.9352\n",
      "Epoch [49/150] | Train Loss: 2.8866 | Train R2: 0.9403 | Val Loss: 2.8901 | Val R²: 0.9383\n",
      "Epoch [50/150] | Train Loss: 2.8233 | Train R2: 0.9417 | Val Loss: 2.9344 | Val R²: 0.9374\n",
      "Epoch [51/150] | Train Loss: 3.0469 | Train R2: 0.9370 | Val Loss: 3.0778 | Val R²: 0.9343\n",
      "Epoch [52/150] | Train Loss: 2.8878 | Train R2: 0.9403 | Val Loss: 2.9367 | Val R²: 0.9373\n",
      "Epoch [53/150] | Train Loss: 2.8202 | Train R2: 0.9417 | Val Loss: 2.9038 | Val R²: 0.9380\n",
      "Epoch [54/150] | Train Loss: 2.8946 | Train R2: 0.9402 | Val Loss: 2.8642 | Val R²: 0.9388\n",
      "Epoch [55/150] | Train Loss: 2.9250 | Train R2: 0.9396 | Val Loss: 2.9315 | Val R²: 0.9374\n",
      "Epoch [56/150] | Train Loss: 2.9023 | Train R2: 0.9400 | Val Loss: 3.0150 | Val R²: 0.9356\n",
      "Epoch [57/150] | Train Loss: 2.7346 | Train R2: 0.9435 | Val Loss: 2.8883 | Val R²: 0.9383\n",
      "Epoch [58/150] | Train Loss: 2.7521 | Train R2: 0.9431 | Val Loss: 2.9193 | Val R²: 0.9377\n",
      "Epoch [59/150] | Train Loss: 2.8731 | Train R2: 0.9406 | Val Loss: 3.0126 | Val R²: 0.9357\n",
      "Epoch [60/150] | Train Loss: 2.8691 | Train R2: 0.9407 | Val Loss: 2.8904 | Val R²: 0.9383\n",
      "Epoch [61/150] | Train Loss: 2.8279 | Train R2: 0.9416 | Val Loss: 2.9313 | Val R²: 0.9374\n",
      "Epoch [62/150] | Train Loss: 2.8128 | Train R2: 0.9419 | Val Loss: 2.8945 | Val R²: 0.9382\n",
      "Epoch [63/150] | Train Loss: 2.7310 | Train R2: 0.9436 | Val Loss: 2.9660 | Val R²: 0.9367\n",
      "Epoch [64/150] | Train Loss: 2.7129 | Train R2: 0.9439 | Val Loss: 3.0240 | Val R²: 0.9354\n",
      "Epoch [65/150] | Train Loss: 2.7881 | Train R2: 0.9424 | Val Loss: 2.9195 | Val R²: 0.9377\n",
      "Epoch [66/150] | Train Loss: 2.8299 | Train R2: 0.9415 | Val Loss: 2.9739 | Val R²: 0.9365\n",
      "Epoch [67/150] | Train Loss: 2.8329 | Train R2: 0.9415 | Val Loss: 2.8964 | Val R²: 0.9382\n",
      "Epoch [68/150] | Train Loss: 2.8173 | Train R2: 0.9418 | Val Loss: 2.9282 | Val R²: 0.9375\n",
      "Epoch [69/150] | Train Loss: 2.7090 | Train R2: 0.9440 | Val Loss: 2.9501 | Val R²: 0.9370\n",
      "Epoch [70/150] | Train Loss: 2.7861 | Train R2: 0.9424 | Val Loss: 3.0815 | Val R²: 0.9342\n",
      "Epoch [71/150] | Train Loss: 2.7493 | Train R2: 0.9432 | Val Loss: 2.9121 | Val R²: 0.9378\n",
      "Epoch [72/150] | Train Loss: 2.8063 | Train R2: 0.9420 | Val Loss: 2.8662 | Val R²: 0.9388\n",
      "Epoch [73/150] | Train Loss: 2.8139 | Train R2: 0.9419 | Val Loss: 3.0523 | Val R²: 0.9348\n",
      "Epoch [74/150] | Train Loss: 2.7851 | Train R2: 0.9424 | Val Loss: 2.8870 | Val R²: 0.9384\n",
      "Epoch [75/150] | Train Loss: 2.7586 | Train R2: 0.9430 | Val Loss: 2.9251 | Val R²: 0.9375\n",
      "Epoch [76/150] | Train Loss: 2.7916 | Train R2: 0.9423 | Val Loss: 2.8726 | Val R²: 0.9387\n",
      "Epoch [77/150] | Train Loss: 2.6877 | Train R2: 0.9445 | Val Loss: 2.9153 | Val R²: 0.9378\n",
      "Epoch [78/150] | Train Loss: 2.8128 | Train R2: 0.9419 | Val Loss: 2.8998 | Val R²: 0.9381\n",
      "Epoch [79/150] | Train Loss: 2.7724 | Train R2: 0.9427 | Val Loss: 2.9611 | Val R²: 0.9368\n",
      "Epoch [80/150] | Train Loss: 2.7635 | Train R2: 0.9429 | Val Loss: 2.9171 | Val R²: 0.9377\n",
      "Epoch [81/150] | Train Loss: 2.7976 | Train R2: 0.9422 | Val Loss: 2.9411 | Val R²: 0.9372\n",
      "Epoch [82/150] | Train Loss: 2.7816 | Train R2: 0.9425 | Val Loss: 2.8783 | Val R²: 0.9385\n",
      "Epoch [83/150] | Train Loss: 2.7208 | Train R2: 0.9438 | Val Loss: 3.0403 | Val R²: 0.9351\n",
      "Epoch [84/150] | Train Loss: 2.8018 | Train R2: 0.9421 | Val Loss: 3.0702 | Val R²: 0.9345\n",
      "Epoch [85/150] | Train Loss: 2.7311 | Train R2: 0.9436 | Val Loss: 2.9169 | Val R²: 0.9377\n",
      "Epoch [86/150] | Train Loss: 2.7719 | Train R2: 0.9427 | Val Loss: 3.0602 | Val R²: 0.9347\n",
      "Epoch [87/150] | Train Loss: 2.6591 | Train R2: 0.9451 | Val Loss: 2.8883 | Val R²: 0.9383\n",
      "Epoch [88/150] | Train Loss: 2.7493 | Train R2: 0.9432 | Val Loss: 2.9073 | Val R²: 0.9379\n",
      "Epoch [89/150] | Train Loss: 2.7626 | Train R2: 0.9429 | Val Loss: 2.9653 | Val R²: 0.9367\n",
      "Epoch [90/150] | Train Loss: 2.7914 | Train R2: 0.9423 | Val Loss: 2.9874 | Val R²: 0.9362\n",
      "Epoch [91/150] | Train Loss: 2.7549 | Train R2: 0.9431 | Val Loss: 2.8572 | Val R²: 0.9390\n",
      "Epoch [92/150] | Train Loss: 2.7401 | Train R2: 0.9434 | Val Loss: 2.8756 | Val R²: 0.9386\n",
      "Epoch [93/150] | Train Loss: 2.7714 | Train R2: 0.9427 | Val Loss: 2.8841 | Val R²: 0.9384\n",
      "Epoch [94/150] | Train Loss: 2.7629 | Train R2: 0.9429 | Val Loss: 2.9056 | Val R²: 0.9380\n",
      "Epoch [95/150] | Train Loss: 2.8136 | Train R2: 0.9419 | Val Loss: 2.8866 | Val R²: 0.9384\n",
      "Epoch [96/150] | Train Loss: 2.7503 | Train R2: 0.9432 | Val Loss: 2.8995 | Val R²: 0.9381\n",
      "Epoch [97/150] | Train Loss: 2.7129 | Train R2: 0.9439 | Val Loss: 2.9810 | Val R²: 0.9364\n",
      "Epoch [98/150] | Train Loss: 2.6569 | Train R2: 0.9451 | Val Loss: 2.8803 | Val R²: 0.9385\n",
      "Epoch [99/150] | Train Loss: 2.7461 | Train R2: 0.9433 | Val Loss: 2.9077 | Val R²: 0.9379\n",
      "Epoch [100/150] | Train Loss: 2.7754 | Train R2: 0.9426 | Val Loss: 2.8685 | Val R²: 0.9388\n",
      "Epoch [101/150] | Train Loss: 2.7534 | Train R2: 0.9431 | Val Loss: 2.9876 | Val R²: 0.9362\n",
      "Epoch [102/150] | Train Loss: 2.7438 | Train R2: 0.9433 | Val Loss: 2.9105 | Val R²: 0.9379\n",
      "Epoch [103/150] | Train Loss: 2.7469 | Train R2: 0.9432 | Val Loss: 3.0370 | Val R²: 0.9352\n",
      "Epoch [104/150] | Train Loss: 2.6652 | Train R2: 0.9449 | Val Loss: 3.0835 | Val R²: 0.9342\n",
      "Epoch [105/150] | Train Loss: 2.7423 | Train R2: 0.9433 | Val Loss: 2.8952 | Val R²: 0.9382\n",
      "Epoch [106/150] | Train Loss: 2.6590 | Train R2: 0.9451 | Val Loss: 2.9131 | Val R²: 0.9378\n",
      "Epoch [107/150] | Train Loss: 2.7722 | Train R2: 0.9427 | Val Loss: 3.0790 | Val R²: 0.9343\n",
      "Epoch [108/150] | Train Loss: 2.7371 | Train R2: 0.9434 | Val Loss: 2.8761 | Val R²: 0.9386\n",
      "Epoch [109/150] | Train Loss: 2.7426 | Train R2: 0.9433 | Val Loss: 2.9016 | Val R²: 0.9380\n",
      "Epoch [110/150] | Train Loss: 2.6974 | Train R2: 0.9443 | Val Loss: 2.9258 | Val R²: 0.9375\n",
      "Epoch [111/150] | Train Loss: 2.7248 | Train R2: 0.9437 | Val Loss: 3.0004 | Val R²: 0.9359\n",
      "Epoch [112/150] | Train Loss: 2.7292 | Train R2: 0.9436 | Val Loss: 2.9533 | Val R²: 0.9369\n",
      "Epoch [113/150] | Train Loss: 2.7862 | Train R2: 0.9424 | Val Loss: 2.8981 | Val R²: 0.9381\n",
      "Epoch [114/150] | Train Loss: 2.7571 | Train R2: 0.9430 | Val Loss: 2.8874 | Val R²: 0.9384\n",
      "Epoch [115/150] | Train Loss: 2.7156 | Train R2: 0.9439 | Val Loss: 2.9045 | Val R²: 0.9380\n",
      "Epoch [116/150] | Train Loss: 2.7155 | Train R2: 0.9439 | Val Loss: 2.8908 | Val R²: 0.9383\n",
      "Epoch [117/150] | Train Loss: 2.6669 | Train R2: 0.9449 | Val Loss: 2.8750 | Val R²: 0.9386\n",
      "Epoch [118/150] | Train Loss: 2.6371 | Train R2: 0.9455 | Val Loss: 2.9371 | Val R²: 0.9373\n",
      "Epoch [119/150] | Train Loss: 2.7534 | Train R2: 0.9431 | Val Loss: 2.9818 | Val R²: 0.9363\n",
      "Epoch [120/150] | Train Loss: 2.6498 | Train R2: 0.9452 | Val Loss: 2.8703 | Val R²: 0.9387\n",
      "Epoch [121/150] | Train Loss: 2.7440 | Train R2: 0.9433 | Val Loss: 2.9258 | Val R²: 0.9375\n",
      "Epoch [122/150] | Train Loss: 2.7022 | Train R2: 0.9442 | Val Loss: 2.9330 | Val R²: 0.9374\n",
      "Epoch [123/150] | Train Loss: 2.6850 | Train R2: 0.9445 | Val Loss: 2.9051 | Val R²: 0.9380\n",
      "Epoch [124/150] | Train Loss: 2.6904 | Train R2: 0.9444 | Val Loss: 2.9462 | Val R²: 0.9371\n",
      "Epoch [125/150] | Train Loss: 2.7404 | Train R2: 0.9434 | Val Loss: 2.9169 | Val R²: 0.9377\n",
      "Epoch [126/150] | Train Loss: 2.7350 | Train R2: 0.9435 | Val Loss: 2.8905 | Val R²: 0.9383\n",
      "Epoch [127/150] | Train Loss: 2.7163 | Train R2: 0.9439 | Val Loss: 3.0384 | Val R²: 0.9351\n",
      "Epoch [128/150] | Train Loss: 2.6848 | Train R2: 0.9445 | Val Loss: 2.8790 | Val R²: 0.9385\n",
      "Epoch [129/150] | Train Loss: 2.7173 | Train R2: 0.9438 | Val Loss: 3.1388 | Val R²: 0.9330\n",
      "Epoch [130/150] | Train Loss: 2.7700 | Train R2: 0.9428 | Val Loss: 2.9108 | Val R²: 0.9379\n",
      "Epoch [131/150] | Train Loss: 2.6712 | Train R2: 0.9448 | Val Loss: 2.9261 | Val R²: 0.9375\n",
      "Epoch [132/150] | Train Loss: 2.7564 | Train R2: 0.9430 | Val Loss: 2.8697 | Val R²: 0.9387\n",
      "Epoch [133/150] | Train Loss: 2.6844 | Train R2: 0.9445 | Val Loss: 2.8848 | Val R²: 0.9384\n",
      "Epoch [134/150] | Train Loss: 2.6772 | Train R2: 0.9447 | Val Loss: 2.9305 | Val R²: 0.9374\n",
      "Epoch [135/150] | Train Loss: 2.6355 | Train R2: 0.9455 | Val Loss: 2.9425 | Val R²: 0.9372\n",
      "Epoch [136/150] | Train Loss: 2.7345 | Train R2: 0.9435 | Val Loss: 2.9526 | Val R²: 0.9370\n",
      "Epoch [137/150] | Train Loss: 2.6757 | Train R2: 0.9447 | Val Loss: 2.8882 | Val R²: 0.9383\n",
      "Epoch [138/150] | Train Loss: 2.6818 | Train R2: 0.9446 | Val Loss: 2.8943 | Val R²: 0.9382\n",
      "Epoch [139/150] | Train Loss: 2.8403 | Train R2: 0.9413 | Val Loss: 2.9720 | Val R²: 0.9365\n",
      "Epoch [140/150] | Train Loss: 2.6785 | Train R2: 0.9447 | Val Loss: 2.8876 | Val R²: 0.9383\n",
      "Epoch [141/150] | Train Loss: 2.6779 | Train R2: 0.9447 | Val Loss: 2.9746 | Val R²: 0.9365\n",
      "Epoch [142/150] | Train Loss: 2.7352 | Train R2: 0.9435 | Val Loss: 2.9215 | Val R²: 0.9376\n",
      "Epoch [143/150] | Train Loss: 2.7183 | Train R2: 0.9438 | Val Loss: 3.0244 | Val R²: 0.9354\n",
      "Epoch [144/150] | Train Loss: 2.7593 | Train R2: 0.9430 | Val Loss: 3.0099 | Val R²: 0.9357\n",
      "Epoch [145/150] | Train Loss: 2.6379 | Train R2: 0.9455 | Val Loss: 3.0101 | Val R²: 0.9357\n",
      "Epoch [146/150] | Train Loss: 2.7354 | Train R2: 0.9435 | Val Loss: 2.9104 | Val R²: 0.9379\n",
      "Epoch [147/150] | Train Loss: 2.6620 | Train R2: 0.9450 | Val Loss: 2.9522 | Val R²: 0.9370\n",
      "Epoch [148/150] | Train Loss: 2.7004 | Train R2: 0.9442 | Val Loss: 2.9049 | Val R²: 0.9380\n",
      "Epoch [149/150] | Train Loss: 2.7621 | Train R2: 0.9429 | Val Loss: 2.9771 | Val R²: 0.9364\n",
      "Epoch [150/150] | Train Loss: 2.7188 | Train R2: 0.9438 | Val Loss: 3.0562 | Val R²: 0.9347\n"
     ]
    }
   ],
   "execution_count": 13
  },
  {
   "cell_type": "code",
   "metadata": {
    "ExecuteTime": {
     "end_time": "2024-12-28T19:18:59.159076Z",
     "start_time": "2024-12-28T19:18:58.132486Z"
    }
   },
   "source": [
    "import matplotlib.pyplot as plt\n",
    "\n",
    "plt.figure(figsize=(12, 5))\n",
    "plt.subplot(1, 2, 1)\n",
    "plt.plot(train_losses[12:], label='Train Loss')\n",
    "plt.plot(val_losses[12:], label='Val Loss')\n",
    "plt.xlabel('Epoch')\n",
    "plt.ylabel('Loss')\n",
    "plt.legend()\n",
    "\n",
    "plt.subplot(1, 2, 2)\n",
    "plt.plot(train_r2s[12:], label='Train R²')\n",
    "plt.plot(val_r2s[12:], label='Val R²')\n",
    "plt.xlabel('Epoch')\n",
    "plt.ylabel('R²')\n",
    "plt.legend()\n",
    "\n",
    "plt.tight_layout()\n",
    "plt.show()"
   ],
   "outputs": [
    {
     "data": {
      "text/plain": [
       "<Figure size 1200x500 with 2 Axes>"
      ],
      "image/png": "[encoded data removed]"
     },
     "metadata": {},
     "output_type": "display_data"
    }
   ],
   "execution_count": 14
  },
  {
   "cell_type": "code",
   "metadata": {
    "jupyter": {
     "is_executing": true
    }
   },
   "source": [
    "# print(\"Training Set\")\n",
    "# train_loss, train_r2, train_mae = evaluate(model, train_loader, criterion, device)\n",
    "# print(f\"Loss: {train_loss:.4f} | R²: {train_r2:.4f} | MAE: {train_mae:.4f}\")\n",
    "\n",
    "# print(\"\\nValidation Set\")\n",
    "# val_loss, val_r2, val_mae = evaluate(model, val_loader, criterion, device)\n",
    "# print(f\"Loss: {val_loss:.4f} | R²: {val_r2:.4f} | MAE: {val_mae:.4f}\")\n",
    "\n",
    "# print(\"\\nTest Set\")\n",
    "# test_loss, test_r2, test_mae = evaluate(model, test_loader, criterion, device)\n",
    "# print(f\"Loss: {test_loss:.4f} | R²: {test_r2:.4f} | MAE: {test_mae:.4f}\")"
   ],
   "outputs": [],
   "execution_count": null
  },
  {
   "cell_type": "code",
   "metadata": {
    "jupyter": {
     "is_executing": true
    }
   },
   "source": [
    "# # Concatenate training and validation datasets\n",
    "# X_combined = np.concatenate((X_train, X_val), axis=0)\n",
    "# y_combined = np.concatenate((y_train, y_val), axis=0)\n",
    "\n",
    "# # Convert to tensors\n",
    "# X_combined_tensor = torch.tensor(X_combined, dtype=torch.float32)\n",
    "# y_combined_tensor = torch.tensor(y_combined, dtype=torch.float32)\n",
    "\n",
    "# # Create new DataLoader for the combined dataset\n",
    "# combined_dataset = TensorDataset(X_combined_tensor, y_combined_tensor)\n",
    "# combined_loader = DataLoader(combined_dataset, batch_size=BATCH_SIZE, shuffle=True)\n",
    "\n",
    "# # Train the model again using the combined dataset\n",
    "# NUM_EPOCHS = 150\n",
    "# model = MLPRegressor(input_dim).to(device)\n",
    "# criterion = nn.MSELoss()\n",
    "# optimizer = optim.Adam(model.parameters(), lr=0.001, weight_decay=1e-5)\n",
    "# scheduler = optim.lr_scheduler.ExponentialLR(optimizer, gamma=0.95)\n",
    "\n",
    "# for epoch in range(1, NUM_EPOCHS + 1):\n",
    "#     train_loss, train_r2, _ = train_one_epoch(model, combined_loader, optimizer, criterion, device)\n",
    "#     scheduler.step()\n",
    "#     print(f\"Epoch [{epoch}/{NUM_EPOCHS}] | Train Loss: {train_loss:.4f} | Train R2: {train_r2:.4f}\")"
   ],
   "outputs": [],
   "execution_count": null
  },
  {
   "cell_type": "code",
   "metadata": {
    "jupyter": {
     "is_executing": true
    }
   },
   "source": [
    "# eval_results = evaluate(model, test_loader, criterion, device)\n",
    "# print(\"Test Set\")\n",
    "# print(f\"Loss: {eval_results[0]:.4f} | R²: {eval_results[1]:.4f} | MAE: {eval_results[2]:.4f}\")"
   ],
   "outputs": [],
   "execution_count": null
  },
  {
   "cell_type": "code",
   "metadata": {
    "jupyter": {
     "is_executing": true
    }
   },
   "source": [
    "# model_path = \"mlp_regressor.pth\"\n",
    "# torch.save(model.state_dict(), model_path)\n",
    "# print(f\"Model parameters saved to {model_path}\")"
   ],
   "outputs": [],
   "execution_count": null
  },
  {
   "cell_type": "code",
   "metadata": {
    "ExecuteTime": {
     "end_time": "2024-12-28T19:19:07.385880Z",
     "start_time": "2024-12-28T19:19:07.283100Z"
    }
   },
   "source": [
    "X_train, X_test, y_train, y_test = train_test_split(X, y, test_size=0.15, random_state=RANDOM_STATE)\n",
    "\n",
    "from category_encoders import TargetEncoder\n",
    "\n",
    "te = TargetEncoder(cols='nationality')\n",
    "X_train['nationality'] = te.fit_transform(X_train['nationality'], y_train)\n",
    "X_test['nationality'] = te.transform(X_test['nationality'])\n",
    "\n",
    "from sklearn.preprocessing import StandardScaler\n",
    "\n",
    "scaler = StandardScaler()\n",
    "X_train = scaler.fit_transform(X_train)\n",
    "X_test = scaler.transform(X_test)\n",
    "\n",
    "import torch\n",
    "from torch.utils.data import TensorDataset, DataLoader\n",
    "\n",
    "X_train_tensor = torch.tensor(X_train, dtype=torch.float32)\n",
    "X_test_tensor = torch.tensor(X_test, dtype=torch.float32)\n",
    "\n",
    "y_train_tensor = torch.tensor(y_train.values, dtype=torch.float32)\n",
    "y_test_tensor = torch.tensor(y_test.values, dtype=torch.float32)\n",
    "\n",
    "train_dataset = TensorDataset(X_train_tensor, y_train_tensor)\n",
    "test_dataset = TensorDataset(X_test_tensor, y_test_tensor)\n",
    "\n",
    "train_loader = DataLoader(train_dataset, batch_size=BATCH_SIZE, shuffle=True)\n",
    "test_loader = DataLoader(test_dataset, batch_size=BATCH_SIZE, shuffle=False)"
   ],
   "outputs": [],
   "execution_count": 15
  },
  {
   "cell_type": "code",
   "metadata": {
    "ExecuteTime": {
     "end_time": "2024-12-28T19:20:08.353341Z",
     "start_time": "2024-12-28T19:19:07.808569Z"
    }
   },
   "source": [
    "NUM_EPOCHS = 150\n",
    "model = MLPRegressor(input_dim).to(device)\n",
    "criterion = nn.MSELoss()\n",
    "optimizer = optim.Adam(model.parameters(), lr=0.001, weight_decay=1e-5)\n",
    "scheduler = optim.lr_scheduler.ExponentialLR(optimizer, gamma=0.95)\n",
    "\n",
    "for epoch in range(1, NUM_EPOCHS + 1):\n",
    "    train_loss, train_r2, _ = train_one_epoch(model, train_loader, optimizer, criterion, device)\n",
    "    scheduler.step()\n",
    "    print(f\"Epoch [{epoch}/{NUM_EPOCHS}] | Train Loss: {train_loss:.4f} | Train R2: {train_r2:.4f}\")"
   ],
   "outputs": [
    {
     "name": "stdout",
     "output_type": "stream",
     "text": [
      "Epoch [1/150] | Train Loss: 4292.4388 | Train R2: -88.0844\n",
      "Epoch [2/150] | Train Loss: 3796.4183 | Train R2: -77.7901\n",
      "Epoch [3/150] | Train Loss: 2947.7479 | Train R2: -60.1770\n",
      "Epoch [4/150] | Train Loss: 1987.3205 | Train R2: -40.2445\n",
      "Epoch [5/150] | Train Loss: 1154.9581 | Train R2: -22.9698\n",
      "Epoch [6/150] | Train Loss: 575.3956 | Train R2: -10.9416\n",
      "Epoch [7/150] | Train Loss: 246.1864 | Train R2: -4.1093\n",
      "Epoch [8/150] | Train Loss: 92.3353 | Train R2: -0.9163\n",
      "Epoch [9/150] | Train Loss: 32.2863 | Train R2: 0.3299\n",
      "Epoch [10/150] | Train Loss: 11.9992 | Train R2: 0.7510\n",
      "Epoch [11/150] | Train Loss: 5.9917 | Train R2: 0.8757\n",
      "Epoch [12/150] | Train Loss: 4.1924 | Train R2: 0.9130\n",
      "Epoch [13/150] | Train Loss: 3.7781 | Train R2: 0.9216\n",
      "Epoch [14/150] | Train Loss: 3.5447 | Train R2: 0.9264\n",
      "Epoch [15/150] | Train Loss: 3.5307 | Train R2: 0.9267\n",
      "Epoch [16/150] | Train Loss: 3.4243 | Train R2: 0.9289\n",
      "Epoch [17/150] | Train Loss: 3.3143 | Train R2: 0.9312\n",
      "Epoch [18/150] | Train Loss: 3.3113 | Train R2: 0.9313\n",
      "Epoch [19/150] | Train Loss: 3.3157 | Train R2: 0.9312\n",
      "Epoch [20/150] | Train Loss: 3.2693 | Train R2: 0.9322\n",
      "Epoch [21/150] | Train Loss: 3.2582 | Train R2: 0.9324\n",
      "Epoch [22/150] | Train Loss: 3.1907 | Train R2: 0.9338\n",
      "Epoch [23/150] | Train Loss: 3.1823 | Train R2: 0.9340\n",
      "Epoch [24/150] | Train Loss: 3.1813 | Train R2: 0.9340\n",
      "Epoch [25/150] | Train Loss: 3.1355 | Train R2: 0.9349\n",
      "Epoch [26/150] | Train Loss: 3.0731 | Train R2: 0.9362\n",
      "Epoch [27/150] | Train Loss: 3.0120 | Train R2: 0.9375\n",
      "Epoch [28/150] | Train Loss: 3.1206 | Train R2: 0.9352\n",
      "Epoch [29/150] | Train Loss: 3.0402 | Train R2: 0.9369\n",
      "Epoch [30/150] | Train Loss: 3.0492 | Train R2: 0.9367\n",
      "Epoch [31/150] | Train Loss: 2.9960 | Train R2: 0.9378\n",
      "Epoch [32/150] | Train Loss: 2.9705 | Train R2: 0.9384\n",
      "Epoch [33/150] | Train Loss: 3.0032 | Train R2: 0.9377\n",
      "Epoch [34/150] | Train Loss: 2.9288 | Train R2: 0.9392\n",
      "Epoch [35/150] | Train Loss: 2.8692 | Train R2: 0.9405\n",
      "Epoch [36/150] | Train Loss: 2.9473 | Train R2: 0.9388\n",
      "Epoch [37/150] | Train Loss: 2.9260 | Train R2: 0.9393\n",
      "Epoch [38/150] | Train Loss: 2.8881 | Train R2: 0.9401\n",
      "Epoch [39/150] | Train Loss: 2.8433 | Train R2: 0.9410\n",
      "Epoch [40/150] | Train Loss: 2.8271 | Train R2: 0.9413\n",
      "Epoch [41/150] | Train Loss: 2.8668 | Train R2: 0.9405\n",
      "Epoch [42/150] | Train Loss: 2.7479 | Train R2: 0.9430\n",
      "Epoch [43/150] | Train Loss: 2.8250 | Train R2: 0.9414\n",
      "Epoch [44/150] | Train Loss: 2.8284 | Train R2: 0.9413\n",
      "Epoch [45/150] | Train Loss: 2.9211 | Train R2: 0.9394\n",
      "Epoch [46/150] | Train Loss: 2.7131 | Train R2: 0.9437\n",
      "Epoch [47/150] | Train Loss: 2.7688 | Train R2: 0.9425\n",
      "Epoch [48/150] | Train Loss: 2.8202 | Train R2: 0.9415\n",
      "Epoch [49/150] | Train Loss: 2.9335 | Train R2: 0.9391\n",
      "Epoch [50/150] | Train Loss: 2.7584 | Train R2: 0.9428\n",
      "Epoch [51/150] | Train Loss: 2.8024 | Train R2: 0.9418\n",
      "Epoch [52/150] | Train Loss: 2.7313 | Train R2: 0.9433\n",
      "Epoch [53/150] | Train Loss: 2.7727 | Train R2: 0.9425\n",
      "Epoch [54/150] | Train Loss: 2.8321 | Train R2: 0.9412\n",
      "Epoch [55/150] | Train Loss: 2.6861 | Train R2: 0.9443\n",
      "Epoch [56/150] | Train Loss: 2.7740 | Train R2: 0.9424\n",
      "Epoch [57/150] | Train Loss: 2.6925 | Train R2: 0.9441\n",
      "Epoch [58/150] | Train Loss: 2.7266 | Train R2: 0.9434\n",
      "Epoch [59/150] | Train Loss: 2.6654 | Train R2: 0.9447\n",
      "Epoch [60/150] | Train Loss: 2.7687 | Train R2: 0.9425\n",
      "Epoch [61/150] | Train Loss: 2.6810 | Train R2: 0.9444\n",
      "Epoch [62/150] | Train Loss: 2.6680 | Train R2: 0.9446\n",
      "Epoch [63/150] | Train Loss: 2.6837 | Train R2: 0.9443\n",
      "Epoch [64/150] | Train Loss: 2.7036 | Train R2: 0.9439\n",
      "Epoch [65/150] | Train Loss: 2.6501 | Train R2: 0.9450\n",
      "Epoch [66/150] | Train Loss: 2.6314 | Train R2: 0.9454\n",
      "Epoch [67/150] | Train Loss: 2.6533 | Train R2: 0.9449\n",
      "Epoch [68/150] | Train Loss: 2.5703 | Train R2: 0.9467\n",
      "Epoch [69/150] | Train Loss: 2.7002 | Train R2: 0.9440\n",
      "Epoch [70/150] | Train Loss: 2.6136 | Train R2: 0.9458\n",
      "Epoch [71/150] | Train Loss: 2.6656 | Train R2: 0.9447\n",
      "Epoch [72/150] | Train Loss: 2.6486 | Train R2: 0.9450\n",
      "Epoch [73/150] | Train Loss: 2.6114 | Train R2: 0.9458\n",
      "Epoch [74/150] | Train Loss: 2.5890 | Train R2: 0.9463\n",
      "Epoch [75/150] | Train Loss: 2.6330 | Train R2: 0.9454\n",
      "Epoch [76/150] | Train Loss: 2.6059 | Train R2: 0.9459\n",
      "Epoch [77/150] | Train Loss: 2.6427 | Train R2: 0.9452\n",
      "Epoch [78/150] | Train Loss: 2.5925 | Train R2: 0.9462\n",
      "Epoch [79/150] | Train Loss: 2.6276 | Train R2: 0.9455\n",
      "Epoch [80/150] | Train Loss: 2.6158 | Train R2: 0.9457\n",
      "Epoch [81/150] | Train Loss: 2.6834 | Train R2: 0.9443\n",
      "Epoch [82/150] | Train Loss: 2.6349 | Train R2: 0.9453\n",
      "Epoch [83/150] | Train Loss: 2.6650 | Train R2: 0.9447\n",
      "Epoch [84/150] | Train Loss: 2.6989 | Train R2: 0.9440\n",
      "Epoch [85/150] | Train Loss: 2.5697 | Train R2: 0.9467\n",
      "Epoch [86/150] | Train Loss: 2.6795 | Train R2: 0.9444\n",
      "Epoch [87/150] | Train Loss: 2.6376 | Train R2: 0.9453\n",
      "Epoch [88/150] | Train Loss: 2.6178 | Train R2: 0.9457\n",
      "Epoch [89/150] | Train Loss: 2.5824 | Train R2: 0.9464\n",
      "Epoch [90/150] | Train Loss: 2.6414 | Train R2: 0.9452\n",
      "Epoch [91/150] | Train Loss: 2.6792 | Train R2: 0.9444\n",
      "Epoch [92/150] | Train Loss: 2.5768 | Train R2: 0.9465\n",
      "Epoch [93/150] | Train Loss: 2.6624 | Train R2: 0.9447\n",
      "Epoch [94/150] | Train Loss: 2.6643 | Train R2: 0.9447\n",
      "Epoch [95/150] | Train Loss: 2.5953 | Train R2: 0.9461\n",
      "Epoch [96/150] | Train Loss: 2.6452 | Train R2: 0.9451\n",
      "Epoch [97/150] | Train Loss: 2.5685 | Train R2: 0.9467\n",
      "Epoch [98/150] | Train Loss: 2.6443 | Train R2: 0.9451\n",
      "Epoch [99/150] | Train Loss: 2.6561 | Train R2: 0.9449\n",
      "Epoch [100/150] | Train Loss: 2.6083 | Train R2: 0.9459\n",
      "Epoch [101/150] | Train Loss: 2.5901 | Train R2: 0.9462\n",
      "Epoch [102/150] | Train Loss: 2.5872 | Train R2: 0.9463\n",
      "Epoch [103/150] | Train Loss: 2.5982 | Train R2: 0.9461\n",
      "Epoch [104/150] | Train Loss: 2.5963 | Train R2: 0.9461\n",
      "Epoch [105/150] | Train Loss: 2.6349 | Train R2: 0.9453\n",
      "Epoch [106/150] | Train Loss: 2.6431 | Train R2: 0.9451\n",
      "Epoch [107/150] | Train Loss: 2.6304 | Train R2: 0.9454\n",
      "Epoch [108/150] | Train Loss: 2.5570 | Train R2: 0.9469\n",
      "Epoch [109/150] | Train Loss: 2.5550 | Train R2: 0.9470\n",
      "Epoch [110/150] | Train Loss: 2.6410 | Train R2: 0.9452\n",
      "Epoch [111/150] | Train Loss: 2.6452 | Train R2: 0.9451\n",
      "Epoch [112/150] | Train Loss: 2.6273 | Train R2: 0.9455\n",
      "Epoch [113/150] | Train Loss: 2.5660 | Train R2: 0.9467\n",
      "Epoch [114/150] | Train Loss: 2.5631 | Train R2: 0.9468\n",
      "Epoch [115/150] | Train Loss: 2.6115 | Train R2: 0.9458\n",
      "Epoch [116/150] | Train Loss: 2.6095 | Train R2: 0.9458\n",
      "Epoch [117/150] | Train Loss: 2.5550 | Train R2: 0.9470\n",
      "Epoch [118/150] | Train Loss: 2.5969 | Train R2: 0.9461\n",
      "Epoch [119/150] | Train Loss: 2.5696 | Train R2: 0.9467\n",
      "Epoch [120/150] | Train Loss: 2.5311 | Train R2: 0.9475\n",
      "Epoch [121/150] | Train Loss: 2.6800 | Train R2: 0.9444\n",
      "Epoch [122/150] | Train Loss: 2.5759 | Train R2: 0.9465\n",
      "Epoch [123/150] | Train Loss: 2.5862 | Train R2: 0.9463\n",
      "Epoch [124/150] | Train Loss: 2.5960 | Train R2: 0.9461\n",
      "Epoch [125/150] | Train Loss: 2.5994 | Train R2: 0.9461\n",
      "Epoch [126/150] | Train Loss: 2.5775 | Train R2: 0.9465\n",
      "Epoch [127/150] | Train Loss: 2.6006 | Train R2: 0.9460\n",
      "Epoch [128/150] | Train Loss: 2.6547 | Train R2: 0.9449\n",
      "Epoch [129/150] | Train Loss: 2.5733 | Train R2: 0.9466\n",
      "Epoch [130/150] | Train Loss: 2.5837 | Train R2: 0.9464\n",
      "Epoch [131/150] | Train Loss: 2.5939 | Train R2: 0.9462\n",
      "Epoch [132/150] | Train Loss: 2.6648 | Train R2: 0.9447\n",
      "Epoch [133/150] | Train Loss: 2.5740 | Train R2: 0.9466\n",
      "Epoch [134/150] | Train Loss: 2.5844 | Train R2: 0.9464\n",
      "Epoch [135/150] | Train Loss: 2.5646 | Train R2: 0.9468\n",
      "Epoch [136/150] | Train Loss: 2.6166 | Train R2: 0.9457\n",
      "Epoch [137/150] | Train Loss: 2.5455 | Train R2: 0.9472\n",
      "Epoch [138/150] | Train Loss: 2.5982 | Train R2: 0.9461\n",
      "Epoch [139/150] | Train Loss: 2.5881 | Train R2: 0.9463\n",
      "Epoch [140/150] | Train Loss: 2.6049 | Train R2: 0.9459\n",
      "Epoch [141/150] | Train Loss: 2.6399 | Train R2: 0.9452\n",
      "Epoch [142/150] | Train Loss: 2.5954 | Train R2: 0.9461\n",
      "Epoch [143/150] | Train Loss: 2.6489 | Train R2: 0.9450\n",
      "Epoch [144/150] | Train Loss: 2.5875 | Train R2: 0.9463\n",
      "Epoch [145/150] | Train Loss: 2.5229 | Train R2: 0.9476\n",
      "Epoch [146/150] | Train Loss: 2.5943 | Train R2: 0.9462\n",
      "Epoch [147/150] | Train Loss: 2.5465 | Train R2: 0.9472\n",
      "Epoch [148/150] | Train Loss: 2.5708 | Train R2: 0.9466\n",
      "Epoch [149/150] | Train Loss: 2.5159 | Train R2: 0.9478\n",
      "Epoch [150/150] | Train Loss: 2.5733 | Train R2: 0.9466\n"
     ]
    }
   ],
   "execution_count": 16
  },
  {
   "cell_type": "code",
   "metadata": {
    "ExecuteTime": {
     "end_time": "2024-12-28T19:20:12.044450Z",
     "start_time": "2024-12-28T19:20:11.985018Z"
    }
   },
   "source": [
    "eval_results = evaluate(model, test_loader, criterion, device)\n",
    "print(\"Test Set\")\n",
    "print(f\"Loss: {eval_results[0]:.4f} | R²: {eval_results[1]:.4f} | MAE: {eval_results[2]:.4f}\")"
   ],
   "outputs": [
    {
     "name": "stdout",
     "output_type": "stream",
     "text": [
      "Test Set\n",
      "Loss: 3.0278 | R²: 0.9382 | MAE: 0.9825\n"
     ]
    }
   ],
   "execution_count": 17
  },
  {
   "cell_type": "code",
   "metadata": {
    "jupyter": {
     "is_executing": true
    }
   },
   "source": [
    "# model_path = \"mlp_regressor.pth\"\n",
    "# torch.save(model.state_dict(), model_path)\n",
    "# print(f\"Model parameters saved to {model_path}\")"
   ],
   "outputs": [],
   "execution_count": null
  }
 ],
 "metadata": {
  "kernelspec": {
   "display_name": "Python 3",
   "language": "python",
   "name": "python3"
  },
  "language_info": {
   "codemirror_mode": {
    "name": "ipython",
    "version": 3
   },
   "file_extension": ".py",
   "mimetype": "text/x-python",
   "name": "python",
   "nbconvert_exporter": "python",
   "pygments_lexer": "ipython3",
   "version": "3.12.6"
  }
 },
 "nbformat": 4,
 "nbformat_minor": 2
}
