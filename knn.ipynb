{
 "cells": [
  {
   "cell_type": "code",
   "execution_count": 13,
   "metadata": {},
   "outputs": [],
   "source": [
    "import numpy as np\n",
    "import pandas as pd\n",
    "import matplotlib.pyplot as plt"
   ]
  },
  {
   "cell_type": "code",
   "execution_count": 14,
   "metadata": {},
   "outputs": [],
   "source": [
    "df = pd.read_csv('data.csv')"
   ]
  },
  {
   "cell_type": "code",
   "execution_count": 15,
   "metadata": {},
   "outputs": [],
   "source": [
    "X = df.drop('overall_rating', axis=1)\n",
    "y = df['overall_rating']"
   ]
  },
  {
   "cell_type": "code",
   "execution_count": 16,
   "metadata": {},
   "outputs": [],
   "source": [
    "from sklearn.model_selection import train_test_split\n",
    "X_train, X_test, y_train, y_test = train_test_split(X, y, test_size=1/3, random_state=42)"
   ]
  },
  {
   "cell_type": "code",
   "execution_count": 17,
   "metadata": {},
   "outputs": [
    {
     "data": {
      "text/plain": [
       "[<matplotlib.lines.Line2D at 0x237ce419b90>]"
      ]
     },
     "execution_count": 17,
     "metadata": {},
     "output_type": "execute_result"
    },
    {
     "data": {
      "image/png": "[encoded data removed]",
      "text/plain": [
       "<Figure size 640x480 with 1 Axes>"
      ]
     },
     "metadata": {},
     "output_type": "display_data"
    }
   ],
   "source": [
    "from sklearn.neighbors import KNeighborsRegressor\n",
    "from sklearn.metrics import mean_squared_error, mean_absolute_error, r2_score\n",
    "\n",
    "losses = []\n",
    "k_values = list(range(1, 50))\n",
    "\n",
    "for k in range(1, 50):\n",
    "    knn = KNeighborsRegressor(n_neighbors=k , metric= 'euclidean' , n_jobs=-1)\n",
    "    knn.fit(X_train, y_train)\n",
    "    y_pred = knn.predict(X_test)\n",
    "    losses.append(mean_squared_error(y_test, y_pred))\n",
    "\n",
    "plt.plot(k_values, losses)"
   ]
  },
  {
   "cell_type": "code",
   "execution_count": 18,
   "metadata": {},
   "outputs": [
    {
     "name": "stdout",
     "output_type": "stream",
     "text": [
      "Best k: 11\n"
     ]
    }
   ],
   "source": [
    "k = k_values[np.argmin(losses)]\n",
    "print(f'Best k: {k}')"
   ]
  },
  {
   "cell_type": "code",
   "execution_count": 19,
   "metadata": {},
   "outputs": [
    {
     "name": "stdout",
     "output_type": "stream",
     "text": [
      "Train Set:\n",
      "MSE: 4.657543636656428\n",
      "MAE: 1.5013403809902715\n",
      "R2: 0.9025542220799434\n",
      "\n",
      "Test Set:\n",
      "MSE: 5.126708560151132\n",
      "MAE: 1.5932485934569702\n",
      "R2: 0.895335933125192\n",
      "\n",
      "Data Set:\n",
      "MSE: 4.814183347532257\n",
      "MAE: 1.5320101543358005\n",
      "R2: 0.9001082276336243\n"
     ]
    }
   ],
   "source": [
    "knn = KNeighborsRegressor(n_neighbors=k)\n",
    "knn.fit(X_train, y_train)\n",
    "\n",
    "y_train_pred = knn.predict(X_train)\n",
    "\n",
    "y_pred = knn.predict(X_test)\n",
    "\n",
    "y_data = knn.predict(X)\n",
    "\n",
    "print('Train Set:')\n",
    "print(f'MSE: {mean_squared_error(y_train, y_train_pred)}')\n",
    "print(f'MAE: {mean_absolute_error(y_train, y_train_pred)}')\n",
    "print(f'R2: {r2_score(y_train, y_train_pred)}')\n",
    "\n",
    "print()\n",
    "\n",
    "print('Test Set:')\n",
    "print(f'MSE: {mean_squared_error(y_test, y_pred)}')\n",
    "print(f'MAE: {mean_absolute_error(y_test, y_pred)}')\n",
    "print(f'R2: {r2_score(y_test, y_pred)}')\n",
    "\n",
    "print()\n",
    "\n",
    "print('Data Set:')\n",
    "print(f'MSE: {mean_squared_error(y, y_data)}')\n",
    "print(f'MAE: {mean_absolute_error(y, y_data)}')\n",
    "print(f'R2: {r2_score(y, y_data)}')"
   ]
  }
 ],
 "metadata": {
  "kernelspec": {
   "display_name": "Python 3",
   "language": "python",
   "name": "python3"
  },
  "language_info": {
   "codemirror_mode": {
    "name": "ipython",
    "version": 3
   },
   "file_extension": ".py",
   "mimetype": "text/x-python",
   "name": "python",
   "nbconvert_exporter": "python",
   "pygments_lexer": "ipython3",
   "version": "3.11.9"
  }
 },
 "nbformat": 4,
 "nbformat_minor": 2
}
