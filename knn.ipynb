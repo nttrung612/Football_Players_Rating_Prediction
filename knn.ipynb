{
 "cells": [
  {
   "cell_type": "code",
   "execution_count": 251,
   "metadata": {},
   "outputs": [],
   "source": [
    "import numpy as np\n",
    "import pandas as pd\n",
    "import matplotlib.pyplot as plt\n",
    "import optuna"
   ]
  },
  {
   "cell_type": "code",
   "execution_count": 252,
   "metadata": {},
   "outputs": [],
   "source": [
    "df = pd.read_csv('data.csv')"
   ]
  },
  {
   "cell_type": "code",
   "execution_count": 253,
   "metadata": {},
   "outputs": [],
   "source": [
    "X = df.drop('overall_rating', axis=1)\n",
    "y = df['overall_rating']"
   ]
  },
  {
   "cell_type": "code",
   "execution_count": 254,
   "metadata": {},
   "outputs": [
    {
     "name": "stdout",
     "output_type": "stream",
     "text": [
      "Index(['height_cm'], dtype='object')\n"
     ]
    }
   ],
   "source": [
    "columns_with_large_values = X.select_dtypes(exclude='object').columns[(X.select_dtypes(exclude='object') > 100).any()]\n",
    "print(columns_with_large_values)"
   ]
  },
  {
   "cell_type": "code",
   "execution_count": 255,
   "metadata": {},
   "outputs": [],
   "source": [
    "from sklearn.preprocessing import StandardScaler\n",
    "scaler = StandardScaler()\n",
    "X['height_cm'] = scaler.fit_transform(X['height_cm'].values.reshape(-1, 1))"
   ]
  },
  {
   "cell_type": "code",
   "execution_count": 256,
   "metadata": {},
   "outputs": [],
   "source": [
    "from sklearn.model_selection import train_test_split\n",
    "X_train, X_test, y_train, y_test = train_test_split(X, y, test_size=1/3, random_state=42)"
   ]
  },
  {
   "cell_type": "code",
   "execution_count": 257,
   "metadata": {},
   "outputs": [],
   "source": [
    "from sklearn.metrics import mean_squared_error, mean_absolute_error, r2_score\n",
    "\n",
    "def evaluate_model(model, X, y):\n",
    "    y_pred = model.predict(X)\n",
    "    mse = mean_squared_error(y, y_pred)\n",
    "    mae = mean_absolute_error(y, y_pred)\n",
    "    r2 = r2_score(y, y_pred)\n",
    "    return mse, mae, r2\n",
    "\n",
    "def print_metrics(mse, mae, r2):\n",
    "    print(f'MSE: {mse:.3f}')\n",
    "    print(f'MAE: {mae:.3f}')\n",
    "    print(f'R2: {r2:.3f}')"
   ]
  },
  {
   "cell_type": "code",
   "execution_count": 258,
   "metadata": {},
   "outputs": [
    {
     "data": {
      "text/html": [
       "<style>#sk-container-id-5 {color: black;}#sk-container-id-5 pre{padding: 0;}#sk-container-id-5 div.sk-toggleable {background-color: white;}#sk-container-id-5 label.sk-toggleable__label {cursor: pointer;display: block;width: 100%;margin-bottom: 0;padding: 0.3em;box-sizing: border-box;text-align: center;}#sk-container-id-5 label.sk-toggleable__label-arrow:before {content: \"▸\";float: left;margin-right: 0.25em;color: #696969;}#sk-container-id-5 label.sk-toggleable__label-arrow:hover:before {color: black;}#sk-container-id-5 div.sk-estimator:hover label.sk-toggleable__label-arrow:before {color: black;}#sk-container-id-5 div.sk-toggleable__content {max-height: 0;max-width: 0;overflow: hidden;text-align: left;background-color: #f0f8ff;}#sk-container-id-5 div.sk-toggleable__content pre {margin: 0.2em;color: black;border-radius: 0.25em;background-color: #f0f8ff;}#sk-container-id-5 input.sk-toggleable__control:checked~div.sk-toggleable__content {max-height: 200px;max-width: 100%;overflow: auto;}#sk-container-id-5 input.sk-toggleable__control:checked~label.sk-toggleable__label-arrow:before {content: \"▾\";}#sk-container-id-5 div.sk-estimator input.sk-toggleable__control:checked~label.sk-toggleable__label {background-color: #d4ebff;}#sk-container-id-5 div.sk-label input.sk-toggleable__control:checked~label.sk-toggleable__label {background-color: #d4ebff;}#sk-container-id-5 input.sk-hidden--visually {border: 0;clip: rect(1px 1px 1px 1px);clip: rect(1px, 1px, 1px, 1px);height: 1px;margin: -1px;overflow: hidden;padding: 0;position: absolute;width: 1px;}#sk-container-id-5 div.sk-estimator {font-family: monospace;background-color: #f0f8ff;border: 1px dotted black;border-radius: 0.25em;box-sizing: border-box;margin-bottom: 0.5em;}#sk-container-id-5 div.sk-estimator:hover {background-color: #d4ebff;}#sk-container-id-5 div.sk-parallel-item::after {content: \"\";width: 100%;border-bottom: 1px solid gray;flex-grow: 1;}#sk-container-id-5 div.sk-label:hover label.sk-toggleable__label {background-color: #d4ebff;}#sk-container-id-5 div.sk-serial::before {content: \"\";position: absolute;border-left: 1px solid gray;box-sizing: border-box;top: 0;bottom: 0;left: 50%;z-index: 0;}#sk-container-id-5 div.sk-serial {display: flex;flex-direction: column;align-items: center;background-color: white;padding-right: 0.2em;padding-left: 0.2em;position: relative;}#sk-container-id-5 div.sk-item {position: relative;z-index: 1;}#sk-container-id-5 div.sk-parallel {display: flex;align-items: stretch;justify-content: center;background-color: white;position: relative;}#sk-container-id-5 div.sk-item::before, #sk-container-id-5 div.sk-parallel-item::before {content: \"\";position: absolute;border-left: 1px solid gray;box-sizing: border-box;top: 0;bottom: 0;left: 50%;z-index: -1;}#sk-container-id-5 div.sk-parallel-item {display: flex;flex-direction: column;z-index: 1;position: relative;background-color: white;}#sk-container-id-5 div.sk-parallel-item:first-child::after {align-self: flex-end;width: 50%;}#sk-container-id-5 div.sk-parallel-item:last-child::after {align-self: flex-start;width: 50%;}#sk-container-id-5 div.sk-parallel-item:only-child::after {width: 0;}#sk-container-id-5 div.sk-dashed-wrapped {border: 1px dashed gray;margin: 0 0.4em 0.5em 0.4em;box-sizing: border-box;padding-bottom: 0.4em;background-color: white;}#sk-container-id-5 div.sk-label label {font-family: monospace;font-weight: bold;display: inline-block;line-height: 1.2em;}#sk-container-id-5 div.sk-label-container {text-align: center;}#sk-container-id-5 div.sk-container {/* jupyter's `normalize.less` sets `[hidden] { display: none; }` but bootstrap.min.css set `[hidden] { display: none !important; }` so we also need the `!important` here to be able to override the default hidden behavior on the sphinx rendered scikit-learn.org. See: https://github.com/scikit-learn/scikit-learn/issues/21755 */display: inline-block !important;position: relative;}#sk-container-id-5 div.sk-text-repr-fallback {display: none;}</style><div id=\"sk-container-id-5\" class=\"sk-top-container\"><div class=\"sk-text-repr-fallback\"><pre>Pipeline(steps=[(&#x27;preprocessor&#x27;,\n",
       "                 Pipeline(steps=[(&#x27;te&#x27;, TargetEncoder(cols=[&#x27;nationality&#x27;]))])),\n",
       "                (&#x27;model&#x27;, KNeighborsRegressor())])</pre><b>In a Jupyter environment, please rerun this cell to show the HTML representation or trust the notebook. <br />On GitHub, the HTML representation is unable to render, please try loading this page with nbviewer.org.</b></div><div class=\"sk-container\" hidden><div class=\"sk-item sk-dashed-wrapped\"><div class=\"sk-label-container\"><div class=\"sk-label sk-toggleable\"><input class=\"sk-toggleable__control sk-hidden--visually\" id=\"sk-estimator-id-17\" type=\"checkbox\" ><label for=\"sk-estimator-id-17\" class=\"sk-toggleable__label sk-toggleable__label-arrow\">Pipeline</label><div class=\"sk-toggleable__content\"><pre>Pipeline(steps=[(&#x27;preprocessor&#x27;,\n",
       "                 Pipeline(steps=[(&#x27;te&#x27;, TargetEncoder(cols=[&#x27;nationality&#x27;]))])),\n",
       "                (&#x27;model&#x27;, KNeighborsRegressor())])</pre></div></div></div><div class=\"sk-serial\"><div class=\"sk-item\"><div class=\"sk-label-container\"><div class=\"sk-label sk-toggleable\"><input class=\"sk-toggleable__control sk-hidden--visually\" id=\"sk-estimator-id-18\" type=\"checkbox\" ><label for=\"sk-estimator-id-18\" class=\"sk-toggleable__label sk-toggleable__label-arrow\">preprocessor: Pipeline</label><div class=\"sk-toggleable__content\"><pre>Pipeline(steps=[(&#x27;te&#x27;, TargetEncoder(cols=[&#x27;nationality&#x27;]))])</pre></div></div></div><div class=\"sk-serial\"><div class=\"sk-item\"><div class=\"sk-estimator sk-toggleable\"><input class=\"sk-toggleable__control sk-hidden--visually\" id=\"sk-estimator-id-19\" type=\"checkbox\" ><label for=\"sk-estimator-id-19\" class=\"sk-toggleable__label sk-toggleable__label-arrow\">TargetEncoder</label><div class=\"sk-toggleable__content\"><pre>TargetEncoder(cols=[&#x27;nationality&#x27;])</pre></div></div></div></div></div><div class=\"sk-item\"><div class=\"sk-estimator sk-toggleable\"><input class=\"sk-toggleable__control sk-hidden--visually\" id=\"sk-estimator-id-20\" type=\"checkbox\" ><label for=\"sk-estimator-id-20\" class=\"sk-toggleable__label sk-toggleable__label-arrow\">KNeighborsRegressor</label><div class=\"sk-toggleable__content\"><pre>KNeighborsRegressor()</pre></div></div></div></div></div></div></div>"
      ],
      "text/plain": [
       "Pipeline(steps=[('preprocessor',\n",
       "                 Pipeline(steps=[('te', TargetEncoder(cols=['nationality']))])),\n",
       "                ('model', KNeighborsRegressor())])"
      ]
     },
     "execution_count": 258,
     "metadata": {},
     "output_type": "execute_result"
    }
   ],
   "source": [
    "from sklearn.pipeline import Pipeline\n",
    "from category_encoders import TargetEncoder\n",
    "from sklearn.neighbors import KNeighborsRegressor\n",
    "from sklearn.preprocessing import StandardScaler\n",
    "preprocessor = Pipeline([\n",
    "    ('te', TargetEncoder(cols=['nationality']))\n",
    "])\n",
    "knn = KNeighborsRegressor(n_neighbors=5)\n",
    "pipeline = Pipeline([\n",
    "    ('preprocessor', preprocessor),\n",
    "    ('model', knn)\n",
    "])\n",
    "pipeline.fit(X_train, y_train)\n"
   ]
  },
  {
   "cell_type": "code",
   "execution_count": 259,
   "metadata": {},
   "outputs": [
    {
     "name": "stderr",
     "output_type": "stream",
     "text": [
      "[I 2024-12-24 01:49:28,485] A new study created in memory with name: no-name-4c07d1a0-fa22-4b58-b044-3e49f7b66ef9\n",
      "[I 2024-12-24 01:49:29,198] Trial 0 finished with value: 0.8881259010499969 and parameters: {'n_neighbors': 15, 'p': 1, 'weights': 'distance'}. Best is trial 0 with value: 0.8881259010499969.\n",
      "[I 2024-12-24 01:49:29,860] Trial 1 finished with value: 0.8858361963698501 and parameters: {'n_neighbors': 9, 'p': 1, 'weights': 'uniform'}. Best is trial 0 with value: 0.8881259010499969.\n",
      "[I 2024-12-24 01:49:30,550] Trial 2 finished with value: 0.8848807467304546 and parameters: {'n_neighbors': 8, 'p': 1, 'weights': 'uniform'}. Best is trial 0 with value: 0.8881259010499969.\n",
      "[I 2024-12-24 01:49:30,977] Trial 3 finished with value: 0.8671759227725673 and parameters: {'n_neighbors': 23, 'p': 2, 'weights': 'uniform'}. Best is trial 0 with value: 0.8881259010499969.\n",
      "[I 2024-12-24 01:49:31,692] Trial 4 finished with value: 0.8866672019712519 and parameters: {'n_neighbors': 16, 'p': 1, 'weights': 'uniform'}. Best is trial 0 with value: 0.8881259010499969.\n",
      "[I 2024-12-24 01:49:32,137] Trial 5 finished with value: 0.8648433847502451 and parameters: {'n_neighbors': 28, 'p': 2, 'weights': 'uniform'}. Best is trial 0 with value: 0.8881259010499969.\n",
      "[I 2024-12-24 01:49:32,586] Trial 6 finished with value: 0.8658153304667392 and parameters: {'n_neighbors': 29, 'p': 2, 'weights': 'distance'}. Best is trial 0 with value: 0.8881259010499969.\n",
      "[I 2024-12-24 01:49:33,344] Trial 7 finished with value: 0.8864717576265206 and parameters: {'n_neighbors': 18, 'p': 1, 'weights': 'uniform'}. Best is trial 0 with value: 0.8881259010499969.\n",
      "[I 2024-12-24 01:49:34,131] Trial 8 finished with value: 0.8846664659219317 and parameters: {'n_neighbors': 28, 'p': 1, 'weights': 'distance'}. Best is trial 0 with value: 0.8881259010499969.\n",
      "[I 2024-12-24 01:49:34,856] Trial 9 finished with value: 0.8879441510119822 and parameters: {'n_neighbors': 12, 'p': 1, 'weights': 'distance'}. Best is trial 0 with value: 0.8881259010499969.\n",
      "[I 2024-12-24 01:49:35,245] Trial 10 finished with value: 0.7519717298127215 and parameters: {'n_neighbors': 1, 'p': 2, 'weights': 'distance'}. Best is trial 0 with value: 0.8881259010499969.\n",
      "[I 2024-12-24 01:49:36,015] Trial 11 finished with value: 0.8879114872466939 and parameters: {'n_neighbors': 10, 'p': 1, 'weights': 'distance'}. Best is trial 0 with value: 0.8881259010499969.\n",
      "[I 2024-12-24 01:49:36,727] Trial 12 finished with value: 0.8880452320375977 and parameters: {'n_neighbors': 13, 'p': 1, 'weights': 'distance'}. Best is trial 0 with value: 0.8881259010499969.\n",
      "[I 2024-12-24 01:49:37,479] Trial 13 finished with value: 0.8871243477504024 and parameters: {'n_neighbors': 20, 'p': 1, 'weights': 'distance'}. Best is trial 0 with value: 0.8881259010499969.\n",
      "[I 2024-12-24 01:49:38,187] Trial 14 finished with value: 0.8721356645065432 and parameters: {'n_neighbors': 4, 'p': 1, 'weights': 'distance'}. Best is trial 0 with value: 0.8881259010499969.\n",
      "[I 2024-12-24 01:49:38,940] Trial 15 finished with value: 0.8881505959180591 and parameters: {'n_neighbors': 14, 'p': 1, 'weights': 'distance'}. Best is trial 15 with value: 0.8881505959180591.\n",
      "[I 2024-12-24 01:49:39,720] Trial 16 finished with value: 0.8866969108313658 and parameters: {'n_neighbors': 22, 'p': 1, 'weights': 'distance'}. Best is trial 15 with value: 0.8881505959180591.\n",
      "[I 2024-12-24 01:49:40,141] Trial 17 finished with value: 0.8706387960924069 and parameters: {'n_neighbors': 15, 'p': 2, 'weights': 'distance'}. Best is trial 15 with value: 0.8881505959180591.\n",
      "[I 2024-12-24 01:49:40,862] Trial 18 finished with value: 0.8803087878196802 and parameters: {'n_neighbors': 6, 'p': 1, 'weights': 'distance'}. Best is trial 15 with value: 0.8881505959180591.\n",
      "[I 2024-12-24 01:49:41,634] Trial 19 finished with value: 0.8858804551414723 and parameters: {'n_neighbors': 24, 'p': 1, 'weights': 'distance'}. Best is trial 15 with value: 0.8881505959180591.\n",
      "[I 2024-12-24 01:49:42,061] Trial 20 finished with value: 0.8701388511618573 and parameters: {'n_neighbors': 18, 'p': 2, 'weights': 'distance'}. Best is trial 15 with value: 0.8881505959180591.\n",
      "[I 2024-12-24 01:49:42,797] Trial 21 finished with value: 0.8880452320375977 and parameters: {'n_neighbors': 13, 'p': 1, 'weights': 'distance'}. Best is trial 15 with value: 0.8881505959180591.\n",
      "[I 2024-12-24 01:49:43,510] Trial 22 finished with value: 0.8879441510119822 and parameters: {'n_neighbors': 12, 'p': 1, 'weights': 'distance'}. Best is trial 15 with value: 0.8881505959180591.\n",
      "[I 2024-12-24 01:49:44,279] Trial 23 finished with value: 0.8881259010499969 and parameters: {'n_neighbors': 15, 'p': 1, 'weights': 'distance'}. Best is trial 15 with value: 0.8881505959180591.\n",
      "[I 2024-12-24 01:49:45,040] Trial 24 finished with value: 0.887661688156528 and parameters: {'n_neighbors': 16, 'p': 1, 'weights': 'distance'}. Best is trial 15 with value: 0.8881505959180591.\n",
      "[I 2024-12-24 01:49:45,793] Trial 25 finished with value: 0.8875582765658907 and parameters: {'n_neighbors': 19, 'p': 1, 'weights': 'distance'}. Best is trial 15 with value: 0.8881505959180591.\n",
      "[I 2024-12-24 01:49:46,544] Trial 26 finished with value: 0.8881259010499969 and parameters: {'n_neighbors': 15, 'p': 1, 'weights': 'distance'}. Best is trial 15 with value: 0.8881505959180591.\n",
      "[I 2024-12-24 01:49:47,277] Trial 27 finished with value: 0.8881050260156117 and parameters: {'n_neighbors': 11, 'p': 1, 'weights': 'distance'}. Best is trial 15 with value: 0.8881505959180591.\n",
      "[I 2024-12-24 01:49:48,026] Trial 28 finished with value: 0.8856013185798439 and parameters: {'n_neighbors': 8, 'p': 1, 'weights': 'distance'}. Best is trial 15 with value: 0.8881505959180591.\n",
      "[I 2024-12-24 01:49:48,800] Trial 29 finished with value: 0.8857776332016585 and parameters: {'n_neighbors': 21, 'p': 1, 'weights': 'uniform'}. Best is trial 15 with value: 0.8881505959180591.\n"
     ]
    }
   ],
   "source": [
    "from sklearn.neighbors import KNeighborsRegressor\n",
    "from sklearn.metrics import mean_squared_error, mean_absolute_error, r2_score\n",
    "from sklearn.model_selection import cross_val_score\n",
    "\n",
    "\n",
    "def objective(trial):\n",
    "    n_neighbors = trial.suggest_int('n_neighbors', 1, 30)\n",
    "    p = trial.suggest_int('p', 1, 2) \n",
    "    weights = trial.suggest_categorical('weights', ['uniform', 'distance'])\n",
    "    pipeline.set_params(\n",
    "    model__n_neighbors=n_neighbors,\n",
    "    model__p=p,\n",
    "    model__weights=weights,\n",
    "    model__n_jobs = -1\n",
    "    )\n",
    "    score = cross_val_score(pipeline , X_train, y_train, cv=5, scoring='r2').mean()\n",
    "    return score\n",
    "\n",
    "study = optuna.create_study(direction='maximize')\n",
    "study.optimize(objective, n_trials=30) "
   ]
  },
  {
   "cell_type": "code",
   "execution_count": 260,
   "metadata": {},
   "outputs": [
    {
     "name": "stdout",
     "output_type": "stream",
     "text": [
      "Best parameters: {'n_neighbors': 14, 'p': 1, 'weights': 'distance'}\n",
      "Best R2: 0.8881505959180591\n"
     ]
    }
   ],
   "source": [
    "print(\"Best parameters:\", study.best_params)\n",
    "print(\"Best R2:\", study.best_value)"
   ]
  },
  {
   "cell_type": "code",
   "execution_count": 261,
   "metadata": {},
   "outputs": [
    {
     "name": "stdout",
     "output_type": "stream",
     "text": [
      "Train Set:\n",
      "MSE: 0.0\n",
      "MAE: 0.0\n",
      "R2: 1.0\n",
      "\n",
      "Test Set:\n",
      "MSE: 5.261709474076671\n",
      "MAE: 1.532081045052238\n",
      "R2: 0.8900818038558396\n",
      "\n",
      "Data Set:\n",
      "MSE: 1.7540605931672082\n",
      "MAE: 0.5107431566860317\n",
      "R2: 0.9636955181086035\n"
     ]
    }
   ],
   "source": [
    "pipeline.set_params(\n",
    "    model__n_neighbors=study.best_params['n_neighbors'],\n",
    "    model__p=study.best_params['p'],\n",
    "    model__weights=study.best_params['weights'],\n",
    "    model__n_jobs = -1\n",
    ")\n",
    "pipeline.fit(X_train, y_train)\n",
    "\n",
    "y_train_pred = pipeline.predict(X_train)\n",
    "\n",
    "y_pred = pipeline.predict(X_test)\n",
    "\n",
    "y_data = pipeline.predict(X)\n",
    "\n",
    "print('Train Set:')\n",
    "print(f'MSE: {mean_squared_error(y_train, y_train_pred)}')\n",
    "print(f'MAE: {mean_absolute_error(y_train, y_train_pred)}')\n",
    "print(f'R2: {r2_score(y_train, y_train_pred)}')\n",
    "\n",
    "print()\n",
    "\n",
    "print('Test Set:')\n",
    "print(f'MSE: {mean_squared_error(y_test, y_pred)}')\n",
    "print(f'MAE: {mean_absolute_error(y_test, y_pred)}')\n",
    "print(f'R2: {r2_score(y_test, y_pred)}')\n",
    "\n",
    "print()\n",
    "\n",
    "print('Data Set:')\n",
    "print(f'MSE: {mean_squared_error(y, y_data)}')\n",
    "print(f'MAE: {mean_absolute_error(y, y_data)}')\n",
    "print(f'R2: {r2_score(y, y_data)}')"
   ]
  }
 ],
 "metadata": {
  "kernelspec": {
   "display_name": "Python 3",
   "language": "python",
   "name": "python3"
  },
  "language_info": {
   "codemirror_mode": {
    "name": "ipython",
    "version": 3
   },
   "file_extension": ".py",
   "mimetype": "text/x-python",
   "name": "python",
   "nbconvert_exporter": "python",
   "pygments_lexer": "ipython3",
   "version": "3.11.9"
  }
 },
 "nbformat": 4,
 "nbformat_minor": 2
}
