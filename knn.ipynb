{
 "cells": [
  {
   "cell_type": "code",
   "execution_count": 27,
   "metadata": {
    "ExecuteTime": {
     "end_time": "2024-11-29T12:55:24.756038Z",
     "start_time": "2024-11-29T12:55:24.752421Z"
    }
   },
   "source": [
    "import numpy as np\n",
    "import pandas as pd\n",
    "import seaborn as sns\n",
    "import matplotlib.pyplot as plt"
   ],
   "outputs": []
  },
  {
   "cell_type": "code",
   "execution_count": 28,
   "metadata": {
    "ExecuteTime": {
     "end_time": "2024-11-29T12:55:24.842544Z",
     "start_time": "2024-11-29T12:55:24.756038Z"
    }
   },
   "source": [
    "df = pd.read_csv('data.csv')"
   ],
   "outputs": []
  },
  {
   "cell_type": "code",
   "execution_count": 29,
   "metadata": {
    "ExecuteTime": {
     "end_time": "2024-11-29T12:55:24.853249Z",
     "start_time": "2024-11-29T12:55:24.842544Z"
    }
   },
   "source": [
    "X = df.drop('overall_rating', axis=1)\n",
    "y = df['overall_rating']"
   ],
   "outputs": []
  },
  {
   "cell_type": "code",
   "execution_count": 30,
   "metadata": {
    "ExecuteTime": {
     "end_time": "2024-11-29T12:55:25.540807Z",
     "start_time": "2024-11-29T12:55:24.853249Z"
    }
   },
   "source": [
    "from sklearn.model_selection import train_test_split\n",
    "X_train, X_test, y_train, y_test = train_test_split(X, y, test_size=0.15, random_state=42)\n",
    "# X_train, X_val, y_train, y_val = train_test_split(X_train, y_train, test_size=0.5, random_state=42)"
   ],
   "outputs": []
  },
  {
   "cell_type": "code",
   "execution_count": 31,
   "metadata": {
    "ExecuteTime": {
     "end_time": "2024-11-29T12:55:58.003056Z",
     "start_time": "2024-11-29T12:55:57.989850Z"
    }
   },
   "source": [
    "from sklearn.metrics import mean_squared_error, mean_absolute_error, r2_score\n",
    "\n",
    "def evaluate_model(model, X, y):\n",
    "    y_pred = model.predict(X)\n",
    "    mse = mean_squared_error(y, y_pred)\n",
    "    mae = mean_absolute_error(y, y_pred)\n",
    "    r2 = r2_score(y, y_pred)\n",
    "    return mse, mae, r2\n",
    "\n",
    "def print_metrics(mse, mae, r2):\n",
    "    print(f'MSE: {mse:.3f}')\n",
    "    print(f'MAE: {mae:.3f}')\n",
    "    print(f'R2: {r2:.3f}')"
   ],
   "outputs": []
  },
  {
   "cell_type": "code",
   "execution_count": 32,
   "metadata": {
    "ExecuteTime": {
     "end_time": "2024-11-29T13:00:54.876711Z",
     "start_time": "2024-11-29T13:00:54.721534Z"
    }
   },
   "source": [
    "from sklearn.model_selection import cross_validate\n",
    "from sklearn.metrics import make_scorer\n",
    "from sklearn.metrics import r2_score, mean_absolute_error, mean_squared_error\n",
    "from sklearn.model_selection import KFold\n",
    "\n",
    "def cv_evaluate(model, X, y):\n",
    "    cv = KFold(n_splits=5, shuffle=True, random_state=42)\n",
    "\n",
    "    scoring = {\n",
    "        'r2': make_scorer(r2_score),\n",
    "        'mae': make_scorer(mean_absolute_error),\n",
    "        'mse': make_scorer(mean_squared_error)\n",
    "    }\n",
    "    cv_results = cross_validate(model, X, y, cv=cv, scoring=scoring, return_train_score=False)\n",
    "\n",
    "    for key in cv_results.keys():\n",
    "        if key in ['fit_time', 'score_time']:\n",
    "            continue\n",
    "        print(f\"{key}: {cv_results[key]}\")\n",
    "        print(f\"{key} trung bình: {cv_results[key].mean():.3f} ± {cv_results[key].std():.3f}\")\n",
    "        print()"
   ],
   "outputs": []
  },
  {
   "cell_type": "markdown",
   "metadata": {},
   "source": [
    "## Default KNN"
   ]
  },
  {
   "cell_type": "code",
   "execution_count": 33,
   "metadata": {
    "ExecuteTime": {
     "end_time": "2024-11-29T13:01:03.756347Z",
     "start_time": "2024-11-29T13:01:01.959488Z"
    }
   },
   "source": [
    "from sklearn.pipeline import Pipeline\n",
    "from category_encoders import TargetEncoder\n",
    "from sklearn.preprocessing import StandardScaler\n",
    "from sklearn.neighbors import KNeighborsRegressor\n",
    "\n",
    "preprocessor = Pipeline([\n",
    "    ('te', TargetEncoder(cols=['nationality'])),\n",
    "    ('scaler', StandardScaler())\n",
    "])\n",
    "\n",
    "knn = KNeighborsRegressor(n_neighbors=5)\n",
    "\n",
    "pipeline = Pipeline([\n",
    "    ('preprocessor', preprocessor),\n",
    "    ('model', knn)\n",
    "])\n",
    "pipeline.fit(X_train, y_train)"
   ],
   "outputs": []
  },
  {
   "cell_type": "code",
   "execution_count": 34,
   "metadata": {},
   "source": [
    "print(\"===== Holdout evaluation:=====\")\n",
    "print(\"Trainig set:\")\n",
    "print_metrics(*evaluate_model(pipeline, X_train, y_train))\n",
    "\n",
    "print(\"\\nTest set:\")\n",
    "print_metrics(*evaluate_model(pipeline, X_test, y_test))\n",
    "\n",
    "print(\"\\n===== Cross-validation evaluation:=====\")\n",
    "cv_evaluate(pipeline, X, y)"
   ],
   "outputs": []
  },
  {
   "cell_type": "markdown",
   "metadata": {},
   "source": [
    "## Grid Search CV to find optimal params"
   ]
  },
  {
   "cell_type": "code",
   "execution_count": null,
   "metadata": {},
   "source": [
    "from sklearn.model_selection import GridSearchCV\n",
    "\n",
    "param_grid = {\n",
    "    'model__n_neighbors': np.arange(1, 20, 1),\n",
    "    'model__weights': ['uniform', 'distance'],\n",
    "    'model__p': [1, 2, 3]\n",
    "}\n",
    "\n",
    "cv = KFold(n_splits=5, shuffle=True, random_state=42)\n",
    "\n",
    "grid_search = GridSearchCV(pipeline, param_grid, cv=cv, scoring='neg_mean_squared_error', n_jobs=-1)\n",
    "grid_search.fit(X_train, y_train)"
   ],
   "outputs": []
  },
  {
   "cell_type": "code",
   "execution_count": 36,
   "metadata": {},
   "source": [
    "print(\"Best params:\", grid_search.best_params_)\n",
    "print(\"Best score:\", -grid_search.best_score_)"
   ],
   "outputs": []
  },
  {
   "cell_type": "code",
   "execution_count": 37,
   "metadata": {},
   "source": [
    "best_model = grid_search.best_estimator_\n",
    "print(\"\\n===== Holdout evaluation:=====\")\n",
    "print(\"Trainig set:\")\n",
    "print_metrics(*evaluate_model(best_model, X_train, y_train))\n",
    "\n",
    "print(\"\\nTest set:\")\n",
    "print_metrics(*evaluate_model(best_model, X_test, y_test))\n",
    "\n",
    "print(\"\\n===== Cross-validation evaluation:=====\")\n",
    "cv_evaluate(best_model, X, y)"
   ],
   "outputs": []
  },
  {
   "cell_type": "markdown",
   "metadata": {},
   "source": [
    "## What if using weights='uniform'"
   ]
  },
  {
   "cell_type": "code",
   "execution_count": 38,
   "metadata": {},
   "source": [
    "X_train, X_test, y_train, y_test = train_test_split(X, y, test_size=0.3, random_state=42)\n",
    "X_val, X_test, y_val, y_test = train_test_split(X_test, y_test, test_size=0.5, random_state=42)"
   ],
   "outputs": []
  },
  {
   "cell_type": "code",
   "execution_count": 39,
   "metadata": {
    "ExecuteTime": {
     "end_time": "2024-11-29T13:02:39.439165Z",
     "start_time": "2024-11-29T13:02:08.067283Z"
    }
   },
   "source": [
    "from sklearn.pipeline import Pipeline\n",
    "from sklearn.preprocessing import StandardScaler\n",
    "from sklearn.neighbors import KNeighborsRegressor\n",
    "\n",
    "losses = []\n",
    "min_loss = float('inf')\n",
    "min_k = 0\n",
    "\n",
    "for i in range(1, 51):\n",
    "    pipe = Pipeline([\n",
    "        ('encoder', TargetEncoder(cols=['nationality'])),\n",
    "        ('scaler', StandardScaler()),\n",
    "        ('knn', KNeighborsRegressor(\n",
    "            n_neighbors=i,\n",
    "            p=1,\n",
    "            weights='uniform'\n",
    "        ))\n",
    "    ])\n",
    "    pipe.fit(X_train, y_train)\n",
    "    y_pred = pipe.predict(X_val)\n",
    "    loss = np.mean((y_pred - y_val)**2)\n",
    "    if loss < min_loss:\n",
    "        min_loss = loss\n",
    "        min_k = i\n",
    "    losses.append(loss)\n",
    "\n",
    "plt.figure(figsize=(10, 5))\n",
    "plt.plot(range(1, 51), losses)\n",
    "plt.xlabel('Number of neighbors')\n",
    "plt.ylabel('Mean squared error')\n",
    "plt.show()"
   ],
   "outputs": []
  },
  {
   "cell_type": "code",
   "execution_count": 40,
   "metadata": {
    "ExecuteTime": {
     "end_time": "2024-11-29T13:02:44.935356Z",
     "start_time": "2024-11-29T13:02:44.931651Z"
    }
   },
   "source": [
    "print('Best k:', min_k)\n",
    "print('Minimum loss:', min_loss)"
   ],
   "outputs": []
  },
  {
   "cell_type": "code",
   "execution_count": 41,
   "metadata": {
    "ExecuteTime": {
     "end_time": "2024-11-29T13:03:28.119070Z",
     "start_time": "2024-11-29T13:03:28.038119Z"
    }
   },
   "source": [
    "X_train, X_test, y_train, y_test = train_test_split(X, y, test_size=0.15, random_state=42)\n",
    "\n",
    "pipeline = Pipeline([\n",
    "    ('encoder', TargetEncoder(cols=['nationality'])),\n",
    "    ('scaler', StandardScaler()),\n",
    "    ('knn', KNeighborsRegressor(n_neighbors=min_k, p=1, weights='uniform'))\n",
    "])\n",
    "pipeline.fit(X_train, y_train)"
   ],
   "outputs": []
  },
  {
   "cell_type": "code",
   "execution_count": 42,
   "metadata": {
    "ExecuteTime": {
     "end_time": "2024-11-29T13:03:31.147009Z",
     "start_time": "2024-11-29T13:03:29.197714Z"
    }
   },
   "source": [
    "print(\"===== Holdout evaluation:=====\")\n",
    "print(\"Trainig set:\")\n",
    "print_metrics(*evaluate_model(pipeline, X_train, y_train))\n",
    "\n",
    "print(\"\\nTest set:\")\n",
    "print_metrics(*evaluate_model(pipeline, X_test, y_test))\n",
    "\n",
    "print(\"\\n===== Cross-validation evaluation:=====\")\n",
    "cv_evaluate(pipeline, X, y)"
   ],
   "outputs": []
  },
  {
   "cell_type": "code",
   "execution_count": 43,
   "metadata": {},
   "source": [
    "knn = KNeighborsRegressor(n_neighbors=min_k, p=1, weights='uniform')"
   ],
   "outputs": []
  },
  {
   "cell_type": "code",
   "execution_count": 44,
   "metadata": {},
   "source": [
    "import joblib\n",
    "\n",
    "joblib.dump(knn, 'knn_model.pkl')\n",
    "print(\"Mô hình KNN đã được lưu thành công dưới tên 'knn_model.pkl'\")"
   ],
   "outputs": []
  },
  {
   "cell_type": "code",
   "execution_count": 45,
   "metadata": {},
   "source": [
    "import joblib\n",
    "\n",
    "knn = joblib.load('knn_model.pkl')\n",
    "print(\"Mô hình KNN đã được load từ file 'knn_model.pkl'\")"
   ],
   "outputs": []
  },
  {
   "cell_type": "code",
   "execution_count": 46,
   "metadata": {
    "ExecuteTime": {
     "end_time": "2024-11-29T13:05:04.956269Z",
     "start_time": "2024-11-29T13:05:04.950020Z"
    }
   },
   "source": [
    "from sklearn.model_selection import learning_curve\n",
    "\n",
    "def plot_learning_curve(estimator, X, y, cv=5, scoring=\"neg_mean_squared_error\"):\n",
    "    train_sizes, train_scores, test_scores = learning_curve(\n",
    "        estimator, X, y, cv=cv, scoring=scoring, train_sizes=np.linspace(0.1, 1.0, 10), n_jobs=-1\n",
    "    )\n",
    "\n",
    "    train_scores_mean = -np.mean(train_scores, axis=1)\n",
    "    train_scores_std = np.std(train_scores, axis=1)\n",
    "    test_scores_mean = -np.mean(test_scores, axis=1)\n",
    "    test_scores_std = np.std(test_scores, axis=1)\n",
    "\n",
    "    print(\"Train sizes:\", train_sizes)\n",
    "    print(\"Train scores mean:\", train_scores_mean)\n",
    "\n",
    "    plt.figure(figsize=(10, 6))\n",
    "    plt.plot(train_sizes, train_scores_mean, 'o-', color=\"blue\", label=\"Training score\")\n",
    "    plt.plot(train_sizes, test_scores_mean, 'o-', color=\"green\", label=\"Cross-validation score\")\n",
    "\n",
    "    # Tô bóng cho độ lệch chuẩn\n",
    "    plt.fill_between(train_sizes, train_scores_mean - train_scores_std, train_scores_mean + train_scores_std, color=\"blue\", alpha=0.1)\n",
    "    plt.fill_between(train_sizes, test_scores_mean - test_scores_std, test_scores_mean + test_scores_std, color=\"green\", alpha=0.1)\n",
    "\n",
    "    plt.xlabel(\"Training examples\")\n",
    "    plt.ylabel(\"MSE\")\n",
    "    plt.title(\"Learning Curve for KNN Regressor\")\n",
    "    plt.legend(loc=\"best\")\n",
    "    plt.grid()\n",
    "    plt.show()\n"
   ],
   "outputs": []
  },
  {
   "cell_type": "code",
   "execution_count": 47,
   "metadata": {
    "ExecuteTime": {
     "end_time": "2024-11-29T13:06:32.200340Z",
     "start_time": "2024-11-29T13:06:02.658839Z"
    }
   },
   "source": [
    "from sklearn.pipeline import Pipeline\n",
    "from sklearn.preprocessing import StandardScaler\n",
    "from sklearn.neighbors import KNeighborsRegressor\n",
    "\n",
    "pipeline = Pipeline([\n",
    "    ('encoder', TargetEncoder(cols=['nationality'])),\n",
    "    ('scaler', StandardScaler()),\n",
    "    ('knn', KNeighborsRegressor(\n",
    "        n_neighbors=min_k,\n",
    "        p=1\n",
    "    ))\n",
    "])\n",
    "\n",
    "cv = KFold(n_splits=5, shuffle=True, random_state=42)\n",
    "\n",
    "plot_learning_curve(pipeline, X, y, cv=cv, scoring='neg_mean_squared_error')"
   ],
   "outputs": []
  },
  {
   "cell_type": "markdown",
   "metadata": {},
   "source": [
    "## Modified KNN"
   ]
  },
  {
   "cell_type": "code",
   "execution_count": 48,
   "metadata": {
    "ExecuteTime": {
     "end_time": "2024-11-29T13:08:43.967077Z",
     "start_time": "2024-11-29T13:08:43.853330Z"
    }
   },
   "source": [
    "df = pd.read_csv('data.csv')\n",
    "\n",
    "X = df.drop('overall_rating', axis=1)\n",
    "y = df['overall_rating']"
   ],
   "outputs": []
  },
  {
   "cell_type": "code",
   "execution_count": 49,
   "metadata": {
    "ExecuteTime": {
     "end_time": "2024-11-29T13:10:10.318532Z",
     "start_time": "2024-11-29T13:10:10.290153Z"
    }
   },
   "source": [
    "from sklearn.model_selection import train_test_split\n",
    "\n",
    "X_train, X_test, y_train, y_test = train_test_split(X, y, test_size=0.3, random_state=42)\n",
    "X_val, X_test, y_val, y_test = train_test_split(X_test, y_test, test_size=0.5, random_state=42)"
   ],
   "outputs": []
  },
  {
   "cell_type": "code",
   "execution_count": 50,
   "metadata": {},
   "source": [
    "print(X_train.shape, X_val.shape, X_test.shape)"
   ],
   "outputs": []
  },
  {
   "cell_type": "code",
   "execution_count": 51,
   "metadata": {
    "ExecuteTime": {
     "end_time": "2024-11-29T13:10:48.765447Z",
     "start_time": "2024-11-29T13:10:48.702335Z"
    }
   },
   "source": [
    "from category_encoders import TargetEncoder\n",
    "\n",
    "encoder = TargetEncoder(cols=['nationality'])\n",
    "\n",
    "X_train = encoder.fit_transform(X_train, y_train)\n",
    "X_val = encoder.transform(X_val)"
   ],
   "outputs": []
  },
  {
   "cell_type": "code",
   "execution_count": 52,
   "metadata": {
    "ExecuteTime": {
     "end_time": "2024-11-29T13:10:49.822628Z",
     "start_time": "2024-11-29T13:10:49.786535Z"
    }
   },
   "source": [
    "X_train = np.array(X_train)\n",
    "y_train = np.array(y_train)\n",
    "X_test = np.array(X_test)"
   ],
   "outputs": []
  },
  {
   "cell_type": "code",
   "execution_count": 53,
   "metadata": {
    "ExecuteTime": {
     "end_time": "2024-11-29T13:11:32.295529Z",
     "start_time": "2024-11-29T13:11:32.233592Z"
    }
   },
   "source": [
    "# from sklearn.preprocessing import StandardScaler\n",
    "\n",
    "# scaler = StandardScaler()\n",
    "\n",
    "# X_train = scaler.fit_transform(X_train)\n",
    "# X_test = scaler.transform(X_test)"
   ],
   "outputs": []
  },
  {
   "cell_type": "code",
   "execution_count": 54,
   "metadata": {
    "ExecuteTime": {
     "end_time": "2024-11-29T13:10:50.829725Z",
     "start_time": "2024-11-29T13:10:50.825735Z"
    }
   },
   "source": [
    "X_train"
   ],
   "outputs": []
  },
  {
   "cell_type": "code",
   "execution_count": 55,
   "metadata": {
    "ExecuteTime": {
     "end_time": "2024-11-29T13:11:24.853610Z",
     "start_time": "2024-11-29T13:11:14.871513Z"
    }
   },
   "source": [
    "import numpy as np\n",
    "from sklearn.metrics import pairwise_distances\n",
    "from sklearn.model_selection import train_test_split\n",
    "from sklearn.metrics import mean_squared_error\n",
    "# Hàm tính độ hợp lệ (Validity) với ma trận khoảng cách sẵn có\n",
    "def compute_validity_regression(X_train, y_train, H=5):\n",
    "    # Tính toán ma trận khoảng cách giữa các điểm trong X_train\n",
    "    distances = pairwise_distances(X_train)\n",
    "    \n",
    "    # Khởi tạo mảng validity\n",
    "    validity = np.zeros(len(X_train))\n",
    "    \n",
    "    for i in range(len(X_train)):\n",
    "        # Lấy H láng giềng gần nhất (bỏ qua chính điểm đó)\n",
    "        nearest_neighbors = np.argpartition(distances[i], H+1)[:H+1]\n",
    "        nearest_neighbors = nearest_neighbors[nearest_neighbors != i]  # Loại bỏ chính nó\n",
    "\n",
    "        # Tính độ lệch chuẩn của giá trị mục tiêu của láng giềng\n",
    "        neighbor_targets = y_train[nearest_neighbors]\n",
    "        validity[i] = 1 / (np.std(neighbor_targets) + 0.1)  # Độ hợp lệ nghịch đảo với độ lệch chuẩn\n",
    "    \n",
    "    return validity\n",
    "\n",
    "# Hàm dự đoán với Weighted KNN cho hồi quy\n",
    "def weighted_knn_predict_regression(X_train, y_train, X_test, validity, K=5):\n",
    "    # Tính toán ma trận khoảng cách giữa X_test và X_train\n",
    "    distances = pairwise_distances(X_test, X_train)\n",
    "    \n",
    "    y_pred = []\n",
    "    \n",
    "    for i in range(len(X_test)):\n",
    "        # Lấy K láng giềng gần nhất\n",
    "        nearest_neighbors = np.argpartition(distances[i], K)[:K]\n",
    "        \n",
    "        # Tính trọng số dựa trên độ hợp lệ và khoảng cách\n",
    "        d = distances[i][nearest_neighbors]\n",
    "        weights = validity[nearest_neighbors] / (d + 0.5)\n",
    "        weighted_average = np.dot(weights, y_train[nearest_neighbors]) / weights.sum()\n",
    "        \n",
    "        y_pred.append(weighted_average)\n",
    "    \n",
    "    return np.array(y_pred)"
   ],
   "outputs": []
  },
  {
   "cell_type": "code",
   "execution_count": 56,
   "metadata": {},
   "source": [
    "# Tính độ hợp lệ cho các mẫu trong tập huấn luyện\n",
    "validity = compute_validity_regression(X_train, y_train, H=5)\n",
    "\n",
    "y_pred = weighted_knn_predict_regression(X_train, y_train, X_val, validity, K=5)"
   ],
   "outputs": []
  },
  {
   "cell_type": "code",
   "execution_count": 57,
   "metadata": {},
   "source": [
    "print(\"Validation Set:\")\n",
    "\n",
    "print(f'MAE: {mean_absolute_error(y_val, y_pred):.3f}')\n",
    "print(f'MSE: {mean_squared_error(y_val, y_pred):.3f}')\n",
    "print(f'R2 score: {r2_score(y_val, y_pred):.3f}')"
   ],
   "outputs": []
  },
  {
   "cell_type": "code",
   "execution_count": 58,
   "metadata": {
    "ExecuteTime": {
     "end_time": "2024-11-29T13:13:00.178675Z",
     "start_time": "2024-11-29T13:11:34.538869Z"
    }
   },
   "source": [
    "min_loss = float('inf')\n",
    "H_optimal = 0\n",
    "\n",
    "for H in range(1, 21):\n",
    "    validity = compute_validity_regression(X_train, y_train, H=H)\n",
    "    y_pred = weighted_knn_predict_regression(X_train, y_train, X_val, validity, K=H)\n",
    "    if mean_squared_error(y_val, y_pred) < min_loss:\n",
    "        min_loss = mean_squared_error(y_val, y_pred)\n",
    "        H_optimal = H\n",
    "\n",
    "print(H_optimal)"
   ],
   "outputs": []
  },
  {
   "cell_type": "code",
   "execution_count": 59,
   "metadata": {},
   "source": [
    "X_train, X_test, y_train, y_test = train_test_split(X, y, test_size=0.15, random_state=42)\n",
    "\n",
    "encoder = TargetEncoder(cols=['nationality'])\n",
    "X_train = encoder.fit_transform(X_train, y_train)\n",
    "X_test = encoder.transform(X_test)\n",
    "\n",
    "X_train = np.array(X_train)\n",
    "y_train = np.array(y_train)\n",
    "X_test = np.array(X_test)"
   ],
   "outputs": []
  },
  {
   "cell_type": "code",
   "execution_count": 60,
   "metadata": {
    "ExecuteTime": {
     "end_time": "2024-11-29T13:13:19.551998Z",
     "start_time": "2024-11-29T13:13:14.688599Z"
    }
   },
   "source": [
    "validity = compute_validity_regression(X_train, y_train, H=H_optimal)\n",
    "\n",
    "y_pred = weighted_knn_predict_regression(X_train, y_train, X_test, validity, K=H_optimal)"
   ],
   "outputs": []
  },
  {
   "cell_type": "code",
   "execution_count": 61,
   "metadata": {},
   "source": [
    "y_train_pred = weighted_knn_predict_regression(X_train, y_train, X_train, validity, K=H_optimal)"
   ],
   "outputs": []
  },
  {
   "cell_type": "code",
   "execution_count": 62,
   "metadata": {
    "ExecuteTime": {
     "end_time": "2024-11-29T13:13:19.562584Z",
     "start_time": "2024-11-29T13:13:19.551998Z"
    }
   },
   "source": [
    "from sklearn.metrics import mean_absolute_error, mean_squared_error, r2_score\n",
    "\n",
    "print('Training Set:')\n",
    "print(f'MAE: {mean_absolute_error(y_train, y_train_pred):.3f}')\n",
    "print(f'MSE: {mean_squared_error(y_train, y_train_pred):.3f}')\n",
    "print(f'R2 score: {r2_score(y_train, y_train_pred):.3f}')\n",
    "\n",
    "print()\n",
    "\n",
    "print('Test Set:')\n",
    "print(f'MAE: {mean_absolute_error(y_test, y_pred):.3f}')\n",
    "print(f'MSE: {mean_squared_error(y_test, y_pred):.3f}')\n",
    "print(f'R2 score: {r2_score(y_test, y_pred):.3f}')\n"
   ],
   "outputs": []
  }
 ],
 "metadata": {
  "kernelspec": {
   "display_name": "Python 3",
   "language": "python",
   "name": "python3"
  },
  "language_info": {
   "codemirror_mode": {
    "name": "ipython",
    "version": 3
   },
   "file_extension": ".py",
   "mimetype": "text/x-python",
   "name": "python",
   "nbconvert_exporter": "python",
   "pygments_lexer": "ipython3",
   "version": "3.12.6"
  }
 },
 "nbformat": 4,
 "nbformat_minor": 2
}
