{
 "cells": [
  {
   "cell_type": "code",
   "execution_count": 168,
   "metadata": {},
   "outputs": [],
   "source": [
    "import numpy as np\n",
    "import pandas as pd\n",
    "import matplotlib.pyplot as plt\n",
    "import optuna"
   ]
  },
  {
   "cell_type": "code",
   "execution_count": 169,
   "metadata": {},
   "outputs": [],
   "source": [
    "df = pd.read_csv('data.csv')"
   ]
  },
  {
   "cell_type": "code",
   "execution_count": 170,
   "metadata": {},
   "outputs": [
    {
     "name": "stdout",
     "output_type": "stream",
     "text": [
      "Index(['height_cm'], dtype='object')\n"
     ]
    }
   ],
   "source": [
    "columns_with_large_values = df.columns[(df > 100).any()]\n",
    "print(columns_with_large_values)"
   ]
  },
  {
   "cell_type": "code",
   "execution_count": 171,
   "metadata": {},
   "outputs": [],
   "source": [
    "from sklearn.preprocessing import RobustScaler\n",
    "scaler = RobustScaler()\n",
    "df['height_cm'] = scaler.fit_transform(df['height_cm'].values.reshape(-1, 1))"
   ]
  },
  {
   "cell_type": "code",
   "execution_count": 172,
   "metadata": {},
   "outputs": [],
   "source": [
    "X = df.drop('overall_rating', axis=1)\n",
    "y = df['overall_rating']"
   ]
  },
  {
   "cell_type": "code",
   "execution_count": 173,
   "metadata": {},
   "outputs": [],
   "source": [
    "from sklearn.model_selection import train_test_split\n",
    "X_train, X_test, y_train, y_test = train_test_split(X, y, test_size=1/3, random_state=42)"
   ]
  },
  {
   "cell_type": "code",
   "execution_count": 174,
   "metadata": {},
   "outputs": [
    {
     "name": "stderr",
     "output_type": "stream",
     "text": [
      "[I 2024-12-23 01:47:36,597] A new study created in memory with name: no-name-6e40ea18-60ec-4afa-bdb2-56411e6dce37\n",
      "[I 2024-12-23 01:47:36,845] Trial 0 finished with value: 0.9069756374822628 and parameters: {'n_neighbors': 24, 'p': 2, 'weights': 'distance'}. Best is trial 0 with value: 0.9069756374822628.\n",
      "[I 2024-12-23 01:47:37,039] Trial 1 finished with value: 0.9089776868602151 and parameters: {'n_neighbors': 11, 'p': 2, 'weights': 'uniform'}. Best is trial 1 with value: 0.9089776868602151.\n",
      "[I 2024-12-23 01:47:37,234] Trial 2 finished with value: 0.9098296903093225 and parameters: {'n_neighbors': 12, 'p': 2, 'weights': 'distance'}. Best is trial 2 with value: 0.9098296903093225.\n",
      "[I 2024-12-23 01:47:37,421] Trial 3 finished with value: 0.9097520544700839 and parameters: {'n_neighbors': 9, 'p': 2, 'weights': 'distance'}. Best is trial 2 with value: 0.9098296903093225.\n",
      "[I 2024-12-23 01:47:37,657] Trial 4 finished with value: 0.9072269379204162 and parameters: {'n_neighbors': 23, 'p': 2, 'weights': 'distance'}. Best is trial 2 with value: 0.9098296903093225.\n",
      "[I 2024-12-23 01:47:38,125] Trial 5 finished with value: 0.929044674539718 and parameters: {'n_neighbors': 16, 'p': 1, 'weights': 'distance'}. Best is trial 5 with value: 0.929044674539718.\n",
      "[I 2024-12-23 01:47:38,322] Trial 6 finished with value: 0.9098296903093225 and parameters: {'n_neighbors': 12, 'p': 2, 'weights': 'distance'}. Best is trial 5 with value: 0.929044674539718.\n",
      "[I 2024-12-23 01:47:38,792] Trial 7 finished with value: 0.9267726394828124 and parameters: {'n_neighbors': 21, 'p': 1, 'weights': 'uniform'}. Best is trial 5 with value: 0.929044674539718.\n",
      "[I 2024-12-23 01:47:39,219] Trial 8 finished with value: 0.9273429064387285 and parameters: {'n_neighbors': 7, 'p': 1, 'weights': 'distance'}. Best is trial 5 with value: 0.929044674539718.\n",
      "[I 2024-12-23 01:47:39,632] Trial 9 finished with value: 0.8710940700232477 and parameters: {'n_neighbors': 1, 'p': 1, 'weights': 'distance'}. Best is trial 5 with value: 0.929044674539718.\n",
      "[I 2024-12-23 01:47:40,118] Trial 10 finished with value: 0.925700388249119 and parameters: {'n_neighbors': 28, 'p': 1, 'weights': 'uniform'}. Best is trial 5 with value: 0.929044674539718.\n",
      "[I 2024-12-23 01:47:40,543] Trial 11 finished with value: 0.922717790414889 and parameters: {'n_neighbors': 4, 'p': 1, 'weights': 'distance'}. Best is trial 5 with value: 0.929044674539718.\n",
      "[I 2024-12-23 01:47:41,015] Trial 12 finished with value: 0.928827028319185 and parameters: {'n_neighbors': 18, 'p': 1, 'weights': 'distance'}. Best is trial 5 with value: 0.929044674539718.\n",
      "[I 2024-12-23 01:47:41,479] Trial 13 finished with value: 0.928827028319185 and parameters: {'n_neighbors': 18, 'p': 1, 'weights': 'distance'}. Best is trial 5 with value: 0.929044674539718.\n",
      "[I 2024-12-23 01:47:41,937] Trial 14 finished with value: 0.927919179734104 and parameters: {'n_neighbors': 18, 'p': 1, 'weights': 'uniform'}. Best is trial 5 with value: 0.929044674539718.\n",
      "[I 2024-12-23 01:47:42,409] Trial 15 finished with value: 0.929044674539718 and parameters: {'n_neighbors': 16, 'p': 1, 'weights': 'distance'}. Best is trial 5 with value: 0.929044674539718.\n",
      "[I 2024-12-23 01:47:42,875] Trial 16 finished with value: 0.9291492012041613 and parameters: {'n_neighbors': 15, 'p': 1, 'weights': 'distance'}. Best is trial 16 with value: 0.9291492012041613.\n",
      "[I 2024-12-23 01:47:43,331] Trial 17 finished with value: 0.9295409432513413 and parameters: {'n_neighbors': 14, 'p': 1, 'weights': 'distance'}. Best is trial 17 with value: 0.9295409432513413.\n",
      "[I 2024-12-23 01:47:43,783] Trial 18 finished with value: 0.928653907650564 and parameters: {'n_neighbors': 14, 'p': 1, 'weights': 'uniform'}. Best is trial 17 with value: 0.9295409432513413.\n",
      "[I 2024-12-23 01:47:44,299] Trial 19 finished with value: 0.9263194494191362 and parameters: {'n_neighbors': 30, 'p': 1, 'weights': 'distance'}. Best is trial 17 with value: 0.9295409432513413.\n",
      "[I 2024-12-23 01:47:44,740] Trial 20 finished with value: 0.9273429064387285 and parameters: {'n_neighbors': 7, 'p': 1, 'weights': 'distance'}. Best is trial 17 with value: 0.9295409432513413.\n",
      "[I 2024-12-23 01:47:45,192] Trial 21 finished with value: 0.9291492012041613 and parameters: {'n_neighbors': 15, 'p': 1, 'weights': 'distance'}. Best is trial 17 with value: 0.9295409432513413.\n",
      "[I 2024-12-23 01:47:45,667] Trial 22 finished with value: 0.9295409432513413 and parameters: {'n_neighbors': 14, 'p': 1, 'weights': 'distance'}. Best is trial 17 with value: 0.9295409432513413.\n",
      "[I 2024-12-23 01:47:46,171] Trial 23 finished with value: 0.9277408254708102 and parameters: {'n_neighbors': 21, 'p': 1, 'weights': 'distance'}. Best is trial 17 with value: 0.9295409432513413.\n",
      "[I 2024-12-23 01:47:46,622] Trial 24 finished with value: 0.9294312871760475 and parameters: {'n_neighbors': 13, 'p': 1, 'weights': 'distance'}. Best is trial 17 with value: 0.9295409432513413.\n",
      "[I 2024-12-23 01:47:47,076] Trial 25 finished with value: 0.9284271775290774 and parameters: {'n_neighbors': 9, 'p': 1, 'weights': 'distance'}. Best is trial 17 with value: 0.9295409432513413.\n",
      "[I 2024-12-23 01:47:47,530] Trial 26 finished with value: 0.9285241284637294 and parameters: {'n_neighbors': 13, 'p': 1, 'weights': 'uniform'}. Best is trial 17 with value: 0.9295409432513413.\n",
      "[I 2024-12-23 01:47:47,988] Trial 27 finished with value: 0.9286593045530062 and parameters: {'n_neighbors': 10, 'p': 1, 'weights': 'distance'}. Best is trial 17 with value: 0.9295409432513413.\n",
      "[I 2024-12-23 01:47:48,419] Trial 28 finished with value: 0.9273429064387285 and parameters: {'n_neighbors': 7, 'p': 1, 'weights': 'distance'}. Best is trial 17 with value: 0.9295409432513413.\n",
      "[I 2024-12-23 01:47:48,648] Trial 29 finished with value: 0.9083874362754744 and parameters: {'n_neighbors': 20, 'p': 2, 'weights': 'distance'}. Best is trial 17 with value: 0.9295409432513413.\n"
     ]
    }
   ],
   "source": [
    "from sklearn.neighbors import KNeighborsRegressor\n",
    "from sklearn.metrics import mean_squared_error, mean_absolute_error, r2_score\n",
    "from sklearn.model_selection import cross_val_score\n",
    "\n",
    "\n",
    "def objective(trial):\n",
    "    n_neighbors = trial.suggest_int('n_neighbors', 1, 30)\n",
    "    p = trial.suggest_int('p', 1, 2) \n",
    "    weights = trial.suggest_categorical('weights', ['uniform', 'distance'])\n",
    "\n",
    "    knn = KNeighborsRegressor(n_neighbors=n_neighbors, p=p, weights=weights , n_jobs=-1)\n",
    "    \n",
    "    score = cross_val_score(knn, X_train, y_train, cv=5, scoring='r2').mean()\n",
    "    return score\n",
    "\n",
    "study = optuna.create_study(direction='maximize')\n",
    "study.optimize(objective, n_trials=30) \n"
   ]
  },
  {
   "cell_type": "code",
   "execution_count": 175,
   "metadata": {},
   "outputs": [
    {
     "name": "stdout",
     "output_type": "stream",
     "text": [
      "Best parameters: {'n_neighbors': 14, 'p': 1, 'weights': 'distance'}\n",
      "Best accuracy: 0.9295409432513413\n"
     ]
    }
   ],
   "source": [
    "print(\"Best parameters:\", study.best_params)\n",
    "print(\"Best accuracy:\", study.best_value)"
   ]
  },
  {
   "cell_type": "code",
   "execution_count": 176,
   "metadata": {},
   "outputs": [
    {
     "name": "stdout",
     "output_type": "stream",
     "text": [
      "Train Set:\n",
      "MSE: 0.0\n",
      "MAE: 0.0\n",
      "R2: 1.0\n",
      "\n",
      "Test Set:\n",
      "MSE: 3.2719674619590497\n",
      "MAE: 1.327023662935483\n",
      "R2: 0.9294130653275741\n",
      "\n",
      "Data Set:\n",
      "MSE: 1.090591236670237\n",
      "MAE: 0.44234103466128183\n",
      "R2: 0.976660957085409\n"
     ]
    }
   ],
   "source": [
    "knn = KNeighborsRegressor(n_neighbors=study.best_params['n_neighbors'], p=study.best_params['p'], weights=study.best_params['weights'], n_jobs=-1)\n",
    "knn.fit(X_train, y_train)\n",
    "\n",
    "y_train_pred = knn.predict(X_train)\n",
    "\n",
    "y_pred = knn.predict(X_test)\n",
    "\n",
    "y_data = knn.predict(X)\n",
    "\n",
    "print('Train Set:')\n",
    "print(f'MSE: {mean_squared_error(y_train, y_train_pred)}')\n",
    "print(f'MAE: {mean_absolute_error(y_train, y_train_pred)}')\n",
    "print(f'R2: {r2_score(y_train, y_train_pred)}')\n",
    "\n",
    "print()\n",
    "\n",
    "print('Test Set:')\n",
    "print(f'MSE: {mean_squared_error(y_test, y_pred)}')\n",
    "print(f'MAE: {mean_absolute_error(y_test, y_pred)}')\n",
    "print(f'R2: {r2_score(y_test, y_pred)}')\n",
    "\n",
    "print()\n",
    "\n",
    "print('Data Set:')\n",
    "print(f'MSE: {mean_squared_error(y, y_data)}')\n",
    "print(f'MAE: {mean_absolute_error(y, y_data)}')\n",
    "print(f'R2: {r2_score(y, y_data)}')"
   ]
  }
 ],
 "metadata": {
  "kernelspec": {
   "display_name": "Python 3",
   "language": "python",
   "name": "python3"
  },
  "language_info": {
   "codemirror_mode": {
    "name": "ipython",
    "version": 3
   },
   "file_extension": ".py",
   "mimetype": "text/x-python",
   "name": "python",
   "nbconvert_exporter": "python",
   "pygments_lexer": "ipython3",
   "version": "3.11.9"
  }
 },
 "nbformat": 4,
 "nbformat_minor": 2
}
