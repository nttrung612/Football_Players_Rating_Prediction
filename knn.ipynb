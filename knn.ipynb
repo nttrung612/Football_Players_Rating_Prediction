{
 "cells": [
  {
   "cell_type": "code",
   "execution_count": 118,
   "metadata": {},
   "outputs": [],
   "source": [
    "import numpy as np\n",
    "import pandas as pd\n",
    "import matplotlib.pyplot as plt\n",
    "import optuna"
   ]
  },
  {
   "cell_type": "code",
   "execution_count": 119,
   "metadata": {},
   "outputs": [],
   "source": [
    "df = pd.read_csv('data.csv')"
   ]
  },
  {
   "cell_type": "code",
   "execution_count": 120,
   "metadata": {},
   "outputs": [],
   "source": [
    "X = df.drop('overall_rating', axis=1)\n",
    "y = df['overall_rating']"
   ]
  },
  {
   "cell_type": "code",
   "execution_count": 121,
   "metadata": {},
   "outputs": [],
   "source": [
    "from sklearn.model_selection import train_test_split\n",
    "X_train, X_test, y_train, y_test = train_test_split(X, y, test_size=1/3, random_state=42)"
   ]
  },
  {
   "cell_type": "code",
   "execution_count": 122,
   "metadata": {},
   "outputs": [],
   "source": [
    "from sklearn.metrics import mean_squared_error, mean_absolute_error, r2_score\n",
    "\n",
    "def evaluate_model(model, X, y):\n",
    "    y_pred = model.predict(X)\n",
    "    mse = mean_squared_error(y, y_pred)\n",
    "    mae = mean_absolute_error(y, y_pred)\n",
    "    r2 = r2_score(y, y_pred)\n",
    "    return mse, mae, r2\n",
    "\n",
    "def print_metrics(mse, mae, r2):\n",
    "    print(f'MSE: {mse:.3f}')\n",
    "    print(f'MAE: {mae:.3f}')\n",
    "    print(f'R2: {r2:.3f}')"
   ]
  },
  {
   "cell_type": "code",
   "execution_count": 123,
   "metadata": {},
   "outputs": [],
   "source": [
    "from sklearn.model_selection import cross_validate\n",
    "from sklearn.metrics import make_scorer\n",
    "from sklearn.metrics import r2_score, mean_absolute_error, mean_squared_error\n",
    "from sklearn.model_selection import KFold\n",
    "\n",
    "def cv_evaluate(model, X, y):\n",
    "    cv = KFold(n_splits=5, shuffle=True, random_state=42)\n",
    "\n",
    "    scoring = {\n",
    "        'r2': make_scorer(r2_score),\n",
    "        'mae': make_scorer(mean_absolute_error),\n",
    "        'mse': make_scorer(mean_squared_error)\n",
    "    }\n",
    "    cv_results = cross_validate(model, X, y, cv=cv, scoring=scoring, return_train_score=False)\n",
    "\n",
    "    for key in cv_results.keys():\n",
    "        if key in ['fit_time', 'score_time']:\n",
    "            continue\n",
    "        print(f\"{key}: {cv_results[key]}\")\n",
    "        print(f\"{key} trung bình: {cv_results[key].mean():.3f} ± {cv_results[key].std():.3f}\")\n",
    "        print()"
   ]
  },
  {
   "cell_type": "code",
   "execution_count": 124,
   "metadata": {},
   "outputs": [
    {
     "name": "stdout",
     "output_type": "stream",
     "text": [
      "===== Holdout evaluation:=====\n",
      "Trainig set:\n",
      "MSE: 6.700\n",
      "MAE: 1.968\n",
      "R2: 0.862\n",
      "\n",
      "Test set:\n",
      "MSE: 10.104\n",
      "MAE: 2.406\n",
      "R2: 0.789\n",
      "\n",
      "===== Cross-validation evaluation:=====\n",
      "test_r2: [0.8023281  0.79517177 0.79653998 0.78845099 0.79209159]\n",
      "test_r2 trung bình: 0.795 ± 0.005\n",
      "\n",
      "test_mae: [2.35041783 2.35721448 2.3848983  2.38161048 2.40462524]\n",
      "test_mae trung bình: 2.376 ± 0.020\n",
      "\n",
      "test_mse: [ 9.61192201  9.85071866  9.84955141  9.99168571 10.20824742]\n",
      "test_mse trung bình: 9.902 ± 0.196\n",
      "\n"
     ]
    }
   ],
   "source": [
    "from sklearn.pipeline import Pipeline\n",
    "from category_encoders import TargetEncoder\n",
    "from sklearn.neighbors import KNeighborsRegressor\n",
    "from sklearn.preprocessing import StandardScaler\n",
    "preprocessor = Pipeline([\n",
    "    ('te', TargetEncoder(cols=['nationality'])),\n",
    "    ('scaler', StandardScaler())\n",
    "])\n",
    "knn = KNeighborsRegressor(n_neighbors=5)\n",
    "pipeline = Pipeline([\n",
    "    ('preprocessor', preprocessor),\n",
    "    ('model', knn)\n",
    "])\n",
    "pipeline.fit(X_train, y_train)\n",
    "print(\"===== Holdout evaluation:=====\")\n",
    "print(\"Trainig set:\")\n",
    "print_metrics(*evaluate_model(pipeline, X_train, y_train))\n",
    "\n",
    "print(\"\\nTest set:\")\n",
    "print_metrics(*evaluate_model(pipeline, X_test, y_test))\n",
    "\n",
    "print(\"\\n===== Cross-validation evaluation:=====\")\n",
    "cv_evaluate(pipeline, X, y)"
   ]
  },
  {
   "cell_type": "code",
   "execution_count": 125,
   "metadata": {},
   "outputs": [
    {
     "name": "stderr",
     "output_type": "stream",
     "text": [
      "[I 2024-12-24 00:36:58,337] A new study created in memory with name: no-name-5f7ab4dc-8d92-4372-af40-02ef8faa3de6\n",
      "[I 2024-12-24 00:36:58,796] Trial 0 finished with value: 0.6149758841642835 and parameters: {'n_neighbors': 1, 'p': 2, 'weights': 'distance'}. Best is trial 0 with value: 0.6149758841642835.\n",
      "[I 2024-12-24 00:36:59,300] Trial 1 finished with value: 0.7968524756778862 and parameters: {'n_neighbors': 10, 'p': 2, 'weights': 'uniform'}. Best is trial 1 with value: 0.7968524756778862.\n",
      "[I 2024-12-24 00:36:59,820] Trial 2 finished with value: 0.7921669158677576 and parameters: {'n_neighbors': 18, 'p': 2, 'weights': 'uniform'}. Best is trial 1 with value: 0.7968524756778862.\n",
      "[I 2024-12-24 00:37:00,342] Trial 3 finished with value: 0.7886958010701619 and parameters: {'n_neighbors': 22, 'p': 2, 'weights': 'uniform'}. Best is trial 1 with value: 0.7968524756778862.\n",
      "[I 2024-12-24 00:37:01,156] Trial 4 finished with value: 0.8515005212015445 and parameters: {'n_neighbors': 10, 'p': 1, 'weights': 'uniform'}. Best is trial 4 with value: 0.8515005212015445.\n",
      "[I 2024-12-24 00:37:01,915] Trial 5 finished with value: 0.8360301913907998 and parameters: {'n_neighbors': 4, 'p': 1, 'weights': 'distance'}. Best is trial 4 with value: 0.8515005212015445.\n",
      "[I 2024-12-24 00:37:02,767] Trial 6 finished with value: 0.8503430570342854 and parameters: {'n_neighbors': 24, 'p': 1, 'weights': 'uniform'}. Best is trial 4 with value: 0.8515005212015445.\n",
      "[I 2024-12-24 00:37:03,252] Trial 7 finished with value: 0.7834214270429369 and parameters: {'n_neighbors': 5, 'p': 2, 'weights': 'uniform'}. Best is trial 4 with value: 0.8515005212015445.\n",
      "[I 2024-12-24 00:37:03,747] Trial 8 finished with value: 0.7610073469935252 and parameters: {'n_neighbors': 3, 'p': 2, 'weights': 'uniform'}. Best is trial 4 with value: 0.8515005212015445.\n",
      "[I 2024-12-24 00:37:04,210] Trial 9 finished with value: 0.7961254655713885 and parameters: {'n_neighbors': 12, 'p': 2, 'weights': 'uniform'}. Best is trial 4 with value: 0.8515005212015445.\n",
      "[I 2024-12-24 00:37:05,119] Trial 10 finished with value: 0.8501532603098682 and parameters: {'n_neighbors': 30, 'p': 1, 'weights': 'distance'}. Best is trial 4 with value: 0.8515005212015445.\n",
      "[I 2024-12-24 00:37:05,961] Trial 11 finished with value: 0.8500152892983308 and parameters: {'n_neighbors': 25, 'p': 1, 'weights': 'uniform'}. Best is trial 4 with value: 0.8515005212015445.\n",
      "[I 2024-12-24 00:37:06,791] Trial 12 finished with value: 0.8526469495822451 and parameters: {'n_neighbors': 14, 'p': 1, 'weights': 'uniform'}. Best is trial 12 with value: 0.8526469495822451.\n",
      "[I 2024-12-24 00:37:07,593] Trial 13 finished with value: 0.8525721333518483 and parameters: {'n_neighbors': 13, 'p': 1, 'weights': 'uniform'}. Best is trial 12 with value: 0.8526469495822451.\n",
      "[I 2024-12-24 00:37:08,400] Trial 14 finished with value: 0.8540391440176599 and parameters: {'n_neighbors': 16, 'p': 1, 'weights': 'distance'}. Best is trial 14 with value: 0.8540391440176599.\n",
      "[I 2024-12-24 00:37:09,244] Trial 15 finished with value: 0.8545011782769718 and parameters: {'n_neighbors': 17, 'p': 1, 'weights': 'distance'}. Best is trial 15 with value: 0.8545011782769718.\n",
      "[I 2024-12-24 00:37:10,158] Trial 16 finished with value: 0.8537529790751639 and parameters: {'n_neighbors': 19, 'p': 1, 'weights': 'distance'}. Best is trial 15 with value: 0.8545011782769718.\n",
      "[I 2024-12-24 00:37:11,045] Trial 17 finished with value: 0.8538764873279913 and parameters: {'n_neighbors': 18, 'p': 1, 'weights': 'distance'}. Best is trial 15 with value: 0.8545011782769718.\n",
      "[I 2024-12-24 00:37:11,856] Trial 18 finished with value: 0.8522142078294745 and parameters: {'n_neighbors': 8, 'p': 1, 'weights': 'distance'}. Best is trial 15 with value: 0.8545011782769718.\n",
      "[I 2024-12-24 00:37:12,736] Trial 19 finished with value: 0.8540391440176599 and parameters: {'n_neighbors': 16, 'p': 1, 'weights': 'distance'}. Best is trial 15 with value: 0.8545011782769718.\n",
      "[I 2024-12-24 00:37:13,632] Trial 20 finished with value: 0.8534370904445515 and parameters: {'n_neighbors': 21, 'p': 1, 'weights': 'distance'}. Best is trial 15 with value: 0.8545011782769718.\n",
      "[I 2024-12-24 00:37:14,488] Trial 21 finished with value: 0.8543503061241026 and parameters: {'n_neighbors': 15, 'p': 1, 'weights': 'distance'}. Best is trial 15 with value: 0.8545011782769718.\n",
      "[I 2024-12-24 00:37:15,310] Trial 22 finished with value: 0.8540391440176599 and parameters: {'n_neighbors': 16, 'p': 1, 'weights': 'distance'}. Best is trial 15 with value: 0.8545011782769718.\n",
      "[I 2024-12-24 00:37:16,188] Trial 23 finished with value: 0.8543503061241026 and parameters: {'n_neighbors': 15, 'p': 1, 'weights': 'distance'}. Best is trial 15 with value: 0.8545011782769718.\n",
      "[I 2024-12-24 00:37:16,989] Trial 24 finished with value: 0.8522142078294745 and parameters: {'n_neighbors': 8, 'p': 1, 'weights': 'distance'}. Best is trial 15 with value: 0.8545011782769718.\n",
      "[I 2024-12-24 00:37:17,877] Trial 25 finished with value: 0.8537294785093122 and parameters: {'n_neighbors': 20, 'p': 1, 'weights': 'distance'}. Best is trial 15 with value: 0.8545011782769718.\n",
      "[I 2024-12-24 00:37:18,716] Trial 26 finished with value: 0.8544214647631255 and parameters: {'n_neighbors': 14, 'p': 1, 'weights': 'distance'}. Best is trial 15 with value: 0.8545011782769718.\n",
      "[I 2024-12-24 00:37:19,534] Trial 27 finished with value: 0.8531677842770676 and parameters: {'n_neighbors': 11, 'p': 1, 'weights': 'distance'}. Best is trial 15 with value: 0.8545011782769718.\n",
      "[I 2024-12-24 00:37:20,442] Trial 28 finished with value: 0.8509574308455761 and parameters: {'n_neighbors': 28, 'p': 1, 'weights': 'distance'}. Best is trial 15 with value: 0.8545011782769718.\n",
      "[I 2024-12-24 00:37:21,264] Trial 29 finished with value: 0.8503967364899238 and parameters: {'n_neighbors': 7, 'p': 1, 'weights': 'distance'}. Best is trial 15 with value: 0.8545011782769718.\n"
     ]
    }
   ],
   "source": [
    "from sklearn.neighbors import KNeighborsRegressor\n",
    "from sklearn.metrics import mean_squared_error, mean_absolute_error, r2_score\n",
    "from sklearn.model_selection import cross_val_score\n",
    "\n",
    "\n",
    "def objective(trial):\n",
    "    n_neighbors = trial.suggest_int('n_neighbors', 1, 30)\n",
    "    p = trial.suggest_int('p', 1, 2) \n",
    "    weights = trial.suggest_categorical('weights', ['uniform', 'distance'])\n",
    "    pipeline.set_params(\n",
    "    model__n_neighbors=n_neighbors,\n",
    "    model__p=p,\n",
    "    model__weights=weights,\n",
    "    model__n_jobs = -1\n",
    "    )\n",
    "    score = cross_val_score(pipeline , X_train, y_train, cv=5, scoring='r2').mean()\n",
    "    return score\n",
    "\n",
    "study = optuna.create_study(direction='maximize')\n",
    "study.optimize(objective, n_trials=30) "
   ]
  },
  {
   "cell_type": "code",
   "execution_count": 126,
   "metadata": {},
   "outputs": [
    {
     "name": "stdout",
     "output_type": "stream",
     "text": [
      "Best parameters: {'n_neighbors': 17, 'p': 1, 'weights': 'distance'}\n",
      "Best R2: 0.8545011782769718\n"
     ]
    }
   ],
   "source": [
    "print(\"Best parameters:\", study.best_params)\n",
    "print(\"Best R2:\", study.best_value)"
   ]
  },
  {
   "cell_type": "code",
   "execution_count": 127,
   "metadata": {},
   "outputs": [
    {
     "name": "stdout",
     "output_type": "stream",
     "text": [
      "Train Set:\n",
      "MSE: 0.0\n",
      "MAE: 0.0\n",
      "R2: 1.0\n",
      "\n",
      "Test Set:\n",
      "MSE: 6.881855912001691\n",
      "MAE: 1.896911083589994\n",
      "R2: 0.8562366106114225\n",
      "\n",
      "Data Set:\n",
      "MSE: 2.2942076069262893\n",
      "MAE: 0.6323741579717465\n",
      "R2: 0.952515882948851\n"
     ]
    }
   ],
   "source": [
    "pipeline.set_params(\n",
    "model__n_neighbors=study.best_params['n_neighbors'],\n",
    "model__p=study.best_params['p'],\n",
    "model__weights=study.best_params['weights'],\n",
    "model__n_jobs = -1\n",
    ")\n",
    "\n",
    "pipeline.fit(X_train, y_train)\n",
    "\n",
    "y_train_pred = pipeline.predict(X_train)\n",
    "\n",
    "y_pred = pipeline.predict(X_test)\n",
    "\n",
    "y_data = pipeline.predict(X)\n",
    "\n",
    "print('Train Set:')\n",
    "print(f'MSE: {mean_squared_error(y_train, y_train_pred)}')\n",
    "print(f'MAE: {mean_absolute_error(y_train, y_train_pred)}')\n",
    "print(f'R2: {r2_score(y_train, y_train_pred)}')\n",
    "\n",
    "print()\n",
    "\n",
    "print('Test Set:')\n",
    "print(f'MSE: {mean_squared_error(y_test, y_pred)}')\n",
    "print(f'MAE: {mean_absolute_error(y_test, y_pred)}')\n",
    "print(f'R2: {r2_score(y_test, y_pred)}')\n",
    "\n",
    "print()\n",
    "\n",
    "print('Data Set:')\n",
    "print(f'MSE: {mean_squared_error(y, y_data)}')\n",
    "print(f'MAE: {mean_absolute_error(y, y_data)}')\n",
    "print(f'R2: {r2_score(y, y_data)}')"
   ]
  }
 ],
 "metadata": {
  "kernelspec": {
   "display_name": "Python 3",
   "language": "python",
   "name": "python3"
  },
  "language_info": {
   "codemirror_mode": {
    "name": "ipython",
    "version": 3
   },
   "file_extension": ".py",
   "mimetype": "text/x-python",
   "name": "python",
   "nbconvert_exporter": "python",
   "pygments_lexer": "ipython3",
   "version": "3.11.9"
  }
 },
 "nbformat": 4,
 "nbformat_minor": 2
}
